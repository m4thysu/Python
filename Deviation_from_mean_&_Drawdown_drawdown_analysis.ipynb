{
 "cells": [
  {
   "cell_type": "code",
   "execution_count": 2,
   "id": "138dba16-61f5-4467-8f42-ac470f039beb",
   "metadata": {},
   "outputs": [],
   "source": [
    "import pandas as pd\n",
    "prices = pd.DataFrame ({\"BLUE\": [8.70, 8.91, 8.71, 8.43, 8.73],\n",
    "        \"ORANGE\": [10.66, 11.08, 10.71, 11.59, 12.11]})"
   ]
  },
  {
   "cell_type": "code",
   "execution_count": 25,
   "id": "a751885c-10d8-4cbb-873e-aa0100c86b45",
   "metadata": {},
   "outputs": [
    {
     "data": {
      "text/html": [
       "<div>\n",
       "<style scoped>\n",
       "    .dataframe tbody tr th:only-of-type {\n",
       "        vertical-align: middle;\n",
       "    }\n",
       "\n",
       "    .dataframe tbody tr th {\n",
       "        vertical-align: top;\n",
       "    }\n",
       "\n",
       "    .dataframe thead th {\n",
       "        text-align: right;\n",
       "    }\n",
       "</style>\n",
       "<table border=\"1\" class=\"dataframe\">\n",
       "  <thead>\n",
       "    <tr style=\"text-align: right;\">\n",
       "      <th></th>\n",
       "      <th>BLUE</th>\n",
       "      <th>ORANGE</th>\n",
       "    </tr>\n",
       "  </thead>\n",
       "  <tbody>\n",
       "    <tr>\n",
       "      <th>0</th>\n",
       "      <td>8.70</td>\n",
       "      <td>10.66</td>\n",
       "    </tr>\n",
       "    <tr>\n",
       "      <th>1</th>\n",
       "      <td>8.91</td>\n",
       "      <td>11.08</td>\n",
       "    </tr>\n",
       "    <tr>\n",
       "      <th>2</th>\n",
       "      <td>8.71</td>\n",
       "      <td>10.71</td>\n",
       "    </tr>\n",
       "    <tr>\n",
       "      <th>3</th>\n",
       "      <td>8.43</td>\n",
       "      <td>11.59</td>\n",
       "    </tr>\n",
       "    <tr>\n",
       "      <th>4</th>\n",
       "      <td>8.73</td>\n",
       "      <td>12.11</td>\n",
       "    </tr>\n",
       "  </tbody>\n",
       "</table>\n",
       "</div>"
      ],
      "text/plain": [
       "   BLUE  ORANGE\n",
       "0  8.70   10.66\n",
       "1  8.91   11.08\n",
       "2  8.71   10.71\n",
       "3  8.43   11.59\n",
       "4  8.73   12.11"
      ]
     },
     "execution_count": 25,
     "metadata": {},
     "output_type": "execute_result"
    }
   ],
   "source": [
    "prices"
   ]
  },
  {
   "cell_type": "code",
   "execution_count": 27,
   "id": "e9229964-c5ef-496f-989c-07da3880e06c",
   "metadata": {},
   "outputs": [
    {
     "data": {
      "text/html": [
       "<div>\n",
       "<style scoped>\n",
       "    .dataframe tbody tr th:only-of-type {\n",
       "        vertical-align: middle;\n",
       "    }\n",
       "\n",
       "    .dataframe tbody tr th {\n",
       "        vertical-align: top;\n",
       "    }\n",
       "\n",
       "    .dataframe thead th {\n",
       "        text-align: right;\n",
       "    }\n",
       "</style>\n",
       "<table border=\"1\" class=\"dataframe\">\n",
       "  <thead>\n",
       "    <tr style=\"text-align: right;\">\n",
       "      <th></th>\n",
       "      <th>BLUE</th>\n",
       "      <th>ORANGE</th>\n",
       "    </tr>\n",
       "  </thead>\n",
       "  <tbody>\n",
       "    <tr>\n",
       "      <th>1</th>\n",
       "      <td>8.91</td>\n",
       "      <td>11.08</td>\n",
       "    </tr>\n",
       "    <tr>\n",
       "      <th>2</th>\n",
       "      <td>8.71</td>\n",
       "      <td>10.71</td>\n",
       "    </tr>\n",
       "    <tr>\n",
       "      <th>3</th>\n",
       "      <td>8.43</td>\n",
       "      <td>11.59</td>\n",
       "    </tr>\n",
       "    <tr>\n",
       "      <th>4</th>\n",
       "      <td>8.73</td>\n",
       "      <td>12.11</td>\n",
       "    </tr>\n",
       "  </tbody>\n",
       "</table>\n",
       "</div>"
      ],
      "text/plain": [
       "   BLUE  ORANGE\n",
       "1  8.91   11.08\n",
       "2  8.71   10.71\n",
       "3  8.43   11.59\n",
       "4  8.73   12.11"
      ]
     },
     "execution_count": 27,
     "metadata": {},
     "output_type": "execute_result"
    }
   ],
   "source": [
    "prices.iloc[1:]"
   ]
  },
  {
   "cell_type": "code",
   "execution_count": 28,
   "id": "c6365de6-ca26-4247-847f-ef424874f6d3",
   "metadata": {},
   "outputs": [
    {
     "data": {
      "text/html": [
       "<div>\n",
       "<style scoped>\n",
       "    .dataframe tbody tr th:only-of-type {\n",
       "        vertical-align: middle;\n",
       "    }\n",
       "\n",
       "    .dataframe tbody tr th {\n",
       "        vertical-align: top;\n",
       "    }\n",
       "\n",
       "    .dataframe thead th {\n",
       "        text-align: right;\n",
       "    }\n",
       "</style>\n",
       "<table border=\"1\" class=\"dataframe\">\n",
       "  <thead>\n",
       "    <tr style=\"text-align: right;\">\n",
       "      <th></th>\n",
       "      <th>BLUE</th>\n",
       "      <th>ORANGE</th>\n",
       "    </tr>\n",
       "  </thead>\n",
       "  <tbody>\n",
       "    <tr>\n",
       "      <th>0</th>\n",
       "      <td>8.70</td>\n",
       "      <td>10.66</td>\n",
       "    </tr>\n",
       "    <tr>\n",
       "      <th>1</th>\n",
       "      <td>8.91</td>\n",
       "      <td>11.08</td>\n",
       "    </tr>\n",
       "    <tr>\n",
       "      <th>2</th>\n",
       "      <td>8.71</td>\n",
       "      <td>10.71</td>\n",
       "    </tr>\n",
       "    <tr>\n",
       "      <th>3</th>\n",
       "      <td>8.43</td>\n",
       "      <td>11.59</td>\n",
       "    </tr>\n",
       "  </tbody>\n",
       "</table>\n",
       "</div>"
      ],
      "text/plain": [
       "   BLUE  ORANGE\n",
       "0  8.70   10.66\n",
       "1  8.91   11.08\n",
       "2  8.71   10.71\n",
       "3  8.43   11.59"
      ]
     },
     "execution_count": 28,
     "metadata": {},
     "output_type": "execute_result"
    }
   ],
   "source": [
    "prices.iloc[:-1]"
   ]
  },
  {
   "cell_type": "code",
   "execution_count": 30,
   "id": "50eb1c41-ceba-45ff-944f-1ff0485b1745",
   "metadata": {},
   "outputs": [
    {
     "data": {
      "text/html": [
       "<div>\n",
       "<style scoped>\n",
       "    .dataframe tbody tr th:only-of-type {\n",
       "        vertical-align: middle;\n",
       "    }\n",
       "\n",
       "    .dataframe tbody tr th {\n",
       "        vertical-align: top;\n",
       "    }\n",
       "\n",
       "    .dataframe thead th {\n",
       "        text-align: right;\n",
       "    }\n",
       "</style>\n",
       "<table border=\"1\" class=\"dataframe\">\n",
       "  <thead>\n",
       "    <tr style=\"text-align: right;\">\n",
       "      <th></th>\n",
       "      <th>BLUE</th>\n",
       "      <th>ORANGE</th>\n",
       "    </tr>\n",
       "  </thead>\n",
       "  <tbody>\n",
       "    <tr>\n",
       "      <th>0</th>\n",
       "      <td>NaN</td>\n",
       "      <td>NaN</td>\n",
       "    </tr>\n",
       "    <tr>\n",
       "      <th>1</th>\n",
       "      <td>1.0</td>\n",
       "      <td>1.0</td>\n",
       "    </tr>\n",
       "    <tr>\n",
       "      <th>2</th>\n",
       "      <td>1.0</td>\n",
       "      <td>1.0</td>\n",
       "    </tr>\n",
       "    <tr>\n",
       "      <th>3</th>\n",
       "      <td>1.0</td>\n",
       "      <td>1.0</td>\n",
       "    </tr>\n",
       "    <tr>\n",
       "      <th>4</th>\n",
       "      <td>NaN</td>\n",
       "      <td>NaN</td>\n",
       "    </tr>\n",
       "  </tbody>\n",
       "</table>\n",
       "</div>"
      ],
      "text/plain": [
       "   BLUE  ORANGE\n",
       "0   NaN     NaN\n",
       "1   1.0     1.0\n",
       "2   1.0     1.0\n",
       "3   1.0     1.0\n",
       "4   NaN     NaN"
      ]
     },
     "execution_count": 30,
     "metadata": {},
     "output_type": "execute_result"
    }
   ],
   "source": [
    "prices.iloc[1:]/prices.iloc[:-1]"
   ]
  },
  {
   "cell_type": "code",
   "execution_count": 31,
   "id": "bbefb8cc-f4a3-4171-9d9e-6f5b0173d39e",
   "metadata": {},
   "outputs": [
    {
     "data": {
      "text/html": [
       "<div>\n",
       "<style scoped>\n",
       "    .dataframe tbody tr th:only-of-type {\n",
       "        vertical-align: middle;\n",
       "    }\n",
       "\n",
       "    .dataframe tbody tr th {\n",
       "        vertical-align: top;\n",
       "    }\n",
       "\n",
       "    .dataframe thead th {\n",
       "        text-align: right;\n",
       "    }\n",
       "</style>\n",
       "<table border=\"1\" class=\"dataframe\">\n",
       "  <thead>\n",
       "    <tr style=\"text-align: right;\">\n",
       "      <th></th>\n",
       "      <th>BLUE</th>\n",
       "      <th>ORANGE</th>\n",
       "    </tr>\n",
       "  </thead>\n",
       "  <tbody>\n",
       "    <tr>\n",
       "      <th>0</th>\n",
       "      <td>1.024138</td>\n",
       "      <td>1.039400</td>\n",
       "    </tr>\n",
       "    <tr>\n",
       "      <th>1</th>\n",
       "      <td>0.977553</td>\n",
       "      <td>0.966606</td>\n",
       "    </tr>\n",
       "    <tr>\n",
       "      <th>2</th>\n",
       "      <td>0.967853</td>\n",
       "      <td>1.082166</td>\n",
       "    </tr>\n",
       "    <tr>\n",
       "      <th>3</th>\n",
       "      <td>1.035587</td>\n",
       "      <td>1.044866</td>\n",
       "    </tr>\n",
       "  </tbody>\n",
       "</table>\n",
       "</div>"
      ],
      "text/plain": [
       "       BLUE    ORANGE\n",
       "0  1.024138  1.039400\n",
       "1  0.977553  0.966606\n",
       "2  0.967853  1.082166\n",
       "3  1.035587  1.044866"
      ]
     },
     "execution_count": 31,
     "metadata": {},
     "output_type": "execute_result"
    }
   ],
   "source": [
    "prices.iloc[1:].values/prices.iloc[:-1]"
   ]
  },
  {
   "cell_type": "code",
   "execution_count": 32,
   "id": "7e63d96e-93c2-41cb-9d5c-51a2164dbf4f",
   "metadata": {},
   "outputs": [
    {
     "data": {
      "text/html": [
       "<div>\n",
       "<style scoped>\n",
       "    .dataframe tbody tr th:only-of-type {\n",
       "        vertical-align: middle;\n",
       "    }\n",
       "\n",
       "    .dataframe tbody tr th {\n",
       "        vertical-align: top;\n",
       "    }\n",
       "\n",
       "    .dataframe thead th {\n",
       "        text-align: right;\n",
       "    }\n",
       "</style>\n",
       "<table border=\"1\" class=\"dataframe\">\n",
       "  <thead>\n",
       "    <tr style=\"text-align: right;\">\n",
       "      <th></th>\n",
       "      <th>BLUE</th>\n",
       "      <th>ORANGE</th>\n",
       "    </tr>\n",
       "  </thead>\n",
       "  <tbody>\n",
       "    <tr>\n",
       "      <th>0</th>\n",
       "      <td>0.024138</td>\n",
       "      <td>0.039400</td>\n",
       "    </tr>\n",
       "    <tr>\n",
       "      <th>1</th>\n",
       "      <td>-0.022447</td>\n",
       "      <td>-0.033394</td>\n",
       "    </tr>\n",
       "    <tr>\n",
       "      <th>2</th>\n",
       "      <td>-0.032147</td>\n",
       "      <td>0.082166</td>\n",
       "    </tr>\n",
       "    <tr>\n",
       "      <th>3</th>\n",
       "      <td>0.035587</td>\n",
       "      <td>0.044866</td>\n",
       "    </tr>\n",
       "  </tbody>\n",
       "</table>\n",
       "</div>"
      ],
      "text/plain": [
       "       BLUE    ORANGE\n",
       "0  0.024138  0.039400\n",
       "1 -0.022447 -0.033394\n",
       "2 -0.032147  0.082166\n",
       "3  0.035587  0.044866"
      ]
     },
     "execution_count": 32,
     "metadata": {},
     "output_type": "execute_result"
    }
   ],
   "source": [
    "prices.iloc[1:].values/prices.iloc[:-1]-1"
   ]
  },
  {
   "cell_type": "code",
   "execution_count": 33,
   "id": "8020b701-a5fb-44c3-8e29-e580d8607d63",
   "metadata": {},
   "outputs": [
    {
     "data": {
      "text/html": [
       "<div>\n",
       "<style scoped>\n",
       "    .dataframe tbody tr th:only-of-type {\n",
       "        vertical-align: middle;\n",
       "    }\n",
       "\n",
       "    .dataframe tbody tr th {\n",
       "        vertical-align: top;\n",
       "    }\n",
       "\n",
       "    .dataframe thead th {\n",
       "        text-align: right;\n",
       "    }\n",
       "</style>\n",
       "<table border=\"1\" class=\"dataframe\">\n",
       "  <thead>\n",
       "    <tr style=\"text-align: right;\">\n",
       "      <th></th>\n",
       "      <th>BLUE</th>\n",
       "      <th>ORANGE</th>\n",
       "    </tr>\n",
       "  </thead>\n",
       "  <tbody>\n",
       "    <tr>\n",
       "      <th>0</th>\n",
       "      <td>8.70</td>\n",
       "      <td>10.66</td>\n",
       "    </tr>\n",
       "    <tr>\n",
       "      <th>1</th>\n",
       "      <td>8.91</td>\n",
       "      <td>11.08</td>\n",
       "    </tr>\n",
       "    <tr>\n",
       "      <th>2</th>\n",
       "      <td>8.71</td>\n",
       "      <td>10.71</td>\n",
       "    </tr>\n",
       "    <tr>\n",
       "      <th>3</th>\n",
       "      <td>8.43</td>\n",
       "      <td>11.59</td>\n",
       "    </tr>\n",
       "    <tr>\n",
       "      <th>4</th>\n",
       "      <td>8.73</td>\n",
       "      <td>12.11</td>\n",
       "    </tr>\n",
       "  </tbody>\n",
       "</table>\n",
       "</div>"
      ],
      "text/plain": [
       "   BLUE  ORANGE\n",
       "0  8.70   10.66\n",
       "1  8.91   11.08\n",
       "2  8.71   10.71\n",
       "3  8.43   11.59\n",
       "4  8.73   12.11"
      ]
     },
     "execution_count": 33,
     "metadata": {},
     "output_type": "execute_result"
    }
   ],
   "source": [
    "prices"
   ]
  },
  {
   "cell_type": "code",
   "execution_count": 34,
   "id": "af319811-1fdc-4465-bbdf-778e3647da8d",
   "metadata": {},
   "outputs": [
    {
     "data": {
      "text/html": [
       "<div>\n",
       "<style scoped>\n",
       "    .dataframe tbody tr th:only-of-type {\n",
       "        vertical-align: middle;\n",
       "    }\n",
       "\n",
       "    .dataframe tbody tr th {\n",
       "        vertical-align: top;\n",
       "    }\n",
       "\n",
       "    .dataframe thead th {\n",
       "        text-align: right;\n",
       "    }\n",
       "</style>\n",
       "<table border=\"1\" class=\"dataframe\">\n",
       "  <thead>\n",
       "    <tr style=\"text-align: right;\">\n",
       "      <th></th>\n",
       "      <th>BLUE</th>\n",
       "      <th>ORANGE</th>\n",
       "    </tr>\n",
       "  </thead>\n",
       "  <tbody>\n",
       "    <tr>\n",
       "      <th>0</th>\n",
       "      <td>NaN</td>\n",
       "      <td>NaN</td>\n",
       "    </tr>\n",
       "    <tr>\n",
       "      <th>1</th>\n",
       "      <td>1.024138</td>\n",
       "      <td>1.039400</td>\n",
       "    </tr>\n",
       "    <tr>\n",
       "      <th>2</th>\n",
       "      <td>0.977553</td>\n",
       "      <td>0.966606</td>\n",
       "    </tr>\n",
       "    <tr>\n",
       "      <th>3</th>\n",
       "      <td>0.967853</td>\n",
       "      <td>1.082166</td>\n",
       "    </tr>\n",
       "    <tr>\n",
       "      <th>4</th>\n",
       "      <td>1.035587</td>\n",
       "      <td>1.044866</td>\n",
       "    </tr>\n",
       "  </tbody>\n",
       "</table>\n",
       "</div>"
      ],
      "text/plain": [
       "       BLUE    ORANGE\n",
       "0       NaN       NaN\n",
       "1  1.024138  1.039400\n",
       "2  0.977553  0.966606\n",
       "3  0.967853  1.082166\n",
       "4  1.035587  1.044866"
      ]
     },
     "execution_count": 34,
     "metadata": {},
     "output_type": "execute_result"
    }
   ],
   "source": [
    "prices/prices.shift(1)"
   ]
  },
  {
   "cell_type": "code",
   "execution_count": 35,
   "id": "096ebd24-422e-4ce0-bfe9-439f268e0849",
   "metadata": {},
   "outputs": [
    {
     "data": {
      "text/html": [
       "<div>\n",
       "<style scoped>\n",
       "    .dataframe tbody tr th:only-of-type {\n",
       "        vertical-align: middle;\n",
       "    }\n",
       "\n",
       "    .dataframe tbody tr th {\n",
       "        vertical-align: top;\n",
       "    }\n",
       "\n",
       "    .dataframe thead th {\n",
       "        text-align: right;\n",
       "    }\n",
       "</style>\n",
       "<table border=\"1\" class=\"dataframe\">\n",
       "  <thead>\n",
       "    <tr style=\"text-align: right;\">\n",
       "      <th></th>\n",
       "      <th>BLUE</th>\n",
       "      <th>ORANGE</th>\n",
       "    </tr>\n",
       "  </thead>\n",
       "  <tbody>\n",
       "    <tr>\n",
       "      <th>0</th>\n",
       "      <td>NaN</td>\n",
       "      <td>NaN</td>\n",
       "    </tr>\n",
       "    <tr>\n",
       "      <th>1</th>\n",
       "      <td>0.024138</td>\n",
       "      <td>0.039400</td>\n",
       "    </tr>\n",
       "    <tr>\n",
       "      <th>2</th>\n",
       "      <td>-0.022447</td>\n",
       "      <td>-0.033394</td>\n",
       "    </tr>\n",
       "    <tr>\n",
       "      <th>3</th>\n",
       "      <td>-0.032147</td>\n",
       "      <td>0.082166</td>\n",
       "    </tr>\n",
       "    <tr>\n",
       "      <th>4</th>\n",
       "      <td>0.035587</td>\n",
       "      <td>0.044866</td>\n",
       "    </tr>\n",
       "  </tbody>\n",
       "</table>\n",
       "</div>"
      ],
      "text/plain": [
       "       BLUE    ORANGE\n",
       "0       NaN       NaN\n",
       "1  0.024138  0.039400\n",
       "2 -0.022447 -0.033394\n",
       "3 -0.032147  0.082166\n",
       "4  0.035587  0.044866"
      ]
     },
     "execution_count": 35,
     "metadata": {},
     "output_type": "execute_result"
    }
   ],
   "source": [
    "prices/prices.shift(1)-1"
   ]
  },
  {
   "cell_type": "code",
   "execution_count": 36,
   "id": "f0c4ed20-cb0a-436e-af38-ef1d2f6b6573",
   "metadata": {},
   "outputs": [
    {
     "data": {
      "text/html": [
       "<div>\n",
       "<style scoped>\n",
       "    .dataframe tbody tr th:only-of-type {\n",
       "        vertical-align: middle;\n",
       "    }\n",
       "\n",
       "    .dataframe tbody tr th {\n",
       "        vertical-align: top;\n",
       "    }\n",
       "\n",
       "    .dataframe thead th {\n",
       "        text-align: right;\n",
       "    }\n",
       "</style>\n",
       "<table border=\"1\" class=\"dataframe\">\n",
       "  <thead>\n",
       "    <tr style=\"text-align: right;\">\n",
       "      <th></th>\n",
       "      <th>BLUE</th>\n",
       "      <th>ORANGE</th>\n",
       "    </tr>\n",
       "  </thead>\n",
       "  <tbody>\n",
       "    <tr>\n",
       "      <th>0</th>\n",
       "      <td>NaN</td>\n",
       "      <td>NaN</td>\n",
       "    </tr>\n",
       "    <tr>\n",
       "      <th>1</th>\n",
       "      <td>0.024138</td>\n",
       "      <td>0.039400</td>\n",
       "    </tr>\n",
       "    <tr>\n",
       "      <th>2</th>\n",
       "      <td>-0.022447</td>\n",
       "      <td>-0.033394</td>\n",
       "    </tr>\n",
       "    <tr>\n",
       "      <th>3</th>\n",
       "      <td>-0.032147</td>\n",
       "      <td>0.082166</td>\n",
       "    </tr>\n",
       "    <tr>\n",
       "      <th>4</th>\n",
       "      <td>0.035587</td>\n",
       "      <td>0.044866</td>\n",
       "    </tr>\n",
       "  </tbody>\n",
       "</table>\n",
       "</div>"
      ],
      "text/plain": [
       "       BLUE    ORANGE\n",
       "0       NaN       NaN\n",
       "1  0.024138  0.039400\n",
       "2 -0.022447 -0.033394\n",
       "3 -0.032147  0.082166\n",
       "4  0.035587  0.044866"
      ]
     },
     "execution_count": 36,
     "metadata": {},
     "output_type": "execute_result"
    }
   ],
   "source": [
    "prices.pct_change(1)"
   ]
  },
  {
   "cell_type": "code",
   "execution_count": 46,
   "id": "fd73e1c6-c066-4848-85e4-c029b79b9c3f",
   "metadata": {},
   "outputs": [
    {
     "data": {
      "text/html": [
       "<div>\n",
       "<style scoped>\n",
       "    .dataframe tbody tr th:only-of-type {\n",
       "        vertical-align: middle;\n",
       "    }\n",
       "\n",
       "    .dataframe tbody tr th {\n",
       "        vertical-align: top;\n",
       "    }\n",
       "\n",
       "    .dataframe thead th {\n",
       "        text-align: right;\n",
       "    }\n",
       "</style>\n",
       "<table border=\"1\" class=\"dataframe\">\n",
       "  <thead>\n",
       "    <tr style=\"text-align: right;\">\n",
       "      <th></th>\n",
       "      <th>BLUE</th>\n",
       "      <th>ORANGE</th>\n",
       "    </tr>\n",
       "  </thead>\n",
       "  <tbody>\n",
       "    <tr>\n",
       "      <th>0</th>\n",
       "      <td>8.7000</td>\n",
       "      <td>10.6600</td>\n",
       "    </tr>\n",
       "    <tr>\n",
       "      <th>1</th>\n",
       "      <td>8.9055</td>\n",
       "      <td>11.0828</td>\n",
       "    </tr>\n",
       "    <tr>\n",
       "      <th>2</th>\n",
       "      <td>8.7113</td>\n",
       "      <td>10.7100</td>\n",
       "    </tr>\n",
       "    <tr>\n",
       "      <th>3</th>\n",
       "      <td>8.4346</td>\n",
       "      <td>11.5907</td>\n",
       "    </tr>\n",
       "    <tr>\n",
       "      <th>4</th>\n",
       "      <td>8.7254</td>\n",
       "      <td>12.1070</td>\n",
       "    </tr>\n",
       "    <tr>\n",
       "      <th>5</th>\n",
       "      <td>9.0551</td>\n",
       "      <td>11.7876</td>\n",
       "    </tr>\n",
       "    <tr>\n",
       "      <th>6</th>\n",
       "      <td>8.9514</td>\n",
       "      <td>11.2078</td>\n",
       "    </tr>\n",
       "    <tr>\n",
       "      <th>7</th>\n",
       "      <td>9.2439</td>\n",
       "      <td>12.5192</td>\n",
       "    </tr>\n",
       "    <tr>\n",
       "      <th>8</th>\n",
       "      <td>9.1276</td>\n",
       "      <td>13.3624</td>\n",
       "    </tr>\n",
       "    <tr>\n",
       "      <th>9</th>\n",
       "      <td>9.3976</td>\n",
       "      <td>14.4080</td>\n",
       "    </tr>\n",
       "    <tr>\n",
       "      <th>10</th>\n",
       "      <td>9.4554</td>\n",
       "      <td>11.9837</td>\n",
       "    </tr>\n",
       "    <tr>\n",
       "      <th>11</th>\n",
       "      <td>9.5704</td>\n",
       "      <td>12.2718</td>\n",
       "    </tr>\n",
       "    <tr>\n",
       "      <th>12</th>\n",
       "      <td>9.7728</td>\n",
       "      <td>11.5892</td>\n",
       "    </tr>\n",
       "  </tbody>\n",
       "</table>\n",
       "</div>"
      ],
      "text/plain": [
       "      BLUE   ORANGE\n",
       "0   8.7000  10.6600\n",
       "1   8.9055  11.0828\n",
       "2   8.7113  10.7100\n",
       "3   8.4346  11.5907\n",
       "4   8.7254  12.1070\n",
       "5   9.0551  11.7876\n",
       "6   8.9514  11.2078\n",
       "7   9.2439  12.5192\n",
       "8   9.1276  13.3624\n",
       "9   9.3976  14.4080\n",
       "10  9.4554  11.9837\n",
       "11  9.5704  12.2718\n",
       "12  9.7728  11.5892"
      ]
     },
     "execution_count": 46,
     "metadata": {},
     "output_type": "execute_result"
    }
   ],
   "source": [
    "prices = pd.read_csv('data/sample_prices.csv')\n",
    "prices"
   ]
  },
  {
   "cell_type": "code",
   "execution_count": 49,
   "id": "33065838-e8c1-4cf5-8d08-fb1249109075",
   "metadata": {},
   "outputs": [],
   "source": [
    "returns = prices.pct_change()"
   ]
  },
  {
   "cell_type": "code",
   "execution_count": 50,
   "id": "2538098e-2877-4cc5-8d27-ffcd2ab86690",
   "metadata": {},
   "outputs": [
    {
     "data": {
      "text/html": [
       "<div>\n",
       "<style scoped>\n",
       "    .dataframe tbody tr th:only-of-type {\n",
       "        vertical-align: middle;\n",
       "    }\n",
       "\n",
       "    .dataframe tbody tr th {\n",
       "        vertical-align: top;\n",
       "    }\n",
       "\n",
       "    .dataframe thead th {\n",
       "        text-align: right;\n",
       "    }\n",
       "</style>\n",
       "<table border=\"1\" class=\"dataframe\">\n",
       "  <thead>\n",
       "    <tr style=\"text-align: right;\">\n",
       "      <th></th>\n",
       "      <th>BLUE</th>\n",
       "      <th>ORANGE</th>\n",
       "    </tr>\n",
       "  </thead>\n",
       "  <tbody>\n",
       "    <tr>\n",
       "      <th>0</th>\n",
       "      <td>NaN</td>\n",
       "      <td>NaN</td>\n",
       "    </tr>\n",
       "    <tr>\n",
       "      <th>1</th>\n",
       "      <td>0.023621</td>\n",
       "      <td>0.039662</td>\n",
       "    </tr>\n",
       "    <tr>\n",
       "      <th>2</th>\n",
       "      <td>-0.021807</td>\n",
       "      <td>-0.033638</td>\n",
       "    </tr>\n",
       "    <tr>\n",
       "      <th>3</th>\n",
       "      <td>-0.031763</td>\n",
       "      <td>0.082232</td>\n",
       "    </tr>\n",
       "    <tr>\n",
       "      <th>4</th>\n",
       "      <td>0.034477</td>\n",
       "      <td>0.044544</td>\n",
       "    </tr>\n",
       "    <tr>\n",
       "      <th>5</th>\n",
       "      <td>0.037786</td>\n",
       "      <td>-0.026381</td>\n",
       "    </tr>\n",
       "    <tr>\n",
       "      <th>6</th>\n",
       "      <td>-0.011452</td>\n",
       "      <td>-0.049187</td>\n",
       "    </tr>\n",
       "    <tr>\n",
       "      <th>7</th>\n",
       "      <td>0.032676</td>\n",
       "      <td>0.117008</td>\n",
       "    </tr>\n",
       "    <tr>\n",
       "      <th>8</th>\n",
       "      <td>-0.012581</td>\n",
       "      <td>0.067353</td>\n",
       "    </tr>\n",
       "    <tr>\n",
       "      <th>9</th>\n",
       "      <td>0.029581</td>\n",
       "      <td>0.078249</td>\n",
       "    </tr>\n",
       "    <tr>\n",
       "      <th>10</th>\n",
       "      <td>0.006151</td>\n",
       "      <td>-0.168261</td>\n",
       "    </tr>\n",
       "    <tr>\n",
       "      <th>11</th>\n",
       "      <td>0.012162</td>\n",
       "      <td>0.024041</td>\n",
       "    </tr>\n",
       "    <tr>\n",
       "      <th>12</th>\n",
       "      <td>0.021149</td>\n",
       "      <td>-0.055623</td>\n",
       "    </tr>\n",
       "  </tbody>\n",
       "</table>\n",
       "</div>"
      ],
      "text/plain": [
       "        BLUE    ORANGE\n",
       "0        NaN       NaN\n",
       "1   0.023621  0.039662\n",
       "2  -0.021807 -0.033638\n",
       "3  -0.031763  0.082232\n",
       "4   0.034477  0.044544\n",
       "5   0.037786 -0.026381\n",
       "6  -0.011452 -0.049187\n",
       "7   0.032676  0.117008\n",
       "8  -0.012581  0.067353\n",
       "9   0.029581  0.078249\n",
       "10  0.006151 -0.168261\n",
       "11  0.012162  0.024041\n",
       "12  0.021149 -0.055623"
      ]
     },
     "execution_count": 50,
     "metadata": {},
     "output_type": "execute_result"
    }
   ],
   "source": [
    "returns"
   ]
  },
  {
   "cell_type": "code",
   "execution_count": null,
   "id": "5a9aa0e4-97a3-41ce-95eb-bdded9eea3b6",
   "metadata": {},
   "outputs": [],
   "source": [
    "%matplotlib inline"
   ]
  },
  {
   "cell_type": "code",
   "execution_count": 54,
   "id": "12ea49fe-f91c-467b-a8ce-d9a539625a1c",
   "metadata": {},
   "outputs": [
    {
     "data": {
      "text/plain": [
       "<AxesSubplot:>"
      ]
     },
     "execution_count": 54,
     "metadata": {},
     "output_type": "execute_result"
    },
    {
     "data": {
      "image/png": "[encoded data removed]",
      "text/plain": [
       "<Figure size 432x288 with 1 Axes>"
      ]
     },
     "metadata": {
      "needs_background": "light"
     },
     "output_type": "display_data"
    }
   ],
   "source": [
    "returns.plot()"
   ]
  },
  {
   "cell_type": "code",
   "execution_count": 55,
   "id": "335db38e-6b2c-4fe4-a3c4-ae112726948d",
   "metadata": {},
   "outputs": [
    {
     "data": {
      "text/plain": [
       "<AxesSubplot:>"
      ]
     },
     "execution_count": 55,
     "metadata": {},
     "output_type": "execute_result"
    },
    {
     "data": {
      "image/png": "[encoded data removed]",
      "text/plain": [
       "<Figure size 432x288 with 1 Axes>"
      ]
     },
     "metadata": {
      "needs_background": "light"
     },
     "output_type": "display_data"
    }
   ],
   "source": [
    "returns.plot.bar()"
   ]
  },
  {
   "cell_type": "code",
   "execution_count": 57,
   "id": "4bfa4b94-b6ea-4e63-b779-47112cb8615d",
   "metadata": {},
   "outputs": [
    {
     "data": {
      "text/html": [
       "<div>\n",
       "<style scoped>\n",
       "    .dataframe tbody tr th:only-of-type {\n",
       "        vertical-align: middle;\n",
       "    }\n",
       "\n",
       "    .dataframe tbody tr th {\n",
       "        vertical-align: top;\n",
       "    }\n",
       "\n",
       "    .dataframe thead th {\n",
       "        text-align: right;\n",
       "    }\n",
       "</style>\n",
       "<table border=\"1\" class=\"dataframe\">\n",
       "  <thead>\n",
       "    <tr style=\"text-align: right;\">\n",
       "      <th></th>\n",
       "      <th>BLUE</th>\n",
       "      <th>ORANGE</th>\n",
       "    </tr>\n",
       "  </thead>\n",
       "  <tbody>\n",
       "    <tr>\n",
       "      <th>0</th>\n",
       "      <td>NaN</td>\n",
       "      <td>NaN</td>\n",
       "    </tr>\n",
       "    <tr>\n",
       "      <th>1</th>\n",
       "      <td>0.023621</td>\n",
       "      <td>0.039662</td>\n",
       "    </tr>\n",
       "    <tr>\n",
       "      <th>2</th>\n",
       "      <td>-0.021807</td>\n",
       "      <td>-0.033638</td>\n",
       "    </tr>\n",
       "    <tr>\n",
       "      <th>3</th>\n",
       "      <td>-0.031763</td>\n",
       "      <td>0.082232</td>\n",
       "    </tr>\n",
       "    <tr>\n",
       "      <th>4</th>\n",
       "      <td>0.034477</td>\n",
       "      <td>0.044544</td>\n",
       "    </tr>\n",
       "  </tbody>\n",
       "</table>\n",
       "</div>"
      ],
      "text/plain": [
       "       BLUE    ORANGE\n",
       "0       NaN       NaN\n",
       "1  0.023621  0.039662\n",
       "2 -0.021807 -0.033638\n",
       "3 -0.031763  0.082232\n",
       "4  0.034477  0.044544"
      ]
     },
     "execution_count": 57,
     "metadata": {},
     "output_type": "execute_result"
    }
   ],
   "source": [
    "returns.head()"
   ]
  },
  {
   "cell_type": "code",
   "execution_count": 58,
   "id": "fe4feec2-77c8-4d5b-81ec-35e8263c6b90",
   "metadata": {},
   "outputs": [
    {
     "data": {
      "text/plain": [
       "BLUE      0.01\n",
       "ORANGE    0.01\n",
       "dtype: float64"
      ]
     },
     "execution_count": 58,
     "metadata": {},
     "output_type": "execute_result"
    }
   ],
   "source": [
    "returns.mean()"
   ]
  },
  {
   "cell_type": "code",
   "execution_count": 59,
   "id": "5f7059ec-defc-4c23-bd30-c9582b85fc4f",
   "metadata": {},
   "outputs": [
    {
     "data": {
      "text/plain": [
       "BLUE      0.023977\n",
       "ORANGE    0.079601\n",
       "dtype: float64"
      ]
     },
     "execution_count": 59,
     "metadata": {},
     "output_type": "execute_result"
    }
   ],
   "source": [
    "returns.std()"
   ]
  },
  {
   "cell_type": "code",
   "execution_count": 60,
   "id": "3d03f7a9-4b1d-4705-869d-fc065e07802c",
   "metadata": {},
   "outputs": [
    {
     "data": {
      "text/html": [
       "<div>\n",
       "<style scoped>\n",
       "    .dataframe tbody tr th:only-of-type {\n",
       "        vertical-align: middle;\n",
       "    }\n",
       "\n",
       "    .dataframe tbody tr th {\n",
       "        vertical-align: top;\n",
       "    }\n",
       "\n",
       "    .dataframe thead th {\n",
       "        text-align: right;\n",
       "    }\n",
       "</style>\n",
       "<table border=\"1\" class=\"dataframe\">\n",
       "  <thead>\n",
       "    <tr style=\"text-align: right;\">\n",
       "      <th></th>\n",
       "      <th>BLUE</th>\n",
       "      <th>ORANGE</th>\n",
       "    </tr>\n",
       "  </thead>\n",
       "  <tbody>\n",
       "    <tr>\n",
       "      <th>0</th>\n",
       "      <td>NaN</td>\n",
       "      <td>NaN</td>\n",
       "    </tr>\n",
       "    <tr>\n",
       "      <th>1</th>\n",
       "      <td>1.023621</td>\n",
       "      <td>1.039662</td>\n",
       "    </tr>\n",
       "    <tr>\n",
       "      <th>2</th>\n",
       "      <td>0.978193</td>\n",
       "      <td>0.966362</td>\n",
       "    </tr>\n",
       "    <tr>\n",
       "      <th>3</th>\n",
       "      <td>0.968237</td>\n",
       "      <td>1.082232</td>\n",
       "    </tr>\n",
       "    <tr>\n",
       "      <th>4</th>\n",
       "      <td>1.034477</td>\n",
       "      <td>1.044544</td>\n",
       "    </tr>\n",
       "    <tr>\n",
       "      <th>5</th>\n",
       "      <td>1.037786</td>\n",
       "      <td>0.973619</td>\n",
       "    </tr>\n",
       "    <tr>\n",
       "      <th>6</th>\n",
       "      <td>0.988548</td>\n",
       "      <td>0.950813</td>\n",
       "    </tr>\n",
       "    <tr>\n",
       "      <th>7</th>\n",
       "      <td>1.032676</td>\n",
       "      <td>1.117008</td>\n",
       "    </tr>\n",
       "    <tr>\n",
       "      <th>8</th>\n",
       "      <td>0.987419</td>\n",
       "      <td>1.067353</td>\n",
       "    </tr>\n",
       "    <tr>\n",
       "      <th>9</th>\n",
       "      <td>1.029581</td>\n",
       "      <td>1.078249</td>\n",
       "    </tr>\n",
       "    <tr>\n",
       "      <th>10</th>\n",
       "      <td>1.006151</td>\n",
       "      <td>0.831739</td>\n",
       "    </tr>\n",
       "    <tr>\n",
       "      <th>11</th>\n",
       "      <td>1.012162</td>\n",
       "      <td>1.024041</td>\n",
       "    </tr>\n",
       "    <tr>\n",
       "      <th>12</th>\n",
       "      <td>1.021149</td>\n",
       "      <td>0.944377</td>\n",
       "    </tr>\n",
       "  </tbody>\n",
       "</table>\n",
       "</div>"
      ],
      "text/plain": [
       "        BLUE    ORANGE\n",
       "0        NaN       NaN\n",
       "1   1.023621  1.039662\n",
       "2   0.978193  0.966362\n",
       "3   0.968237  1.082232\n",
       "4   1.034477  1.044544\n",
       "5   1.037786  0.973619\n",
       "6   0.988548  0.950813\n",
       "7   1.032676  1.117008\n",
       "8   0.987419  1.067353\n",
       "9   1.029581  1.078249\n",
       "10  1.006151  0.831739\n",
       "11  1.012162  1.024041\n",
       "12  1.021149  0.944377"
      ]
     },
     "execution_count": 60,
     "metadata": {},
     "output_type": "execute_result"
    }
   ],
   "source": [
    "returns+1"
   ]
  },
  {
   "cell_type": "code",
   "execution_count": 65,
   "id": "167d8227-3f56-4359-b988-ee017b9aaf2b",
   "metadata": {},
   "outputs": [
    {
     "data": {
      "text/plain": [
       "BLUE      0.123310\n",
       "ORANGE    0.087167\n",
       "dtype: float64"
      ]
     },
     "execution_count": 65,
     "metadata": {},
     "output_type": "execute_result"
    }
   ],
   "source": [
    "(returns+1).prod()-1"
   ]
  },
  {
   "cell_type": "markdown",
   "id": "6ca20299-8d88-4caa-950e-a97ede79d827",
   "metadata": {},
   "source": [
    "### Annualisation"
   ]
  },
  {
   "cell_type": "code",
   "execution_count": 66,
   "id": "db6d8ce1-6bee-403e-9f49-a3b43a01c6bd",
   "metadata": {},
   "outputs": [
    {
     "data": {
      "text/plain": [
       "0.12682503013196977"
      ]
     },
     "execution_count": 66,
     "metadata": {},
     "output_type": "execute_result"
    }
   ],
   "source": [
    "rm = 0.01\n",
    "(1+rm)**12 - 1"
   ]
  },
  {
   "cell_type": "code",
   "execution_count": 67,
   "id": "e83af94d-ffef-4fb4-b9b9-b4a9e1a2ab07",
   "metadata": {},
   "outputs": [
    {
     "data": {
      "text/plain": [
       "0.1698585600000002"
      ]
     },
     "execution_count": 67,
     "metadata": {},
     "output_type": "execute_result"
    }
   ],
   "source": [
    "rq = 0.04\n",
    "(1+rq)**4 - 1"
   ]
  },
  {
   "cell_type": "code",
   "execution_count": 68,
   "id": "ee58bd67-4868-4243-a297-a9dc1ecc6e12",
   "metadata": {},
   "outputs": [
    {
     "data": {
      "text/plain": [
       "0.03717241130254778"
      ]
     },
     "execution_count": 68,
     "metadata": {},
     "output_type": "execute_result"
    }
   ],
   "source": [
    "rd = 0.0001\n",
    "(1+rd)**365-1"
   ]
  },
  {
   "cell_type": "code",
   "execution_count": 6,
   "id": "3a3ed42d-4df9-4d34-9bc5-9b5aebc3ec67",
   "metadata": {},
   "outputs": [],
   "source": [
    "import pandas as pd"
   ]
  },
  {
   "cell_type": "code",
   "execution_count": 8,
   "id": "fc43bd5a-c638-414a-a5aa-1c7585dd0ba7",
   "metadata": {},
   "outputs": [
    {
     "data": {
      "text/plain": [
       "<AxesSubplot:>"
      ]
     },
     "execution_count": 8,
     "metadata": {},
     "output_type": "execute_result"
    },
    {
     "data": {
      "image/png": "[encoded data removed]",
      "text/plain": [
       "<Figure size 432x288 with 1 Axes>"
      ]
     },
     "metadata": {
      "needs_background": "light"
     },
     "output_type": "display_data"
    }
   ],
   "source": [
    "me_m = pd.read_csv(\"data/Portfolios_Formed_on_ME_monthly_EW.csv\",\n",
    "                   header=0, index_col=0, parse_dates=True, na_values=-99.99)\n",
    "rets = me_m[['Lo 10', 'Hi 10']]\n",
    "rets.columns = ['SmallCap', 'LargeCap']\n",
    "rets = rets/100\n",
    "rets.plot.line()"
   ]
  },
  {
   "cell_type": "code",
   "execution_count": 9,
   "id": "1fb0c982-e439-45a3-ac12-93d151fa6c73",
   "metadata": {},
   "outputs": [
    {
     "data": {
      "text/html": [
       "<div>\n",
       "<style scoped>\n",
       "    .dataframe tbody tr th:only-of-type {\n",
       "        vertical-align: middle;\n",
       "    }\n",
       "\n",
       "    .dataframe tbody tr th {\n",
       "        vertical-align: top;\n",
       "    }\n",
       "\n",
       "    .dataframe thead th {\n",
       "        text-align: right;\n",
       "    }\n",
       "</style>\n",
       "<table border=\"1\" class=\"dataframe\">\n",
       "  <thead>\n",
       "    <tr style=\"text-align: right;\">\n",
       "      <th></th>\n",
       "      <th>SmallCap</th>\n",
       "      <th>LargeCap</th>\n",
       "    </tr>\n",
       "  </thead>\n",
       "  <tbody>\n",
       "    <tr>\n",
       "      <th>192607</th>\n",
       "      <td>-0.0145</td>\n",
       "      <td>0.0329</td>\n",
       "    </tr>\n",
       "    <tr>\n",
       "      <th>192608</th>\n",
       "      <td>0.0512</td>\n",
       "      <td>0.0370</td>\n",
       "    </tr>\n",
       "    <tr>\n",
       "      <th>192609</th>\n",
       "      <td>0.0093</td>\n",
       "      <td>0.0067</td>\n",
       "    </tr>\n",
       "    <tr>\n",
       "      <th>192610</th>\n",
       "      <td>-0.0484</td>\n",
       "      <td>-0.0243</td>\n",
       "    </tr>\n",
       "    <tr>\n",
       "      <th>192611</th>\n",
       "      <td>-0.0078</td>\n",
       "      <td>0.0270</td>\n",
       "    </tr>\n",
       "  </tbody>\n",
       "</table>\n",
       "</div>"
      ],
      "text/plain": [
       "        SmallCap  LargeCap\n",
       "192607   -0.0145    0.0329\n",
       "192608    0.0512    0.0370\n",
       "192609    0.0093    0.0067\n",
       "192610   -0.0484   -0.0243\n",
       "192611   -0.0078    0.0270"
      ]
     },
     "execution_count": 9,
     "metadata": {},
     "output_type": "execute_result"
    }
   ],
   "source": [
    "rets.head()\n"
   ]
  },
  {
   "cell_type": "code",
   "execution_count": 11,
   "id": "be1df31b-7a88-4c20-bded-3f6327c58553",
   "metadata": {},
   "outputs": [
    {
     "data": {
      "text/plain": [
       "Int64Index([192607, 192608, 192609, 192610, 192611, 192612, 192701, 192702,\n",
       "            192703, 192704,\n",
       "            ...\n",
       "            201803, 201804, 201805, 201806, 201807, 201808, 201809, 201810,\n",
       "            201811, 201812],\n",
       "           dtype='int64', length=1110)"
      ]
     },
     "execution_count": 11,
     "metadata": {},
     "output_type": "execute_result"
    }
   ],
   "source": [
    "rets.index"
   ]
  },
  {
   "cell_type": "code",
   "execution_count": 16,
   "id": "b33161a5-0d4e-43b0-aae7-9667766e86bf",
   "metadata": {},
   "outputs": [],
   "source": [
    "# Compute drawdowns"
   ]
  },
  {
   "cell_type": "code",
   "execution_count": 17,
   "id": "228ecef8-384b-4dfa-9085-bc69745df197",
   "metadata": {},
   "outputs": [],
   "source": [
    "import pandas as pd"
   ]
  },
  {
   "cell_type": "code",
   "execution_count": 18,
   "id": "1013419f-4064-43b0-a3d3-027c4cdab6bf",
   "metadata": {},
   "outputs": [
    {
     "data": {
      "text/plain": [
       "<AxesSubplot:>"
      ]
     },
     "execution_count": 18,
     "metadata": {},
     "output_type": "execute_result"
    },
    {
     "data": {
      "image/png": "[encoded data removed]",
      "text/plain": [
       "<Figure size 432x288 with 1 Axes>"
      ]
     },
     "metadata": {
      "needs_background": "light"
     },
     "output_type": "display_data"
    }
   ],
   "source": [
    "me_m = pd.read_csv(\"data/Portfolios_Formed_on_ME_monthly_EW.csv\",\n",
    "                   header=0, index_col=0, parse_dates=True, na_values=-99.99)\n",
    "rets = me_m[['Lo 10', 'Hi 10']]\n",
    "rets.columns = ['SmallCap', 'LargeCap']\n",
    "rets = rets/100\n",
    "rets.plot.line()"
   ]
  },
  {
   "cell_type": "code",
   "execution_count": 19,
   "id": "f361bf6a-dd71-4001-8c14-a971755b4362",
   "metadata": {},
   "outputs": [
    {
     "data": {
      "text/plain": [
       "<AxesSubplot:>"
      ]
     },
     "execution_count": 19,
     "metadata": {},
     "output_type": "execute_result"
    },
    {
     "data": {
      "image/png": "[encoded data removed]",
      "text/plain": [
       "<Figure size 432x288 with 1 Axes>"
      ]
     },
     "metadata": {
      "needs_background": "light"
     },
     "output_type": "display_data"
    }
   ],
   "source": [
    "wealth_index = 1000*(1+rets[\"LargeCap\"]).cumprod()\n",
    "wealth_index.plot()"
   ]
  },
  {
   "cell_type": "code",
   "execution_count": 20,
   "id": "117bf038-85b7-41e2-b19e-7490f1822f9b",
   "metadata": {},
   "outputs": [
    {
     "data": {
      "text/plain": [
       "<AxesSubplot:>"
      ]
     },
     "execution_count": 20,
     "metadata": {},
     "output_type": "execute_result"
    },
    {
     "data": {
      "image/png": "[encoded data removed]",
      "text/plain": [
       "<Figure size 432x288 with 1 Axes>"
      ]
     },
     "metadata": {
      "needs_background": "light"
     },
     "output_type": "display_data"
    }
   ],
   "source": [
    "previous_peaks = wealth_index.cummin()\n",
    "previous_peaks.plot()"
   ]
  },
  {
   "cell_type": "code",
   "execution_count": 21,
   "id": "2c54f3d6-54ac-4ff8-9617-4e6581a60a74",
   "metadata": {},
   "outputs": [
    {
     "data": {
      "text/plain": [
       "<pandas.plotting._core.PlotAccessor object at 0x000001FD682CEBB0>"
      ]
     },
     "execution_count": 21,
     "metadata": {},
     "output_type": "execute_result"
    }
   ],
   "source": [
    "drawdown = (wealth_index - previous_peaks)/previous_peaks\n",
    "drawdown.plot"
   ]
  },
  {
   "cell_type": "code",
   "execution_count": 23,
   "id": "990a9c79-4d79-47c4-a7af-a3b513998fa4",
   "metadata": {},
   "outputs": [
    {
     "data": {
      "text/plain": [
       "<pandas.plotting._core.PlotAccessor object at 0x000001FD682CEBB0>"
      ]
     },
     "execution_count": 23,
     "metadata": {},
     "output_type": "execute_result"
    }
   ],
   "source": [
    "drawdown.plot"
   ]
  },
  {
   "cell_type": "code",
   "execution_count": 24,
   "id": "42b25dbb-d877-48be-8764-d7ac433f4d0f",
   "metadata": {},
   "outputs": [
    {
     "data": {
      "text/plain": [
       "0.0"
      ]
     },
     "execution_count": 24,
     "metadata": {},
     "output_type": "execute_result"
    }
   ],
   "source": [
    " drawdown.min()"
   ]
  },
  {
   "cell_type": "code",
   "execution_count": 1,
   "id": "51490b98-19a5-41df-8835-23e1591dc587",
   "metadata": {},
   "outputs": [],
   "source": [
    "import pandas as pd"
   ]
  },
  {
   "cell_type": "code",
   "execution_count": 2,
   "id": "fc6671d1-fa69-4359-b5d3-7c09c9c9a89f",
   "metadata": {},
   "outputs": [],
   "source": [
    "me_m = pd.read_csv(\"data/Portfolios_Formed_on_ME_monthly_EW.csv\",\n",
    "                   header=0, index_col=0, parse_dates=True, na_values=-99.99)"
   ]
  },
  {
   "cell_type": "code",
   "execution_count": 3,
   "id": "cdb7e370-7cf7-4d61-99b2-6c42efd7340c",
   "metadata": {},
   "outputs": [],
   "source": [
    "rets = me_m[['Lo 20', 'Hi 20']]"
   ]
  },
  {
   "cell_type": "code",
   "execution_count": 4,
   "id": "0d84e3d9-f856-4aca-9fb5-a5a40ea7932f",
   "metadata": {},
   "outputs": [],
   "source": [
    "rets.columns = ['SmallCap', 'LargeCap']"
   ]
  },
  {
   "cell_type": "code",
   "execution_count": 5,
   "id": "46ea0a0b-5e77-4f2d-ba6d-59c3b65b7c0e",
   "metadata": {},
   "outputs": [
    {
     "data": {
      "text/plain": [
       "<AxesSubplot:>"
      ]
     },
     "execution_count": 5,
     "metadata": {},
     "output_type": "execute_result"
    },
    {
     "data": {
      "image/png": "[encoded data removed]",
      "text/plain": [
       "<Figure size 432x288 with 1 Axes>"
      ]
     },
     "metadata": {
      "needs_background": "light"
     },
     "output_type": "display_data"
    }
   ],
   "source": [
    "rets = rets/100\n",
    "rets.plot.line()"
   ]
  },
  {
   "cell_type": "code",
   "execution_count": 6,
   "id": "cc382c8f-107c-44bf-8240-fdbbd67f34d2",
   "metadata": {},
   "outputs": [
    {
     "data": {
      "text/plain": [
       "DatetimeIndex(['1926-07-01', '1926-08-01', '1926-09-01', '1926-10-01',\n",
       "               '1926-11-01', '1926-12-01', '1927-01-01', '1927-02-01',\n",
       "               '1927-03-01', '1927-04-01',\n",
       "               ...\n",
       "               '2018-03-01', '2018-04-01', '2018-05-01', '2018-06-01',\n",
       "               '2018-07-01', '2018-08-01', '2018-09-01', '2018-10-01',\n",
       "               '2018-11-01', '2018-12-01'],\n",
       "              dtype='datetime64[ns]', length=1110, freq=None)"
      ]
     },
     "execution_count": 6,
     "metadata": {},
     "output_type": "execute_result"
    }
   ],
   "source": [
    "rets.index = pd.to_datetime(rets.index, format=\"%Y%m\")\n",
    "rets.index"
   ]
  },
  {
   "cell_type": "code",
   "execution_count": 7,
   "id": "5b83377c-303a-466d-9cde-1cdd5b042a38",
   "metadata": {},
   "outputs": [
    {
     "data": {
      "text/html": [
       "<div>\n",
       "<style scoped>\n",
       "    .dataframe tbody tr th:only-of-type {\n",
       "        vertical-align: middle;\n",
       "    }\n",
       "\n",
       "    .dataframe tbody tr th {\n",
       "        vertical-align: top;\n",
       "    }\n",
       "\n",
       "    .dataframe thead th {\n",
       "        text-align: right;\n",
       "    }\n",
       "</style>\n",
       "<table border=\"1\" class=\"dataframe\">\n",
       "  <thead>\n",
       "    <tr style=\"text-align: right;\">\n",
       "      <th></th>\n",
       "      <th>SmallCap</th>\n",
       "      <th>LargeCap</th>\n",
       "    </tr>\n",
       "  </thead>\n",
       "  <tbody>\n",
       "    <tr>\n",
       "      <th>1926-07</th>\n",
       "      <td>-0.0057</td>\n",
       "      <td>0.0333</td>\n",
       "    </tr>\n",
       "    <tr>\n",
       "      <th>1926-08</th>\n",
       "      <td>0.0384</td>\n",
       "      <td>0.0233</td>\n",
       "    </tr>\n",
       "    <tr>\n",
       "      <th>1926-09</th>\n",
       "      <td>-0.0048</td>\n",
       "      <td>-0.0009</td>\n",
       "    </tr>\n",
       "    <tr>\n",
       "      <th>1926-10</th>\n",
       "      <td>-0.0329</td>\n",
       "      <td>-0.0295</td>\n",
       "    </tr>\n",
       "    <tr>\n",
       "      <th>1926-11</th>\n",
       "      <td>-0.0055</td>\n",
       "      <td>0.0316</td>\n",
       "    </tr>\n",
       "  </tbody>\n",
       "</table>\n",
       "</div>"
      ],
      "text/plain": [
       "         SmallCap  LargeCap\n",
       "1926-07   -0.0057    0.0333\n",
       "1926-08    0.0384    0.0233\n",
       "1926-09   -0.0048   -0.0009\n",
       "1926-10   -0.0329   -0.0295\n",
       "1926-11   -0.0055    0.0316"
      ]
     },
     "execution_count": 7,
     "metadata": {},
     "output_type": "execute_result"
    }
   ],
   "source": [
    "rets.index = rets.index.to_period('M')\n",
    "rets.head()"
   ]
  },
  {
   "cell_type": "code",
   "execution_count": 1,
   "id": "be1cabaf-a44b-4f1b-876a-d0bdf4fe25a0",
   "metadata": {},
   "outputs": [
    {
     "data": {
      "text/html": [
       "<div>\n",
       "<style scoped>\n",
       "    .dataframe tbody tr th:only-of-type {\n",
       "        vertical-align: middle;\n",
       "    }\n",
       "\n",
       "    .dataframe tbody tr th {\n",
       "        vertical-align: top;\n",
       "    }\n",
       "\n",
       "    .dataframe thead th {\n",
       "        text-align: right;\n",
       "    }\n",
       "</style>\n",
       "<table border=\"1\" class=\"dataframe\">\n",
       "  <thead>\n",
       "    <tr style=\"text-align: right;\">\n",
       "      <th></th>\n",
       "      <th>Unnamed: 0</th>\n",
       "      <th>&lt;= 0</th>\n",
       "      <th>Lo 30</th>\n",
       "      <th>Med 40</th>\n",
       "      <th>Hi 30</th>\n",
       "      <th>Lo 20</th>\n",
       "      <th>Qnt 2</th>\n",
       "      <th>Qnt 3</th>\n",
       "      <th>Qnt 4</th>\n",
       "      <th>Hi 20</th>\n",
       "      <th>Lo 10</th>\n",
       "      <th>Dec 2</th>\n",
       "      <th>Dec 3</th>\n",
       "      <th>Dec 4</th>\n",
       "      <th>Dec 5</th>\n",
       "      <th>Dec 6</th>\n",
       "      <th>Dec 7</th>\n",
       "      <th>Dec 8</th>\n",
       "      <th>Dec 9</th>\n",
       "      <th>Hi 10</th>\n",
       "    </tr>\n",
       "  </thead>\n",
       "  <tbody>\n",
       "    <tr>\n",
       "      <th>0</th>\n",
       "      <td>NaN</td>\n",
       "      <td>NaN</td>\n",
       "      <td>NaN</td>\n",
       "      <td>NaN</td>\n",
       "      <td>NaN</td>\n",
       "      <td>NaN</td>\n",
       "      <td>NaN</td>\n",
       "      <td>NaN</td>\n",
       "      <td>NaN</td>\n",
       "      <td>NaN</td>\n",
       "      <td>NaN</td>\n",
       "      <td>NaN</td>\n",
       "      <td>NaN</td>\n",
       "      <td>NaN</td>\n",
       "      <td>NaN</td>\n",
       "      <td>NaN</td>\n",
       "      <td>NaN</td>\n",
       "      <td>NaN</td>\n",
       "      <td>NaN</td>\n",
       "      <td>NaN</td>\n",
       "    </tr>\n",
       "    <tr>\n",
       "      <th>1</th>\n",
       "      <td>0.000005</td>\n",
       "      <td>0.0</td>\n",
       "      <td>-10.069767</td>\n",
       "      <td>1.000000</td>\n",
       "      <td>-0.220149</td>\n",
       "      <td>-7.736842</td>\n",
       "      <td>5.084746</td>\n",
       "      <td>1.318750</td>\n",
       "      <td>0.095238</td>\n",
       "      <td>-0.300300</td>\n",
       "      <td>-4.531034</td>\n",
       "      <td>7.931034</td>\n",
       "      <td>-27.866667</td>\n",
       "      <td>1.368421</td>\n",
       "      <td>1.193548</td>\n",
       "      <td>1.383838</td>\n",
       "      <td>0.032258</td>\n",
       "      <td>0.181159</td>\n",
       "      <td>-0.710059</td>\n",
       "      <td>0.124620</td>\n",
       "    </tr>\n",
       "    <tr>\n",
       "      <th>2</th>\n",
       "      <td>0.000005</td>\n",
       "      <td>0.0</td>\n",
       "      <td>-1.276923</td>\n",
       "      <td>-1.177632</td>\n",
       "      <td>-0.923445</td>\n",
       "      <td>-1.125000</td>\n",
       "      <td>-1.389972</td>\n",
       "      <td>-1.000000</td>\n",
       "      <td>-1.310559</td>\n",
       "      <td>-1.038627</td>\n",
       "      <td>-0.818359</td>\n",
       "      <td>-1.722008</td>\n",
       "      <td>-1.563275</td>\n",
       "      <td>-1.168254</td>\n",
       "      <td>-0.974265</td>\n",
       "      <td>-1.014831</td>\n",
       "      <td>-2.025000</td>\n",
       "      <td>-0.607362</td>\n",
       "      <td>-1.877551</td>\n",
       "      <td>-0.818919</td>\n",
       "    </tr>\n",
       "    <tr>\n",
       "      <th>3</th>\n",
       "      <td>0.000005</td>\n",
       "      <td>0.0</td>\n",
       "      <td>2.074074</td>\n",
       "      <td>5.518519</td>\n",
       "      <td>-20.125000</td>\n",
       "      <td>5.854167</td>\n",
       "      <td>1.928571</td>\n",
       "      <td>-inf</td>\n",
       "      <td>5.720000</td>\n",
       "      <td>31.777778</td>\n",
       "      <td>-6.204301</td>\n",
       "      <td>-0.053476</td>\n",
       "      <td>0.480176</td>\n",
       "      <td>8.113208</td>\n",
       "      <td>-43.571429</td>\n",
       "      <td>39.000000</td>\n",
       "      <td>1.103659</td>\n",
       "      <td>-6.109375</td>\n",
       "      <td>3.034884</td>\n",
       "      <td>-4.626866</td>\n",
       "    </tr>\n",
       "    <tr>\n",
       "      <th>4</th>\n",
       "      <td>0.000005</td>\n",
       "      <td>0.0</td>\n",
       "      <td>-0.861446</td>\n",
       "      <td>-2.085227</td>\n",
       "      <td>-2.009804</td>\n",
       "      <td>-0.832827</td>\n",
       "      <td>-1.531707</td>\n",
       "      <td>-2.179931</td>\n",
       "      <td>-2.008929</td>\n",
       "      <td>-2.071186</td>\n",
       "      <td>-0.838843</td>\n",
       "      <td>-0.819209</td>\n",
       "      <td>-0.913690</td>\n",
       "      <td>-1.962733</td>\n",
       "      <td>-2.087248</td>\n",
       "      <td>-2.275000</td>\n",
       "      <td>-2.107246</td>\n",
       "      <td>-1.902141</td>\n",
       "      <td>-2.040346</td>\n",
       "      <td>-2.111111</td>\n",
       "    </tr>\n",
       "    <tr>\n",
       "      <th>...</th>\n",
       "      <td>...</td>\n",
       "      <td>...</td>\n",
       "      <td>...</td>\n",
       "      <td>...</td>\n",
       "      <td>...</td>\n",
       "      <td>...</td>\n",
       "      <td>...</td>\n",
       "      <td>...</td>\n",
       "      <td>...</td>\n",
       "      <td>...</td>\n",
       "      <td>...</td>\n",
       "      <td>...</td>\n",
       "      <td>...</td>\n",
       "      <td>...</td>\n",
       "      <td>...</td>\n",
       "      <td>...</td>\n",
       "      <td>...</td>\n",
       "      <td>...</td>\n",
       "      <td>...</td>\n",
       "      <td>...</td>\n",
       "    </tr>\n",
       "    <tr>\n",
       "      <th>1105</th>\n",
       "      <td>0.000005</td>\n",
       "      <td>0.0</td>\n",
       "      <td>-3.940678</td>\n",
       "      <td>1.093264</td>\n",
       "      <td>-0.105919</td>\n",
       "      <td>-2.707182</td>\n",
       "      <td>1.537688</td>\n",
       "      <td>1.215909</td>\n",
       "      <td>0.539130</td>\n",
       "      <td>-0.282421</td>\n",
       "      <td>-2.090498</td>\n",
       "      <td>-9.311475</td>\n",
       "      <td>1.912088</td>\n",
       "      <td>1.117117</td>\n",
       "      <td>0.786982</td>\n",
       "      <td>1.708108</td>\n",
       "      <td>0.822917</td>\n",
       "      <td>0.321033</td>\n",
       "      <td>-0.213650</td>\n",
       "      <td>-0.344538</td>\n",
       "    </tr>\n",
       "    <tr>\n",
       "      <th>1106</th>\n",
       "      <td>0.000005</td>\n",
       "      <td>0.0</td>\n",
       "      <td>-1.645533</td>\n",
       "      <td>-1.457921</td>\n",
       "      <td>-0.972125</td>\n",
       "      <td>-1.660194</td>\n",
       "      <td>-1.471287</td>\n",
       "      <td>-1.635897</td>\n",
       "      <td>-1.209040</td>\n",
       "      <td>-0.923695</td>\n",
       "      <td>-1.697095</td>\n",
       "      <td>-1.607495</td>\n",
       "      <td>-1.607547</td>\n",
       "      <td>-1.261702</td>\n",
       "      <td>-1.877483</td>\n",
       "      <td>-1.453094</td>\n",
       "      <td>-1.374286</td>\n",
       "      <td>-1.033520</td>\n",
       "      <td>-1.192453</td>\n",
       "      <td>-0.628205</td>\n",
       "    </tr>\n",
       "    <tr>\n",
       "      <th>1107</th>\n",
       "      <td>0.000005</td>\n",
       "      <td>0.0</td>\n",
       "      <td>3.803571</td>\n",
       "      <td>4.881081</td>\n",
       "      <td>-96.375000</td>\n",
       "      <td>4.156863</td>\n",
       "      <td>3.932773</td>\n",
       "      <td>3.254032</td>\n",
       "      <td>11.770270</td>\n",
       "      <td>-40.000000</td>\n",
       "      <td>4.964286</td>\n",
       "      <td>2.889610</td>\n",
       "      <td>2.692547</td>\n",
       "      <td>8.365854</td>\n",
       "      <td>3.369811</td>\n",
       "      <td>3.066079</td>\n",
       "      <td>7.198473</td>\n",
       "      <td>66.000000</td>\n",
       "      <td>15.235294</td>\n",
       "      <td>-8.551724</td>\n",
       "    </tr>\n",
       "    <tr>\n",
       "      <th>1108</th>\n",
       "      <td>0.000005</td>\n",
       "      <td>0.0</td>\n",
       "      <td>-0.806691</td>\n",
       "      <td>-1.200368</td>\n",
       "      <td>-1.287025</td>\n",
       "      <td>-0.735741</td>\n",
       "      <td>-1.143952</td>\n",
       "      <td>-1.138389</td>\n",
       "      <td>-1.277249</td>\n",
       "      <td>-1.336032</td>\n",
       "      <td>-0.635729</td>\n",
       "      <td>-0.980801</td>\n",
       "      <td>-1.103448</td>\n",
       "      <td>-1.199653</td>\n",
       "      <td>-1.150259</td>\n",
       "      <td>-1.120260</td>\n",
       "      <td>-1.329609</td>\n",
       "      <td>-1.202736</td>\n",
       "      <td>-1.295894</td>\n",
       "      <td>-1.385084</td>\n",
       "    </tr>\n",
       "    <tr>\n",
       "      <th>1109</th>\n",
       "      <td>0.000005</td>\n",
       "      <td>0.0</td>\n",
       "      <td>5.865385</td>\n",
       "      <td>-6.692661</td>\n",
       "      <td>-5.456621</td>\n",
       "      <td>4.312950</td>\n",
       "      <td>-8.360947</td>\n",
       "      <td>-9.369863</td>\n",
       "      <td>-5.328244</td>\n",
       "      <td>-4.698795</td>\n",
       "      <td>3.194521</td>\n",
       "      <td>56.347826</td>\n",
       "      <td>-10.707317</td>\n",
       "      <td>-6.708696</td>\n",
       "      <td>-8.316092</td>\n",
       "      <td>-11.423423</td>\n",
       "      <td>-4.353107</td>\n",
       "      <td>-7.595092</td>\n",
       "      <td>-4.893878</td>\n",
       "      <td>-4.517787</td>\n",
       "    </tr>\n",
       "  </tbody>\n",
       "</table>\n",
       "<p>1110 rows × 20 columns</p>\n",
       "</div>"
      ],
      "text/plain": [
       "      Unnamed: 0  <= 0      Lo 30    Med 40      Hi 30     Lo 20     Qnt 2  \\\n",
       "0            NaN   NaN        NaN       NaN        NaN       NaN       NaN   \n",
       "1       0.000005   0.0 -10.069767  1.000000  -0.220149 -7.736842  5.084746   \n",
       "2       0.000005   0.0  -1.276923 -1.177632  -0.923445 -1.125000 -1.389972   \n",
       "3       0.000005   0.0   2.074074  5.518519 -20.125000  5.854167  1.928571   \n",
       "4       0.000005   0.0  -0.861446 -2.085227  -2.009804 -0.832827 -1.531707   \n",
       "...          ...   ...        ...       ...        ...       ...       ...   \n",
       "1105    0.000005   0.0  -3.940678  1.093264  -0.105919 -2.707182  1.537688   \n",
       "1106    0.000005   0.0  -1.645533 -1.457921  -0.972125 -1.660194 -1.471287   \n",
       "1107    0.000005   0.0   3.803571  4.881081 -96.375000  4.156863  3.932773   \n",
       "1108    0.000005   0.0  -0.806691 -1.200368  -1.287025 -0.735741 -1.143952   \n",
       "1109    0.000005   0.0   5.865385 -6.692661  -5.456621  4.312950 -8.360947   \n",
       "\n",
       "         Qnt 3      Qnt 4      Hi 20     Lo 10      Dec 2      Dec 3  \\\n",
       "0          NaN        NaN        NaN       NaN        NaN        NaN   \n",
       "1     1.318750   0.095238  -0.300300 -4.531034   7.931034 -27.866667   \n",
       "2    -1.000000  -1.310559  -1.038627 -0.818359  -1.722008  -1.563275   \n",
       "3         -inf   5.720000  31.777778 -6.204301  -0.053476   0.480176   \n",
       "4    -2.179931  -2.008929  -2.071186 -0.838843  -0.819209  -0.913690   \n",
       "...        ...        ...        ...       ...        ...        ...   \n",
       "1105  1.215909   0.539130  -0.282421 -2.090498  -9.311475   1.912088   \n",
       "1106 -1.635897  -1.209040  -0.923695 -1.697095  -1.607495  -1.607547   \n",
       "1107  3.254032  11.770270 -40.000000  4.964286   2.889610   2.692547   \n",
       "1108 -1.138389  -1.277249  -1.336032 -0.635729  -0.980801  -1.103448   \n",
       "1109 -9.369863  -5.328244  -4.698795  3.194521  56.347826 -10.707317   \n",
       "\n",
       "         Dec 4      Dec 5      Dec 6     Dec 7      Dec 8      Dec 9     Hi 10  \n",
       "0          NaN        NaN        NaN       NaN        NaN        NaN       NaN  \n",
       "1     1.368421   1.193548   1.383838  0.032258   0.181159  -0.710059  0.124620  \n",
       "2    -1.168254  -0.974265  -1.014831 -2.025000  -0.607362  -1.877551 -0.818919  \n",
       "3     8.113208 -43.571429  39.000000  1.103659  -6.109375   3.034884 -4.626866  \n",
       "4    -1.962733  -2.087248  -2.275000 -2.107246  -1.902141  -2.040346 -2.111111  \n",
       "...        ...        ...        ...       ...        ...        ...       ...  \n",
       "1105  1.117117   0.786982   1.708108  0.822917   0.321033  -0.213650 -0.344538  \n",
       "1106 -1.261702  -1.877483  -1.453094 -1.374286  -1.033520  -1.192453 -0.628205  \n",
       "1107  8.365854   3.369811   3.066079  7.198473  66.000000  15.235294 -8.551724  \n",
       "1108 -1.199653  -1.150259  -1.120260 -1.329609  -1.202736  -1.295894 -1.385084  \n",
       "1109 -6.708696  -8.316092 -11.423423 -4.353107  -7.595092  -4.893878 -4.517787  \n",
       "\n",
       "[1110 rows x 20 columns]"
      ]
     },
     "execution_count": 1,
     "metadata": {},
     "output_type": "execute_result"
    }
   ],
   "source": [
    "import pandas as pd\n",
    "prices = pd.read_csv(\"data/Portfolios_Formed_on_ME_monthly_EW.csv\")\n",
    "returns = prices.pct_change()\n",
    "returns\n"
   ]
  },
  {
   "cell_type": "code",
   "execution_count": 6,
   "id": "6c97c2b8-3ed0-4ece-bdfc-8ad2999e6ccb",
   "metadata": {},
   "outputs": [
    {
     "data": {
      "text/html": [
       "<div>\n",
       "<style scoped>\n",
       "    .dataframe tbody tr th:only-of-type {\n",
       "        vertical-align: middle;\n",
       "    }\n",
       "\n",
       "    .dataframe tbody tr th {\n",
       "        vertical-align: top;\n",
       "    }\n",
       "\n",
       "    .dataframe thead th {\n",
       "        text-align: right;\n",
       "    }\n",
       "</style>\n",
       "<table border=\"1\" class=\"dataframe\">\n",
       "  <thead>\n",
       "    <tr style=\"text-align: right;\">\n",
       "      <th></th>\n",
       "      <th>Unnamed: 0</th>\n",
       "      <th>&lt;= 0</th>\n",
       "      <th>Lo 30</th>\n",
       "      <th>Med 40</th>\n",
       "      <th>Hi 30</th>\n",
       "      <th>Lo 20</th>\n",
       "      <th>Qnt 2</th>\n",
       "      <th>Qnt 3</th>\n",
       "      <th>Qnt 4</th>\n",
       "      <th>Hi 20</th>\n",
       "      <th>Lo 10</th>\n",
       "      <th>Dec 2</th>\n",
       "      <th>Dec 3</th>\n",
       "      <th>Dec 4</th>\n",
       "      <th>Dec 5</th>\n",
       "      <th>Dec 6</th>\n",
       "      <th>Dec 7</th>\n",
       "      <th>Dec 8</th>\n",
       "      <th>Dec 9</th>\n",
       "      <th>Hi 10</th>\n",
       "    </tr>\n",
       "  </thead>\n",
       "  <tbody>\n",
       "    <tr>\n",
       "      <th>1</th>\n",
       "      <td>0.000005</td>\n",
       "      <td>0.0</td>\n",
       "      <td>-10.069767</td>\n",
       "      <td>1.000000</td>\n",
       "      <td>-0.220149</td>\n",
       "      <td>-7.736842</td>\n",
       "      <td>5.084746</td>\n",
       "      <td>1.318750</td>\n",
       "      <td>0.095238</td>\n",
       "      <td>-0.300300</td>\n",
       "      <td>-4.531034</td>\n",
       "      <td>7.931034</td>\n",
       "      <td>-27.866667</td>\n",
       "      <td>1.368421</td>\n",
       "      <td>1.193548</td>\n",
       "      <td>1.383838</td>\n",
       "      <td>0.032258</td>\n",
       "      <td>0.181159</td>\n",
       "      <td>-0.710059</td>\n",
       "      <td>0.124620</td>\n",
       "    </tr>\n",
       "    <tr>\n",
       "      <th>2</th>\n",
       "      <td>0.000005</td>\n",
       "      <td>0.0</td>\n",
       "      <td>-1.276923</td>\n",
       "      <td>-1.177632</td>\n",
       "      <td>-0.923445</td>\n",
       "      <td>-1.125000</td>\n",
       "      <td>-1.389972</td>\n",
       "      <td>-1.000000</td>\n",
       "      <td>-1.310559</td>\n",
       "      <td>-1.038627</td>\n",
       "      <td>-0.818359</td>\n",
       "      <td>-1.722008</td>\n",
       "      <td>-1.563275</td>\n",
       "      <td>-1.168254</td>\n",
       "      <td>-0.974265</td>\n",
       "      <td>-1.014831</td>\n",
       "      <td>-2.025000</td>\n",
       "      <td>-0.607362</td>\n",
       "      <td>-1.877551</td>\n",
       "      <td>-0.818919</td>\n",
       "    </tr>\n",
       "    <tr>\n",
       "      <th>3</th>\n",
       "      <td>0.000005</td>\n",
       "      <td>0.0</td>\n",
       "      <td>2.074074</td>\n",
       "      <td>5.518519</td>\n",
       "      <td>-20.125000</td>\n",
       "      <td>5.854167</td>\n",
       "      <td>1.928571</td>\n",
       "      <td>-inf</td>\n",
       "      <td>5.720000</td>\n",
       "      <td>31.777778</td>\n",
       "      <td>-6.204301</td>\n",
       "      <td>-0.053476</td>\n",
       "      <td>0.480176</td>\n",
       "      <td>8.113208</td>\n",
       "      <td>-43.571429</td>\n",
       "      <td>39.000000</td>\n",
       "      <td>1.103659</td>\n",
       "      <td>-6.109375</td>\n",
       "      <td>3.034884</td>\n",
       "      <td>-4.626866</td>\n",
       "    </tr>\n",
       "    <tr>\n",
       "      <th>4</th>\n",
       "      <td>0.000005</td>\n",
       "      <td>0.0</td>\n",
       "      <td>-0.861446</td>\n",
       "      <td>-2.085227</td>\n",
       "      <td>-2.009804</td>\n",
       "      <td>-0.832827</td>\n",
       "      <td>-1.531707</td>\n",
       "      <td>-2.179931</td>\n",
       "      <td>-2.008929</td>\n",
       "      <td>-2.071186</td>\n",
       "      <td>-0.838843</td>\n",
       "      <td>-0.819209</td>\n",
       "      <td>-0.913690</td>\n",
       "      <td>-1.962733</td>\n",
       "      <td>-2.087248</td>\n",
       "      <td>-2.275000</td>\n",
       "      <td>-2.107246</td>\n",
       "      <td>-1.902141</td>\n",
       "      <td>-2.040346</td>\n",
       "      <td>-2.111111</td>\n",
       "    </tr>\n",
       "    <tr>\n",
       "      <th>5</th>\n",
       "      <td>0.000005</td>\n",
       "      <td>0.0</td>\n",
       "      <td>-6.521739</td>\n",
       "      <td>-0.557592</td>\n",
       "      <td>0.051780</td>\n",
       "      <td>-3.163636</td>\n",
       "      <td>0.733945</td>\n",
       "      <td>-0.612903</td>\n",
       "      <td>-0.224189</td>\n",
       "      <td>-0.006329</td>\n",
       "      <td>2.410256</td>\n",
       "      <td>-16.500000</td>\n",
       "      <td>-19.103448</td>\n",
       "      <td>-0.503226</td>\n",
       "      <td>-0.583333</td>\n",
       "      <td>-0.641457</td>\n",
       "      <td>-0.523560</td>\n",
       "      <td>0.169492</td>\n",
       "      <td>-0.094183</td>\n",
       "      <td>0.114815</td>\n",
       "    </tr>\n",
       "    <tr>\n",
       "      <th>...</th>\n",
       "      <td>...</td>\n",
       "      <td>...</td>\n",
       "      <td>...</td>\n",
       "      <td>...</td>\n",
       "      <td>...</td>\n",
       "      <td>...</td>\n",
       "      <td>...</td>\n",
       "      <td>...</td>\n",
       "      <td>...</td>\n",
       "      <td>...</td>\n",
       "      <td>...</td>\n",
       "      <td>...</td>\n",
       "      <td>...</td>\n",
       "      <td>...</td>\n",
       "      <td>...</td>\n",
       "      <td>...</td>\n",
       "      <td>...</td>\n",
       "      <td>...</td>\n",
       "      <td>...</td>\n",
       "      <td>...</td>\n",
       "    </tr>\n",
       "    <tr>\n",
       "      <th>1105</th>\n",
       "      <td>0.000005</td>\n",
       "      <td>0.0</td>\n",
       "      <td>-3.940678</td>\n",
       "      <td>1.093264</td>\n",
       "      <td>-0.105919</td>\n",
       "      <td>-2.707182</td>\n",
       "      <td>1.537688</td>\n",
       "      <td>1.215909</td>\n",
       "      <td>0.539130</td>\n",
       "      <td>-0.282421</td>\n",
       "      <td>-2.090498</td>\n",
       "      <td>-9.311475</td>\n",
       "      <td>1.912088</td>\n",
       "      <td>1.117117</td>\n",
       "      <td>0.786982</td>\n",
       "      <td>1.708108</td>\n",
       "      <td>0.822917</td>\n",
       "      <td>0.321033</td>\n",
       "      <td>-0.213650</td>\n",
       "      <td>-0.344538</td>\n",
       "    </tr>\n",
       "    <tr>\n",
       "      <th>1106</th>\n",
       "      <td>0.000005</td>\n",
       "      <td>0.0</td>\n",
       "      <td>-1.645533</td>\n",
       "      <td>-1.457921</td>\n",
       "      <td>-0.972125</td>\n",
       "      <td>-1.660194</td>\n",
       "      <td>-1.471287</td>\n",
       "      <td>-1.635897</td>\n",
       "      <td>-1.209040</td>\n",
       "      <td>-0.923695</td>\n",
       "      <td>-1.697095</td>\n",
       "      <td>-1.607495</td>\n",
       "      <td>-1.607547</td>\n",
       "      <td>-1.261702</td>\n",
       "      <td>-1.877483</td>\n",
       "      <td>-1.453094</td>\n",
       "      <td>-1.374286</td>\n",
       "      <td>-1.033520</td>\n",
       "      <td>-1.192453</td>\n",
       "      <td>-0.628205</td>\n",
       "    </tr>\n",
       "    <tr>\n",
       "      <th>1107</th>\n",
       "      <td>0.000005</td>\n",
       "      <td>0.0</td>\n",
       "      <td>3.803571</td>\n",
       "      <td>4.881081</td>\n",
       "      <td>-96.375000</td>\n",
       "      <td>4.156863</td>\n",
       "      <td>3.932773</td>\n",
       "      <td>3.254032</td>\n",
       "      <td>11.770270</td>\n",
       "      <td>-40.000000</td>\n",
       "      <td>4.964286</td>\n",
       "      <td>2.889610</td>\n",
       "      <td>2.692547</td>\n",
       "      <td>8.365854</td>\n",
       "      <td>3.369811</td>\n",
       "      <td>3.066079</td>\n",
       "      <td>7.198473</td>\n",
       "      <td>66.000000</td>\n",
       "      <td>15.235294</td>\n",
       "      <td>-8.551724</td>\n",
       "    </tr>\n",
       "    <tr>\n",
       "      <th>1108</th>\n",
       "      <td>0.000005</td>\n",
       "      <td>0.0</td>\n",
       "      <td>-0.806691</td>\n",
       "      <td>-1.200368</td>\n",
       "      <td>-1.287025</td>\n",
       "      <td>-0.735741</td>\n",
       "      <td>-1.143952</td>\n",
       "      <td>-1.138389</td>\n",
       "      <td>-1.277249</td>\n",
       "      <td>-1.336032</td>\n",
       "      <td>-0.635729</td>\n",
       "      <td>-0.980801</td>\n",
       "      <td>-1.103448</td>\n",
       "      <td>-1.199653</td>\n",
       "      <td>-1.150259</td>\n",
       "      <td>-1.120260</td>\n",
       "      <td>-1.329609</td>\n",
       "      <td>-1.202736</td>\n",
       "      <td>-1.295894</td>\n",
       "      <td>-1.385084</td>\n",
       "    </tr>\n",
       "    <tr>\n",
       "      <th>1109</th>\n",
       "      <td>0.000005</td>\n",
       "      <td>0.0</td>\n",
       "      <td>5.865385</td>\n",
       "      <td>-6.692661</td>\n",
       "      <td>-5.456621</td>\n",
       "      <td>4.312950</td>\n",
       "      <td>-8.360947</td>\n",
       "      <td>-9.369863</td>\n",
       "      <td>-5.328244</td>\n",
       "      <td>-4.698795</td>\n",
       "      <td>3.194521</td>\n",
       "      <td>56.347826</td>\n",
       "      <td>-10.707317</td>\n",
       "      <td>-6.708696</td>\n",
       "      <td>-8.316092</td>\n",
       "      <td>-11.423423</td>\n",
       "      <td>-4.353107</td>\n",
       "      <td>-7.595092</td>\n",
       "      <td>-4.893878</td>\n",
       "      <td>-4.517787</td>\n",
       "    </tr>\n",
       "  </tbody>\n",
       "</table>\n",
       "<p>1109 rows × 20 columns</p>\n",
       "</div>"
      ],
      "text/plain": [
       "      Unnamed: 0  <= 0      Lo 30    Med 40      Hi 30     Lo 20     Qnt 2  \\\n",
       "1       0.000005   0.0 -10.069767  1.000000  -0.220149 -7.736842  5.084746   \n",
       "2       0.000005   0.0  -1.276923 -1.177632  -0.923445 -1.125000 -1.389972   \n",
       "3       0.000005   0.0   2.074074  5.518519 -20.125000  5.854167  1.928571   \n",
       "4       0.000005   0.0  -0.861446 -2.085227  -2.009804 -0.832827 -1.531707   \n",
       "5       0.000005   0.0  -6.521739 -0.557592   0.051780 -3.163636  0.733945   \n",
       "...          ...   ...        ...       ...        ...       ...       ...   \n",
       "1105    0.000005   0.0  -3.940678  1.093264  -0.105919 -2.707182  1.537688   \n",
       "1106    0.000005   0.0  -1.645533 -1.457921  -0.972125 -1.660194 -1.471287   \n",
       "1107    0.000005   0.0   3.803571  4.881081 -96.375000  4.156863  3.932773   \n",
       "1108    0.000005   0.0  -0.806691 -1.200368  -1.287025 -0.735741 -1.143952   \n",
       "1109    0.000005   0.0   5.865385 -6.692661  -5.456621  4.312950 -8.360947   \n",
       "\n",
       "         Qnt 3      Qnt 4      Hi 20     Lo 10      Dec 2      Dec 3  \\\n",
       "1     1.318750   0.095238  -0.300300 -4.531034   7.931034 -27.866667   \n",
       "2    -1.000000  -1.310559  -1.038627 -0.818359  -1.722008  -1.563275   \n",
       "3         -inf   5.720000  31.777778 -6.204301  -0.053476   0.480176   \n",
       "4    -2.179931  -2.008929  -2.071186 -0.838843  -0.819209  -0.913690   \n",
       "5    -0.612903  -0.224189  -0.006329  2.410256 -16.500000 -19.103448   \n",
       "...        ...        ...        ...       ...        ...        ...   \n",
       "1105  1.215909   0.539130  -0.282421 -2.090498  -9.311475   1.912088   \n",
       "1106 -1.635897  -1.209040  -0.923695 -1.697095  -1.607495  -1.607547   \n",
       "1107  3.254032  11.770270 -40.000000  4.964286   2.889610   2.692547   \n",
       "1108 -1.138389  -1.277249  -1.336032 -0.635729  -0.980801  -1.103448   \n",
       "1109 -9.369863  -5.328244  -4.698795  3.194521  56.347826 -10.707317   \n",
       "\n",
       "         Dec 4      Dec 5      Dec 6     Dec 7      Dec 8      Dec 9     Hi 10  \n",
       "1     1.368421   1.193548   1.383838  0.032258   0.181159  -0.710059  0.124620  \n",
       "2    -1.168254  -0.974265  -1.014831 -2.025000  -0.607362  -1.877551 -0.818919  \n",
       "3     8.113208 -43.571429  39.000000  1.103659  -6.109375   3.034884 -4.626866  \n",
       "4    -1.962733  -2.087248  -2.275000 -2.107246  -1.902141  -2.040346 -2.111111  \n",
       "5    -0.503226  -0.583333  -0.641457 -0.523560   0.169492  -0.094183  0.114815  \n",
       "...        ...        ...        ...       ...        ...        ...       ...  \n",
       "1105  1.117117   0.786982   1.708108  0.822917   0.321033  -0.213650 -0.344538  \n",
       "1106 -1.261702  -1.877483  -1.453094 -1.374286  -1.033520  -1.192453 -0.628205  \n",
       "1107  8.365854   3.369811   3.066079  7.198473  66.000000  15.235294 -8.551724  \n",
       "1108 -1.199653  -1.150259  -1.120260 -1.329609  -1.202736  -1.295894 -1.385084  \n",
       "1109 -6.708696  -8.316092 -11.423423 -4.353107  -7.595092  -4.893878 -4.517787  \n",
       "\n",
       "[1109 rows x 20 columns]"
      ]
     },
     "execution_count": 6,
     "metadata": {},
     "output_type": "execute_result"
    }
   ],
   "source": [
    "\n",
    "returns"
   ]
  },
  {
   "cell_type": "code",
   "execution_count": 7,
   "id": "2e8cd28b-321b-4dc5-877c-a32ad8574cf6",
   "metadata": {},
   "outputs": [
    {
     "data": {
      "text/html": [
       "<div>\n",
       "<style scoped>\n",
       "    .dataframe tbody tr th:only-of-type {\n",
       "        vertical-align: middle;\n",
       "    }\n",
       "\n",
       "    .dataframe tbody tr th {\n",
       "        vertical-align: top;\n",
       "    }\n",
       "\n",
       "    .dataframe thead th {\n",
       "        text-align: right;\n",
       "    }\n",
       "</style>\n",
       "<table border=\"1\" class=\"dataframe\">\n",
       "  <thead>\n",
       "    <tr style=\"text-align: right;\">\n",
       "      <th></th>\n",
       "      <th>Unnamed: 0</th>\n",
       "      <th>&lt;= 0</th>\n",
       "      <th>Lo 30</th>\n",
       "      <th>Med 40</th>\n",
       "      <th>Hi 30</th>\n",
       "      <th>Lo 20</th>\n",
       "      <th>Qnt 2</th>\n",
       "      <th>Qnt 3</th>\n",
       "      <th>Qnt 4</th>\n",
       "      <th>Hi 20</th>\n",
       "      <th>Lo 10</th>\n",
       "      <th>Dec 2</th>\n",
       "      <th>Dec 3</th>\n",
       "      <th>Dec 4</th>\n",
       "      <th>Dec 5</th>\n",
       "      <th>Dec 6</th>\n",
       "      <th>Dec 7</th>\n",
       "      <th>Dec 8</th>\n",
       "      <th>Dec 9</th>\n",
       "      <th>Hi 10</th>\n",
       "    </tr>\n",
       "  </thead>\n",
       "  <tbody>\n",
       "    <tr>\n",
       "      <th>0</th>\n",
       "      <td>192607</td>\n",
       "      <td>-99.99</td>\n",
       "      <td>-0.43</td>\n",
       "      <td>1.52</td>\n",
       "      <td>2.68</td>\n",
       "      <td>-0.57</td>\n",
       "      <td>0.59</td>\n",
       "      <td>1.60</td>\n",
       "      <td>1.47</td>\n",
       "      <td>3.33</td>\n",
       "      <td>-1.45</td>\n",
       "      <td>0.29</td>\n",
       "      <td>-0.15</td>\n",
       "      <td>1.33</td>\n",
       "      <td>1.24</td>\n",
       "      <td>1.98</td>\n",
       "      <td>1.55</td>\n",
       "      <td>1.38</td>\n",
       "      <td>3.38</td>\n",
       "      <td>3.29</td>\n",
       "    </tr>\n",
       "    <tr>\n",
       "      <th>1</th>\n",
       "      <td>192608</td>\n",
       "      <td>-99.99</td>\n",
       "      <td>3.90</td>\n",
       "      <td>3.04</td>\n",
       "      <td>2.09</td>\n",
       "      <td>3.84</td>\n",
       "      <td>3.59</td>\n",
       "      <td>3.71</td>\n",
       "      <td>1.61</td>\n",
       "      <td>2.33</td>\n",
       "      <td>5.12</td>\n",
       "      <td>2.59</td>\n",
       "      <td>4.03</td>\n",
       "      <td>3.15</td>\n",
       "      <td>2.72</td>\n",
       "      <td>4.72</td>\n",
       "      <td>1.60</td>\n",
       "      <td>1.63</td>\n",
       "      <td>0.98</td>\n",
       "      <td>3.70</td>\n",
       "    </tr>\n",
       "    <tr>\n",
       "      <th>2</th>\n",
       "      <td>192609</td>\n",
       "      <td>-99.99</td>\n",
       "      <td>-1.08</td>\n",
       "      <td>-0.54</td>\n",
       "      <td>0.16</td>\n",
       "      <td>-0.48</td>\n",
       "      <td>-1.40</td>\n",
       "      <td>0.00</td>\n",
       "      <td>-0.50</td>\n",
       "      <td>-0.09</td>\n",
       "      <td>0.93</td>\n",
       "      <td>-1.87</td>\n",
       "      <td>-2.27</td>\n",
       "      <td>-0.53</td>\n",
       "      <td>0.07</td>\n",
       "      <td>-0.07</td>\n",
       "      <td>-1.64</td>\n",
       "      <td>0.64</td>\n",
       "      <td>-0.86</td>\n",
       "      <td>0.67</td>\n",
       "    </tr>\n",
       "    <tr>\n",
       "      <th>3</th>\n",
       "      <td>192610</td>\n",
       "      <td>-99.99</td>\n",
       "      <td>-3.32</td>\n",
       "      <td>-3.52</td>\n",
       "      <td>-3.06</td>\n",
       "      <td>-3.29</td>\n",
       "      <td>-4.10</td>\n",
       "      <td>-2.89</td>\n",
       "      <td>-3.36</td>\n",
       "      <td>-2.95</td>\n",
       "      <td>-4.84</td>\n",
       "      <td>-1.77</td>\n",
       "      <td>-3.36</td>\n",
       "      <td>-4.83</td>\n",
       "      <td>-2.98</td>\n",
       "      <td>-2.80</td>\n",
       "      <td>-3.45</td>\n",
       "      <td>-3.27</td>\n",
       "      <td>-3.47</td>\n",
       "      <td>-2.43</td>\n",
       "    </tr>\n",
       "    <tr>\n",
       "      <th>4</th>\n",
       "      <td>192611</td>\n",
       "      <td>-99.99</td>\n",
       "      <td>-0.46</td>\n",
       "      <td>3.82</td>\n",
       "      <td>3.09</td>\n",
       "      <td>-0.55</td>\n",
       "      <td>2.18</td>\n",
       "      <td>3.41</td>\n",
       "      <td>3.39</td>\n",
       "      <td>3.16</td>\n",
       "      <td>-0.78</td>\n",
       "      <td>-0.32</td>\n",
       "      <td>-0.29</td>\n",
       "      <td>4.65</td>\n",
       "      <td>3.24</td>\n",
       "      <td>3.57</td>\n",
       "      <td>3.82</td>\n",
       "      <td>2.95</td>\n",
       "      <td>3.61</td>\n",
       "      <td>2.70</td>\n",
       "    </tr>\n",
       "    <tr>\n",
       "      <th>...</th>\n",
       "      <td>...</td>\n",
       "      <td>...</td>\n",
       "      <td>...</td>\n",
       "      <td>...</td>\n",
       "      <td>...</td>\n",
       "      <td>...</td>\n",
       "      <td>...</td>\n",
       "      <td>...</td>\n",
       "      <td>...</td>\n",
       "      <td>...</td>\n",
       "      <td>...</td>\n",
       "      <td>...</td>\n",
       "      <td>...</td>\n",
       "      <td>...</td>\n",
       "      <td>...</td>\n",
       "      <td>...</td>\n",
       "      <td>...</td>\n",
       "      <td>...</td>\n",
       "      <td>...</td>\n",
       "      <td>...</td>\n",
       "    </tr>\n",
       "    <tr>\n",
       "      <th>1105</th>\n",
       "      <td>201808</td>\n",
       "      <td>-99.99</td>\n",
       "      <td>3.47</td>\n",
       "      <td>4.04</td>\n",
       "      <td>2.87</td>\n",
       "      <td>3.09</td>\n",
       "      <td>5.05</td>\n",
       "      <td>3.90</td>\n",
       "      <td>3.54</td>\n",
       "      <td>2.49</td>\n",
       "      <td>2.41</td>\n",
       "      <td>5.07</td>\n",
       "      <td>5.30</td>\n",
       "      <td>4.70</td>\n",
       "      <td>3.02</td>\n",
       "      <td>5.01</td>\n",
       "      <td>3.50</td>\n",
       "      <td>3.58</td>\n",
       "      <td>2.65</td>\n",
       "      <td>2.34</td>\n",
       "    </tr>\n",
       "    <tr>\n",
       "      <th>1106</th>\n",
       "      <td>201809</td>\n",
       "      <td>-99.99</td>\n",
       "      <td>-2.24</td>\n",
       "      <td>-1.85</td>\n",
       "      <td>0.08</td>\n",
       "      <td>-2.04</td>\n",
       "      <td>-2.38</td>\n",
       "      <td>-2.48</td>\n",
       "      <td>-0.74</td>\n",
       "      <td>0.19</td>\n",
       "      <td>-1.68</td>\n",
       "      <td>-3.08</td>\n",
       "      <td>-3.22</td>\n",
       "      <td>-1.23</td>\n",
       "      <td>-2.65</td>\n",
       "      <td>-2.27</td>\n",
       "      <td>-1.31</td>\n",
       "      <td>-0.12</td>\n",
       "      <td>-0.51</td>\n",
       "      <td>0.87</td>\n",
       "    </tr>\n",
       "    <tr>\n",
       "      <th>1107</th>\n",
       "      <td>201810</td>\n",
       "      <td>-99.99</td>\n",
       "      <td>-10.76</td>\n",
       "      <td>-10.88</td>\n",
       "      <td>-7.63</td>\n",
       "      <td>-10.52</td>\n",
       "      <td>-11.74</td>\n",
       "      <td>-10.55</td>\n",
       "      <td>-9.45</td>\n",
       "      <td>-7.41</td>\n",
       "      <td>-10.02</td>\n",
       "      <td>-11.98</td>\n",
       "      <td>-11.89</td>\n",
       "      <td>-11.52</td>\n",
       "      <td>-11.58</td>\n",
       "      <td>-9.23</td>\n",
       "      <td>-10.74</td>\n",
       "      <td>-8.04</td>\n",
       "      <td>-8.28</td>\n",
       "      <td>-6.57</td>\n",
       "    </tr>\n",
       "    <tr>\n",
       "      <th>1108</th>\n",
       "      <td>201811</td>\n",
       "      <td>-99.99</td>\n",
       "      <td>-2.08</td>\n",
       "      <td>2.18</td>\n",
       "      <td>2.19</td>\n",
       "      <td>-2.78</td>\n",
       "      <td>1.69</td>\n",
       "      <td>1.46</td>\n",
       "      <td>2.62</td>\n",
       "      <td>2.49</td>\n",
       "      <td>-3.65</td>\n",
       "      <td>-0.23</td>\n",
       "      <td>1.23</td>\n",
       "      <td>2.30</td>\n",
       "      <td>1.74</td>\n",
       "      <td>1.11</td>\n",
       "      <td>3.54</td>\n",
       "      <td>1.63</td>\n",
       "      <td>2.45</td>\n",
       "      <td>2.53</td>\n",
       "    </tr>\n",
       "    <tr>\n",
       "      <th>1109</th>\n",
       "      <td>201812</td>\n",
       "      <td>-99.99</td>\n",
       "      <td>-14.28</td>\n",
       "      <td>-12.41</td>\n",
       "      <td>-9.76</td>\n",
       "      <td>-14.77</td>\n",
       "      <td>-12.44</td>\n",
       "      <td>-12.22</td>\n",
       "      <td>-11.34</td>\n",
       "      <td>-9.21</td>\n",
       "      <td>-15.31</td>\n",
       "      <td>-13.19</td>\n",
       "      <td>-11.94</td>\n",
       "      <td>-13.13</td>\n",
       "      <td>-12.73</td>\n",
       "      <td>-11.57</td>\n",
       "      <td>-11.87</td>\n",
       "      <td>-10.75</td>\n",
       "      <td>-9.54</td>\n",
       "      <td>-8.90</td>\n",
       "    </tr>\n",
       "  </tbody>\n",
       "</table>\n",
       "<p>1110 rows × 20 columns</p>\n",
       "</div>"
      ],
      "text/plain": [
       "      Unnamed: 0   <= 0  Lo 30  Med 40  Hi 30  Lo 20  Qnt 2  Qnt 3  Qnt 4  \\\n",
       "0         192607 -99.99  -0.43    1.52   2.68  -0.57   0.59   1.60   1.47   \n",
       "1         192608 -99.99   3.90    3.04   2.09   3.84   3.59   3.71   1.61   \n",
       "2         192609 -99.99  -1.08   -0.54   0.16  -0.48  -1.40   0.00  -0.50   \n",
       "3         192610 -99.99  -3.32   -3.52  -3.06  -3.29  -4.10  -2.89  -3.36   \n",
       "4         192611 -99.99  -0.46    3.82   3.09  -0.55   2.18   3.41   3.39   \n",
       "...          ...    ...    ...     ...    ...    ...    ...    ...    ...   \n",
       "1105      201808 -99.99   3.47    4.04   2.87   3.09   5.05   3.90   3.54   \n",
       "1106      201809 -99.99  -2.24   -1.85   0.08  -2.04  -2.38  -2.48  -0.74   \n",
       "1107      201810 -99.99 -10.76  -10.88  -7.63 -10.52 -11.74 -10.55  -9.45   \n",
       "1108      201811 -99.99  -2.08    2.18   2.19  -2.78   1.69   1.46   2.62   \n",
       "1109      201812 -99.99 -14.28  -12.41  -9.76 -14.77 -12.44 -12.22 -11.34   \n",
       "\n",
       "      Hi 20  Lo 10  Dec 2  Dec 3  Dec 4  Dec 5  Dec 6  Dec 7  Dec 8  Dec 9  \\\n",
       "0      3.33  -1.45   0.29  -0.15   1.33   1.24   1.98   1.55   1.38   3.38   \n",
       "1      2.33   5.12   2.59   4.03   3.15   2.72   4.72   1.60   1.63   0.98   \n",
       "2     -0.09   0.93  -1.87  -2.27  -0.53   0.07  -0.07  -1.64   0.64  -0.86   \n",
       "3     -2.95  -4.84  -1.77  -3.36  -4.83  -2.98  -2.80  -3.45  -3.27  -3.47   \n",
       "4      3.16  -0.78  -0.32  -0.29   4.65   3.24   3.57   3.82   2.95   3.61   \n",
       "...     ...    ...    ...    ...    ...    ...    ...    ...    ...    ...   \n",
       "1105   2.49   2.41   5.07   5.30   4.70   3.02   5.01   3.50   3.58   2.65   \n",
       "1106   0.19  -1.68  -3.08  -3.22  -1.23  -2.65  -2.27  -1.31  -0.12  -0.51   \n",
       "1107  -7.41 -10.02 -11.98 -11.89 -11.52 -11.58  -9.23 -10.74  -8.04  -8.28   \n",
       "1108   2.49  -3.65  -0.23   1.23   2.30   1.74   1.11   3.54   1.63   2.45   \n",
       "1109  -9.21 -15.31 -13.19 -11.94 -13.13 -12.73 -11.57 -11.87 -10.75  -9.54   \n",
       "\n",
       "      Hi 10  \n",
       "0      3.29  \n",
       "1      3.70  \n",
       "2      0.67  \n",
       "3     -2.43  \n",
       "4      2.70  \n",
       "...     ...  \n",
       "1105   2.34  \n",
       "1106   0.87  \n",
       "1107  -6.57  \n",
       "1108   2.53  \n",
       "1109  -8.90  \n",
       "\n",
       "[1110 rows x 20 columns]"
      ]
     },
     "execution_count": 7,
     "metadata": {},
     "output_type": "execute_result"
    }
   ],
   "source": [
    "prices = pd.read_csv('data/Portfolios_Formed_on_ME_monthly_EW.csv')\n",
    "prices"
   ]
  },
  {
   "cell_type": "code",
   "execution_count": 8,
   "id": "2764f902-6f30-4b34-8849-b4dec28da866",
   "metadata": {},
   "outputs": [],
   "source": [
    "import numpy as np\n"
   ]
  },
  {
   "cell_type": "code",
   "execution_count": 11,
   "id": "f3ccf500-a1f6-403b-b74e-22006d9bb03d",
   "metadata": {},
   "outputs": [
    {
     "data": {
      "text/html": [
       "<div>\n",
       "<style scoped>\n",
       "    .dataframe tbody tr th:only-of-type {\n",
       "        vertical-align: middle;\n",
       "    }\n",
       "\n",
       "    .dataframe tbody tr th {\n",
       "        vertical-align: top;\n",
       "    }\n",
       "\n",
       "    .dataframe thead th {\n",
       "        text-align: right;\n",
       "    }\n",
       "</style>\n",
       "<table border=\"1\" class=\"dataframe\">\n",
       "  <thead>\n",
       "    <tr style=\"text-align: right;\">\n",
       "      <th></th>\n",
       "      <th>Unnamed: 0</th>\n",
       "      <th>&lt;= 0</th>\n",
       "      <th>Lo 30</th>\n",
       "      <th>Med 40</th>\n",
       "      <th>Hi 30</th>\n",
       "      <th>Lo 20</th>\n",
       "      <th>Qnt 2</th>\n",
       "      <th>Qnt 3</th>\n",
       "      <th>Qnt 4</th>\n",
       "      <th>Hi 20</th>\n",
       "      <th>Lo 10</th>\n",
       "      <th>Dec 2</th>\n",
       "      <th>Dec 3</th>\n",
       "      <th>Dec 4</th>\n",
       "      <th>Dec 5</th>\n",
       "      <th>Dec 6</th>\n",
       "      <th>Dec 7</th>\n",
       "      <th>Dec 8</th>\n",
       "      <th>Dec 9</th>\n",
       "      <th>Hi 10</th>\n",
       "    </tr>\n",
       "  </thead>\n",
       "  <tbody>\n",
       "    <tr>\n",
       "      <th>0</th>\n",
       "      <td>NaN</td>\n",
       "      <td>NaN</td>\n",
       "      <td>NaN</td>\n",
       "      <td>NaN</td>\n",
       "      <td>NaN</td>\n",
       "      <td>NaN</td>\n",
       "      <td>NaN</td>\n",
       "      <td>NaN</td>\n",
       "      <td>NaN</td>\n",
       "      <td>NaN</td>\n",
       "      <td>NaN</td>\n",
       "      <td>NaN</td>\n",
       "      <td>NaN</td>\n",
       "      <td>NaN</td>\n",
       "      <td>NaN</td>\n",
       "      <td>NaN</td>\n",
       "      <td>NaN</td>\n",
       "      <td>NaN</td>\n",
       "      <td>NaN</td>\n",
       "      <td>NaN</td>\n",
       "    </tr>\n",
       "    <tr>\n",
       "      <th>1</th>\n",
       "      <td>0.000005</td>\n",
       "      <td>0.0</td>\n",
       "      <td>-10.069767</td>\n",
       "      <td>1.000000</td>\n",
       "      <td>-0.220149</td>\n",
       "      <td>-7.736842</td>\n",
       "      <td>5.084746</td>\n",
       "      <td>1.318750</td>\n",
       "      <td>0.095238</td>\n",
       "      <td>-0.300300</td>\n",
       "      <td>-4.531034</td>\n",
       "      <td>7.931034</td>\n",
       "      <td>-27.866667</td>\n",
       "      <td>1.368421</td>\n",
       "      <td>1.193548</td>\n",
       "      <td>1.383838</td>\n",
       "      <td>0.032258</td>\n",
       "      <td>0.181159</td>\n",
       "      <td>-0.710059</td>\n",
       "      <td>0.124620</td>\n",
       "    </tr>\n",
       "    <tr>\n",
       "      <th>2</th>\n",
       "      <td>0.000005</td>\n",
       "      <td>0.0</td>\n",
       "      <td>-1.276923</td>\n",
       "      <td>-1.177632</td>\n",
       "      <td>-0.923445</td>\n",
       "      <td>-1.125000</td>\n",
       "      <td>-1.389972</td>\n",
       "      <td>-1.000000</td>\n",
       "      <td>-1.310559</td>\n",
       "      <td>-1.038627</td>\n",
       "      <td>-0.818359</td>\n",
       "      <td>-1.722008</td>\n",
       "      <td>-1.563275</td>\n",
       "      <td>-1.168254</td>\n",
       "      <td>-0.974265</td>\n",
       "      <td>-1.014831</td>\n",
       "      <td>-2.025000</td>\n",
       "      <td>-0.607362</td>\n",
       "      <td>-1.877551</td>\n",
       "      <td>-0.818919</td>\n",
       "    </tr>\n",
       "    <tr>\n",
       "      <th>3</th>\n",
       "      <td>0.000005</td>\n",
       "      <td>0.0</td>\n",
       "      <td>2.074074</td>\n",
       "      <td>5.518519</td>\n",
       "      <td>-20.125000</td>\n",
       "      <td>5.854167</td>\n",
       "      <td>1.928571</td>\n",
       "      <td>-inf</td>\n",
       "      <td>5.720000</td>\n",
       "      <td>31.777778</td>\n",
       "      <td>-6.204301</td>\n",
       "      <td>-0.053476</td>\n",
       "      <td>0.480176</td>\n",
       "      <td>8.113208</td>\n",
       "      <td>-43.571429</td>\n",
       "      <td>39.000000</td>\n",
       "      <td>1.103659</td>\n",
       "      <td>-6.109375</td>\n",
       "      <td>3.034884</td>\n",
       "      <td>-4.626866</td>\n",
       "    </tr>\n",
       "    <tr>\n",
       "      <th>4</th>\n",
       "      <td>0.000005</td>\n",
       "      <td>0.0</td>\n",
       "      <td>-0.861446</td>\n",
       "      <td>-2.085227</td>\n",
       "      <td>-2.009804</td>\n",
       "      <td>-0.832827</td>\n",
       "      <td>-1.531707</td>\n",
       "      <td>-2.179931</td>\n",
       "      <td>-2.008929</td>\n",
       "      <td>-2.071186</td>\n",
       "      <td>-0.838843</td>\n",
       "      <td>-0.819209</td>\n",
       "      <td>-0.913690</td>\n",
       "      <td>-1.962733</td>\n",
       "      <td>-2.087248</td>\n",
       "      <td>-2.275000</td>\n",
       "      <td>-2.107246</td>\n",
       "      <td>-1.902141</td>\n",
       "      <td>-2.040346</td>\n",
       "      <td>-2.111111</td>\n",
       "    </tr>\n",
       "    <tr>\n",
       "      <th>...</th>\n",
       "      <td>...</td>\n",
       "      <td>...</td>\n",
       "      <td>...</td>\n",
       "      <td>...</td>\n",
       "      <td>...</td>\n",
       "      <td>...</td>\n",
       "      <td>...</td>\n",
       "      <td>...</td>\n",
       "      <td>...</td>\n",
       "      <td>...</td>\n",
       "      <td>...</td>\n",
       "      <td>...</td>\n",
       "      <td>...</td>\n",
       "      <td>...</td>\n",
       "      <td>...</td>\n",
       "      <td>...</td>\n",
       "      <td>...</td>\n",
       "      <td>...</td>\n",
       "      <td>...</td>\n",
       "      <td>...</td>\n",
       "    </tr>\n",
       "    <tr>\n",
       "      <th>1105</th>\n",
       "      <td>0.000005</td>\n",
       "      <td>0.0</td>\n",
       "      <td>-3.940678</td>\n",
       "      <td>1.093264</td>\n",
       "      <td>-0.105919</td>\n",
       "      <td>-2.707182</td>\n",
       "      <td>1.537688</td>\n",
       "      <td>1.215909</td>\n",
       "      <td>0.539130</td>\n",
       "      <td>-0.282421</td>\n",
       "      <td>-2.090498</td>\n",
       "      <td>-9.311475</td>\n",
       "      <td>1.912088</td>\n",
       "      <td>1.117117</td>\n",
       "      <td>0.786982</td>\n",
       "      <td>1.708108</td>\n",
       "      <td>0.822917</td>\n",
       "      <td>0.321033</td>\n",
       "      <td>-0.213650</td>\n",
       "      <td>-0.344538</td>\n",
       "    </tr>\n",
       "    <tr>\n",
       "      <th>1106</th>\n",
       "      <td>0.000005</td>\n",
       "      <td>0.0</td>\n",
       "      <td>-1.645533</td>\n",
       "      <td>-1.457921</td>\n",
       "      <td>-0.972125</td>\n",
       "      <td>-1.660194</td>\n",
       "      <td>-1.471287</td>\n",
       "      <td>-1.635897</td>\n",
       "      <td>-1.209040</td>\n",
       "      <td>-0.923695</td>\n",
       "      <td>-1.697095</td>\n",
       "      <td>-1.607495</td>\n",
       "      <td>-1.607547</td>\n",
       "      <td>-1.261702</td>\n",
       "      <td>-1.877483</td>\n",
       "      <td>-1.453094</td>\n",
       "      <td>-1.374286</td>\n",
       "      <td>-1.033520</td>\n",
       "      <td>-1.192453</td>\n",
       "      <td>-0.628205</td>\n",
       "    </tr>\n",
       "    <tr>\n",
       "      <th>1107</th>\n",
       "      <td>0.000005</td>\n",
       "      <td>0.0</td>\n",
       "      <td>3.803571</td>\n",
       "      <td>4.881081</td>\n",
       "      <td>-96.375000</td>\n",
       "      <td>4.156863</td>\n",
       "      <td>3.932773</td>\n",
       "      <td>3.254032</td>\n",
       "      <td>11.770270</td>\n",
       "      <td>-40.000000</td>\n",
       "      <td>4.964286</td>\n",
       "      <td>2.889610</td>\n",
       "      <td>2.692547</td>\n",
       "      <td>8.365854</td>\n",
       "      <td>3.369811</td>\n",
       "      <td>3.066079</td>\n",
       "      <td>7.198473</td>\n",
       "      <td>66.000000</td>\n",
       "      <td>15.235294</td>\n",
       "      <td>-8.551724</td>\n",
       "    </tr>\n",
       "    <tr>\n",
       "      <th>1108</th>\n",
       "      <td>0.000005</td>\n",
       "      <td>0.0</td>\n",
       "      <td>-0.806691</td>\n",
       "      <td>-1.200368</td>\n",
       "      <td>-1.287025</td>\n",
       "      <td>-0.735741</td>\n",
       "      <td>-1.143952</td>\n",
       "      <td>-1.138389</td>\n",
       "      <td>-1.277249</td>\n",
       "      <td>-1.336032</td>\n",
       "      <td>-0.635729</td>\n",
       "      <td>-0.980801</td>\n",
       "      <td>-1.103448</td>\n",
       "      <td>-1.199653</td>\n",
       "      <td>-1.150259</td>\n",
       "      <td>-1.120260</td>\n",
       "      <td>-1.329609</td>\n",
       "      <td>-1.202736</td>\n",
       "      <td>-1.295894</td>\n",
       "      <td>-1.385084</td>\n",
       "    </tr>\n",
       "    <tr>\n",
       "      <th>1109</th>\n",
       "      <td>0.000005</td>\n",
       "      <td>0.0</td>\n",
       "      <td>5.865385</td>\n",
       "      <td>-6.692661</td>\n",
       "      <td>-5.456621</td>\n",
       "      <td>4.312950</td>\n",
       "      <td>-8.360947</td>\n",
       "      <td>-9.369863</td>\n",
       "      <td>-5.328244</td>\n",
       "      <td>-4.698795</td>\n",
       "      <td>3.194521</td>\n",
       "      <td>56.347826</td>\n",
       "      <td>-10.707317</td>\n",
       "      <td>-6.708696</td>\n",
       "      <td>-8.316092</td>\n",
       "      <td>-11.423423</td>\n",
       "      <td>-4.353107</td>\n",
       "      <td>-7.595092</td>\n",
       "      <td>-4.893878</td>\n",
       "      <td>-4.517787</td>\n",
       "    </tr>\n",
       "  </tbody>\n",
       "</table>\n",
       "<p>1110 rows × 20 columns</p>\n",
       "</div>"
      ],
      "text/plain": [
       "      Unnamed: 0  <= 0      Lo 30    Med 40      Hi 30     Lo 20     Qnt 2  \\\n",
       "0            NaN   NaN        NaN       NaN        NaN       NaN       NaN   \n",
       "1       0.000005   0.0 -10.069767  1.000000  -0.220149 -7.736842  5.084746   \n",
       "2       0.000005   0.0  -1.276923 -1.177632  -0.923445 -1.125000 -1.389972   \n",
       "3       0.000005   0.0   2.074074  5.518519 -20.125000  5.854167  1.928571   \n",
       "4       0.000005   0.0  -0.861446 -2.085227  -2.009804 -0.832827 -1.531707   \n",
       "...          ...   ...        ...       ...        ...       ...       ...   \n",
       "1105    0.000005   0.0  -3.940678  1.093264  -0.105919 -2.707182  1.537688   \n",
       "1106    0.000005   0.0  -1.645533 -1.457921  -0.972125 -1.660194 -1.471287   \n",
       "1107    0.000005   0.0   3.803571  4.881081 -96.375000  4.156863  3.932773   \n",
       "1108    0.000005   0.0  -0.806691 -1.200368  -1.287025 -0.735741 -1.143952   \n",
       "1109    0.000005   0.0   5.865385 -6.692661  -5.456621  4.312950 -8.360947   \n",
       "\n",
       "         Qnt 3      Qnt 4      Hi 20     Lo 10      Dec 2      Dec 3  \\\n",
       "0          NaN        NaN        NaN       NaN        NaN        NaN   \n",
       "1     1.318750   0.095238  -0.300300 -4.531034   7.931034 -27.866667   \n",
       "2    -1.000000  -1.310559  -1.038627 -0.818359  -1.722008  -1.563275   \n",
       "3         -inf   5.720000  31.777778 -6.204301  -0.053476   0.480176   \n",
       "4    -2.179931  -2.008929  -2.071186 -0.838843  -0.819209  -0.913690   \n",
       "...        ...        ...        ...       ...        ...        ...   \n",
       "1105  1.215909   0.539130  -0.282421 -2.090498  -9.311475   1.912088   \n",
       "1106 -1.635897  -1.209040  -0.923695 -1.697095  -1.607495  -1.607547   \n",
       "1107  3.254032  11.770270 -40.000000  4.964286   2.889610   2.692547   \n",
       "1108 -1.138389  -1.277249  -1.336032 -0.635729  -0.980801  -1.103448   \n",
       "1109 -9.369863  -5.328244  -4.698795  3.194521  56.347826 -10.707317   \n",
       "\n",
       "         Dec 4      Dec 5      Dec 6     Dec 7      Dec 8      Dec 9     Hi 10  \n",
       "0          NaN        NaN        NaN       NaN        NaN        NaN       NaN  \n",
       "1     1.368421   1.193548   1.383838  0.032258   0.181159  -0.710059  0.124620  \n",
       "2    -1.168254  -0.974265  -1.014831 -2.025000  -0.607362  -1.877551 -0.818919  \n",
       "3     8.113208 -43.571429  39.000000  1.103659  -6.109375   3.034884 -4.626866  \n",
       "4    -1.962733  -2.087248  -2.275000 -2.107246  -1.902141  -2.040346 -2.111111  \n",
       "...        ...        ...        ...       ...        ...        ...       ...  \n",
       "1105  1.117117   0.786982   1.708108  0.822917   0.321033  -0.213650 -0.344538  \n",
       "1106 -1.261702  -1.877483  -1.453094 -1.374286  -1.033520  -1.192453 -0.628205  \n",
       "1107  8.365854   3.369811   3.066079  7.198473  66.000000  15.235294 -8.551724  \n",
       "1108 -1.199653  -1.150259  -1.120260 -1.329609  -1.202736  -1.295894 -1.385084  \n",
       "1109 -6.708696  -8.316092 -11.423423 -4.353107  -7.595092  -4.893878 -4.517787  \n",
       "\n",
       "[1110 rows x 20 columns]"
      ]
     },
     "execution_count": 11,
     "metadata": {},
     "output_type": "execute_result"
    }
   ],
   "source": [
    "returns = prices.pct_change()\n",
    "returns"
   ]
  },
  {
   "cell_type": "code",
   "execution_count": 12,
   "id": "ac637929-1da5-4224-8f44-60a9ebf47a02",
   "metadata": {},
   "outputs": [
    {
     "data": {
      "text/plain": [
       "Unnamed: 0    0.000042\n",
       "<= 0          0.000000\n",
       "Lo 30             -inf\n",
       "Med 40            -inf\n",
       "Hi 30              inf\n",
       "Lo 20             -inf\n",
       "Qnt 2        -0.643701\n",
       "Qnt 3              NaN\n",
       "Qnt 4              inf\n",
       "Hi 20        -0.220983\n",
       "Lo 10        -0.971912\n",
       "Dec 2        -0.781979\n",
       "Dec 3         0.160659\n",
       "Dec 4        -0.534615\n",
       "Dec 5        -0.366265\n",
       "Dec 6        -1.172918\n",
       "Dec 7        -0.325014\n",
       "Dec 8        -1.046962\n",
       "Dec 9              NaN\n",
       "Hi 10             -inf\n",
       "dtype: float64"
      ]
     },
     "execution_count": 12,
     "metadata": {},
     "output_type": "execute_result"
    }
   ],
   "source": [
    "returns.mean()"
   ]
  },
  {
   "cell_type": "code",
   "execution_count": 13,
   "id": "4781a04a-2e10-4717-bb82-22bf578fd791",
   "metadata": {},
   "outputs": [
    {
     "data": {
      "text/plain": [
       "Unnamed: 0     0.000123\n",
       "<= 0           0.000000\n",
       "Lo 30               NaN\n",
       "Med 40              NaN\n",
       "Hi 30               NaN\n",
       "Lo 20               NaN\n",
       "Qnt 2         20.542620\n",
       "Qnt 3               NaN\n",
       "Qnt 4               NaN\n",
       "Hi 20         27.249636\n",
       "Lo 10         14.204147\n",
       "Dec 2         19.969911\n",
       "Dec 3         21.495565\n",
       "Dec 4         24.969262\n",
       "Dec 5         16.833925\n",
       "Dec 6         12.114358\n",
       "Dec 7         14.264474\n",
       "Dec 8         14.026059\n",
       "Dec 9               NaN\n",
       "Hi 10               NaN\n",
       "dtype: float64"
      ]
     },
     "execution_count": 13,
     "metadata": {},
     "output_type": "execute_result"
    }
   ],
   "source": [
    "returns.std()"
   ]
  },
  {
   "cell_type": "code",
   "execution_count": 15,
   "id": "67942dfd-3253-4639-a7c1-ff6b15f144bb",
   "metadata": {},
   "outputs": [
    {
     "data": {
      "text/html": [
       "<div>\n",
       "<style scoped>\n",
       "    .dataframe tbody tr th:only-of-type {\n",
       "        vertical-align: middle;\n",
       "    }\n",
       "\n",
       "    .dataframe tbody tr th {\n",
       "        vertical-align: top;\n",
       "    }\n",
       "\n",
       "    .dataframe thead th {\n",
       "        text-align: right;\n",
       "    }\n",
       "</style>\n",
       "<table border=\"1\" class=\"dataframe\">\n",
       "  <thead>\n",
       "    <tr style=\"text-align: right;\">\n",
       "      <th></th>\n",
       "      <th>Unnamed: 0</th>\n",
       "      <th>&lt;= 0</th>\n",
       "      <th>Lo 30</th>\n",
       "      <th>Med 40</th>\n",
       "      <th>Hi 30</th>\n",
       "      <th>Lo 20</th>\n",
       "      <th>Qnt 2</th>\n",
       "      <th>Qnt 3</th>\n",
       "      <th>Qnt 4</th>\n",
       "      <th>Hi 20</th>\n",
       "      <th>Lo 10</th>\n",
       "      <th>Dec 2</th>\n",
       "      <th>Dec 3</th>\n",
       "      <th>Dec 4</th>\n",
       "      <th>Dec 5</th>\n",
       "      <th>Dec 6</th>\n",
       "      <th>Dec 7</th>\n",
       "      <th>Dec 8</th>\n",
       "      <th>Dec 9</th>\n",
       "      <th>Hi 10</th>\n",
       "    </tr>\n",
       "  </thead>\n",
       "  <tbody>\n",
       "    <tr>\n",
       "      <th>1</th>\n",
       "      <td>0.000005</td>\n",
       "      <td>0.0</td>\n",
       "      <td>-10.069767</td>\n",
       "      <td>1.000000</td>\n",
       "      <td>-0.220149</td>\n",
       "      <td>-7.736842</td>\n",
       "      <td>5.084746</td>\n",
       "      <td>1.318750</td>\n",
       "      <td>0.095238</td>\n",
       "      <td>-0.300300</td>\n",
       "      <td>-4.531034</td>\n",
       "      <td>7.931034</td>\n",
       "      <td>-27.866667</td>\n",
       "      <td>1.368421</td>\n",
       "      <td>1.193548</td>\n",
       "      <td>1.383838</td>\n",
       "      <td>0.032258</td>\n",
       "      <td>0.181159</td>\n",
       "      <td>-0.710059</td>\n",
       "      <td>0.124620</td>\n",
       "    </tr>\n",
       "    <tr>\n",
       "      <th>2</th>\n",
       "      <td>0.000005</td>\n",
       "      <td>0.0</td>\n",
       "      <td>-1.276923</td>\n",
       "      <td>-1.177632</td>\n",
       "      <td>-0.923445</td>\n",
       "      <td>-1.125000</td>\n",
       "      <td>-1.389972</td>\n",
       "      <td>-1.000000</td>\n",
       "      <td>-1.310559</td>\n",
       "      <td>-1.038627</td>\n",
       "      <td>-0.818359</td>\n",
       "      <td>-1.722008</td>\n",
       "      <td>-1.563275</td>\n",
       "      <td>-1.168254</td>\n",
       "      <td>-0.974265</td>\n",
       "      <td>-1.014831</td>\n",
       "      <td>-2.025000</td>\n",
       "      <td>-0.607362</td>\n",
       "      <td>-1.877551</td>\n",
       "      <td>-0.818919</td>\n",
       "    </tr>\n",
       "    <tr>\n",
       "      <th>3</th>\n",
       "      <td>0.000005</td>\n",
       "      <td>0.0</td>\n",
       "      <td>2.074074</td>\n",
       "      <td>5.518519</td>\n",
       "      <td>-20.125000</td>\n",
       "      <td>5.854167</td>\n",
       "      <td>1.928571</td>\n",
       "      <td>-inf</td>\n",
       "      <td>5.720000</td>\n",
       "      <td>31.777778</td>\n",
       "      <td>-6.204301</td>\n",
       "      <td>-0.053476</td>\n",
       "      <td>0.480176</td>\n",
       "      <td>8.113208</td>\n",
       "      <td>-43.571429</td>\n",
       "      <td>39.000000</td>\n",
       "      <td>1.103659</td>\n",
       "      <td>-6.109375</td>\n",
       "      <td>3.034884</td>\n",
       "      <td>-4.626866</td>\n",
       "    </tr>\n",
       "    <tr>\n",
       "      <th>4</th>\n",
       "      <td>0.000005</td>\n",
       "      <td>0.0</td>\n",
       "      <td>-0.861446</td>\n",
       "      <td>-2.085227</td>\n",
       "      <td>-2.009804</td>\n",
       "      <td>-0.832827</td>\n",
       "      <td>-1.531707</td>\n",
       "      <td>-2.179931</td>\n",
       "      <td>-2.008929</td>\n",
       "      <td>-2.071186</td>\n",
       "      <td>-0.838843</td>\n",
       "      <td>-0.819209</td>\n",
       "      <td>-0.913690</td>\n",
       "      <td>-1.962733</td>\n",
       "      <td>-2.087248</td>\n",
       "      <td>-2.275000</td>\n",
       "      <td>-2.107246</td>\n",
       "      <td>-1.902141</td>\n",
       "      <td>-2.040346</td>\n",
       "      <td>-2.111111</td>\n",
       "    </tr>\n",
       "    <tr>\n",
       "      <th>5</th>\n",
       "      <td>0.000005</td>\n",
       "      <td>0.0</td>\n",
       "      <td>-6.521739</td>\n",
       "      <td>-0.557592</td>\n",
       "      <td>0.051780</td>\n",
       "      <td>-3.163636</td>\n",
       "      <td>0.733945</td>\n",
       "      <td>-0.612903</td>\n",
       "      <td>-0.224189</td>\n",
       "      <td>-0.006329</td>\n",
       "      <td>2.410256</td>\n",
       "      <td>-16.500000</td>\n",
       "      <td>-19.103448</td>\n",
       "      <td>-0.503226</td>\n",
       "      <td>-0.583333</td>\n",
       "      <td>-0.641457</td>\n",
       "      <td>-0.523560</td>\n",
       "      <td>0.169492</td>\n",
       "      <td>-0.094183</td>\n",
       "      <td>0.114815</td>\n",
       "    </tr>\n",
       "    <tr>\n",
       "      <th>...</th>\n",
       "      <td>...</td>\n",
       "      <td>...</td>\n",
       "      <td>...</td>\n",
       "      <td>...</td>\n",
       "      <td>...</td>\n",
       "      <td>...</td>\n",
       "      <td>...</td>\n",
       "      <td>...</td>\n",
       "      <td>...</td>\n",
       "      <td>...</td>\n",
       "      <td>...</td>\n",
       "      <td>...</td>\n",
       "      <td>...</td>\n",
       "      <td>...</td>\n",
       "      <td>...</td>\n",
       "      <td>...</td>\n",
       "      <td>...</td>\n",
       "      <td>...</td>\n",
       "      <td>...</td>\n",
       "      <td>...</td>\n",
       "    </tr>\n",
       "    <tr>\n",
       "      <th>1105</th>\n",
       "      <td>0.000005</td>\n",
       "      <td>0.0</td>\n",
       "      <td>-3.940678</td>\n",
       "      <td>1.093264</td>\n",
       "      <td>-0.105919</td>\n",
       "      <td>-2.707182</td>\n",
       "      <td>1.537688</td>\n",
       "      <td>1.215909</td>\n",
       "      <td>0.539130</td>\n",
       "      <td>-0.282421</td>\n",
       "      <td>-2.090498</td>\n",
       "      <td>-9.311475</td>\n",
       "      <td>1.912088</td>\n",
       "      <td>1.117117</td>\n",
       "      <td>0.786982</td>\n",
       "      <td>1.708108</td>\n",
       "      <td>0.822917</td>\n",
       "      <td>0.321033</td>\n",
       "      <td>-0.213650</td>\n",
       "      <td>-0.344538</td>\n",
       "    </tr>\n",
       "    <tr>\n",
       "      <th>1106</th>\n",
       "      <td>0.000005</td>\n",
       "      <td>0.0</td>\n",
       "      <td>-1.645533</td>\n",
       "      <td>-1.457921</td>\n",
       "      <td>-0.972125</td>\n",
       "      <td>-1.660194</td>\n",
       "      <td>-1.471287</td>\n",
       "      <td>-1.635897</td>\n",
       "      <td>-1.209040</td>\n",
       "      <td>-0.923695</td>\n",
       "      <td>-1.697095</td>\n",
       "      <td>-1.607495</td>\n",
       "      <td>-1.607547</td>\n",
       "      <td>-1.261702</td>\n",
       "      <td>-1.877483</td>\n",
       "      <td>-1.453094</td>\n",
       "      <td>-1.374286</td>\n",
       "      <td>-1.033520</td>\n",
       "      <td>-1.192453</td>\n",
       "      <td>-0.628205</td>\n",
       "    </tr>\n",
       "    <tr>\n",
       "      <th>1107</th>\n",
       "      <td>0.000005</td>\n",
       "      <td>0.0</td>\n",
       "      <td>3.803571</td>\n",
       "      <td>4.881081</td>\n",
       "      <td>-96.375000</td>\n",
       "      <td>4.156863</td>\n",
       "      <td>3.932773</td>\n",
       "      <td>3.254032</td>\n",
       "      <td>11.770270</td>\n",
       "      <td>-40.000000</td>\n",
       "      <td>4.964286</td>\n",
       "      <td>2.889610</td>\n",
       "      <td>2.692547</td>\n",
       "      <td>8.365854</td>\n",
       "      <td>3.369811</td>\n",
       "      <td>3.066079</td>\n",
       "      <td>7.198473</td>\n",
       "      <td>66.000000</td>\n",
       "      <td>15.235294</td>\n",
       "      <td>-8.551724</td>\n",
       "    </tr>\n",
       "    <tr>\n",
       "      <th>1108</th>\n",
       "      <td>0.000005</td>\n",
       "      <td>0.0</td>\n",
       "      <td>-0.806691</td>\n",
       "      <td>-1.200368</td>\n",
       "      <td>-1.287025</td>\n",
       "      <td>-0.735741</td>\n",
       "      <td>-1.143952</td>\n",
       "      <td>-1.138389</td>\n",
       "      <td>-1.277249</td>\n",
       "      <td>-1.336032</td>\n",
       "      <td>-0.635729</td>\n",
       "      <td>-0.980801</td>\n",
       "      <td>-1.103448</td>\n",
       "      <td>-1.199653</td>\n",
       "      <td>-1.150259</td>\n",
       "      <td>-1.120260</td>\n",
       "      <td>-1.329609</td>\n",
       "      <td>-1.202736</td>\n",
       "      <td>-1.295894</td>\n",
       "      <td>-1.385084</td>\n",
       "    </tr>\n",
       "    <tr>\n",
       "      <th>1109</th>\n",
       "      <td>0.000005</td>\n",
       "      <td>0.0</td>\n",
       "      <td>5.865385</td>\n",
       "      <td>-6.692661</td>\n",
       "      <td>-5.456621</td>\n",
       "      <td>4.312950</td>\n",
       "      <td>-8.360947</td>\n",
       "      <td>-9.369863</td>\n",
       "      <td>-5.328244</td>\n",
       "      <td>-4.698795</td>\n",
       "      <td>3.194521</td>\n",
       "      <td>56.347826</td>\n",
       "      <td>-10.707317</td>\n",
       "      <td>-6.708696</td>\n",
       "      <td>-8.316092</td>\n",
       "      <td>-11.423423</td>\n",
       "      <td>-4.353107</td>\n",
       "      <td>-7.595092</td>\n",
       "      <td>-4.893878</td>\n",
       "      <td>-4.517787</td>\n",
       "    </tr>\n",
       "  </tbody>\n",
       "</table>\n",
       "<p>1109 rows × 20 columns</p>\n",
       "</div>"
      ],
      "text/plain": [
       "      Unnamed: 0  <= 0      Lo 30    Med 40      Hi 30     Lo 20     Qnt 2  \\\n",
       "1       0.000005   0.0 -10.069767  1.000000  -0.220149 -7.736842  5.084746   \n",
       "2       0.000005   0.0  -1.276923 -1.177632  -0.923445 -1.125000 -1.389972   \n",
       "3       0.000005   0.0   2.074074  5.518519 -20.125000  5.854167  1.928571   \n",
       "4       0.000005   0.0  -0.861446 -2.085227  -2.009804 -0.832827 -1.531707   \n",
       "5       0.000005   0.0  -6.521739 -0.557592   0.051780 -3.163636  0.733945   \n",
       "...          ...   ...        ...       ...        ...       ...       ...   \n",
       "1105    0.000005   0.0  -3.940678  1.093264  -0.105919 -2.707182  1.537688   \n",
       "1106    0.000005   0.0  -1.645533 -1.457921  -0.972125 -1.660194 -1.471287   \n",
       "1107    0.000005   0.0   3.803571  4.881081 -96.375000  4.156863  3.932773   \n",
       "1108    0.000005   0.0  -0.806691 -1.200368  -1.287025 -0.735741 -1.143952   \n",
       "1109    0.000005   0.0   5.865385 -6.692661  -5.456621  4.312950 -8.360947   \n",
       "\n",
       "         Qnt 3      Qnt 4      Hi 20     Lo 10      Dec 2      Dec 3  \\\n",
       "1     1.318750   0.095238  -0.300300 -4.531034   7.931034 -27.866667   \n",
       "2    -1.000000  -1.310559  -1.038627 -0.818359  -1.722008  -1.563275   \n",
       "3         -inf   5.720000  31.777778 -6.204301  -0.053476   0.480176   \n",
       "4    -2.179931  -2.008929  -2.071186 -0.838843  -0.819209  -0.913690   \n",
       "5    -0.612903  -0.224189  -0.006329  2.410256 -16.500000 -19.103448   \n",
       "...        ...        ...        ...       ...        ...        ...   \n",
       "1105  1.215909   0.539130  -0.282421 -2.090498  -9.311475   1.912088   \n",
       "1106 -1.635897  -1.209040  -0.923695 -1.697095  -1.607495  -1.607547   \n",
       "1107  3.254032  11.770270 -40.000000  4.964286   2.889610   2.692547   \n",
       "1108 -1.138389  -1.277249  -1.336032 -0.635729  -0.980801  -1.103448   \n",
       "1109 -9.369863  -5.328244  -4.698795  3.194521  56.347826 -10.707317   \n",
       "\n",
       "         Dec 4      Dec 5      Dec 6     Dec 7      Dec 8      Dec 9     Hi 10  \n",
       "1     1.368421   1.193548   1.383838  0.032258   0.181159  -0.710059  0.124620  \n",
       "2    -1.168254  -0.974265  -1.014831 -2.025000  -0.607362  -1.877551 -0.818919  \n",
       "3     8.113208 -43.571429  39.000000  1.103659  -6.109375   3.034884 -4.626866  \n",
       "4    -1.962733  -2.087248  -2.275000 -2.107246  -1.902141  -2.040346 -2.111111  \n",
       "5    -0.503226  -0.583333  -0.641457 -0.523560   0.169492  -0.094183  0.114815  \n",
       "...        ...        ...        ...       ...        ...        ...       ...  \n",
       "1105  1.117117   0.786982   1.708108  0.822917   0.321033  -0.213650 -0.344538  \n",
       "1106 -1.261702  -1.877483  -1.453094 -1.374286  -1.033520  -1.192453 -0.628205  \n",
       "1107  8.365854   3.369811   3.066079  7.198473  66.000000  15.235294 -8.551724  \n",
       "1108 -1.199653  -1.150259  -1.120260 -1.329609  -1.202736  -1.295894 -1.385084  \n",
       "1109 -6.708696  -8.316092 -11.423423 -4.353107  -7.595092  -4.893878 -4.517787  \n",
       "\n",
       "[1109 rows x 20 columns]"
      ]
     },
     "execution_count": 15,
     "metadata": {},
     "output_type": "execute_result"
    }
   ],
   "source": [
    "returns = returns.dropna()\n",
    "returns"
   ]
  },
  {
   "cell_type": "code",
   "execution_count": 16,
   "id": "e2a470b9-4266-4a92-9c7b-04585176c70d",
   "metadata": {},
   "outputs": [
    {
     "data": {
      "text/plain": [
       "Unnamed: 0    0.000042\n",
       "<= 0          0.000000\n",
       "Lo 30             -inf\n",
       "Med 40            -inf\n",
       "Hi 30              inf\n",
       "Lo 20             -inf\n",
       "Qnt 2        -0.643701\n",
       "Qnt 3              NaN\n",
       "Qnt 4              inf\n",
       "Hi 20        -0.220983\n",
       "Lo 10        -0.971912\n",
       "Dec 2        -0.781979\n",
       "Dec 3         0.160659\n",
       "Dec 4        -0.534615\n",
       "Dec 5        -0.366265\n",
       "Dec 6        -1.172918\n",
       "Dec 7        -0.325014\n",
       "Dec 8        -1.046962\n",
       "Dec 9              NaN\n",
       "Hi 10             -inf\n",
       "dtype: float64"
      ]
     },
     "execution_count": 16,
     "metadata": {},
     "output_type": "execute_result"
    }
   ],
   "source": [
    "returns.mean()"
   ]
  },
  {
   "cell_type": "code",
   "execution_count": 17,
   "id": "065bbb0d-eff2-421f-84eb-cac7c9447794",
   "metadata": {},
   "outputs": [
    {
     "data": {
      "text/html": [
       "<div>\n",
       "<style scoped>\n",
       "    .dataframe tbody tr th:only-of-type {\n",
       "        vertical-align: middle;\n",
       "    }\n",
       "\n",
       "    .dataframe tbody tr th {\n",
       "        vertical-align: top;\n",
       "    }\n",
       "\n",
       "    .dataframe thead th {\n",
       "        text-align: right;\n",
       "    }\n",
       "</style>\n",
       "<table border=\"1\" class=\"dataframe\">\n",
       "  <thead>\n",
       "    <tr style=\"text-align: right;\">\n",
       "      <th></th>\n",
       "      <th>Unnamed: 0</th>\n",
       "      <th>&lt;= 0</th>\n",
       "      <th>Lo 30</th>\n",
       "      <th>Med 40</th>\n",
       "      <th>Hi 30</th>\n",
       "      <th>Lo 20</th>\n",
       "      <th>Qnt 2</th>\n",
       "      <th>Qnt 3</th>\n",
       "      <th>Qnt 4</th>\n",
       "      <th>Hi 20</th>\n",
       "      <th>Lo 10</th>\n",
       "      <th>Dec 2</th>\n",
       "      <th>Dec 3</th>\n",
       "      <th>Dec 4</th>\n",
       "      <th>Dec 5</th>\n",
       "      <th>Dec 6</th>\n",
       "      <th>Dec 7</th>\n",
       "      <th>Dec 8</th>\n",
       "      <th>Dec 9</th>\n",
       "      <th>Hi 10</th>\n",
       "    </tr>\n",
       "  </thead>\n",
       "  <tbody>\n",
       "    <tr>\n",
       "      <th>1</th>\n",
       "      <td>1.000005</td>\n",
       "      <td>1.0</td>\n",
       "      <td>-9.069767</td>\n",
       "      <td>2.000000</td>\n",
       "      <td>0.779851</td>\n",
       "      <td>-6.736842</td>\n",
       "      <td>6.084746</td>\n",
       "      <td>2.318750</td>\n",
       "      <td>1.095238</td>\n",
       "      <td>0.699700</td>\n",
       "      <td>-3.531034</td>\n",
       "      <td>8.931034</td>\n",
       "      <td>-26.866667</td>\n",
       "      <td>2.368421</td>\n",
       "      <td>2.193548</td>\n",
       "      <td>2.383838</td>\n",
       "      <td>1.032258</td>\n",
       "      <td>1.181159</td>\n",
       "      <td>0.289941</td>\n",
       "      <td>1.124620</td>\n",
       "    </tr>\n",
       "    <tr>\n",
       "      <th>2</th>\n",
       "      <td>1.000005</td>\n",
       "      <td>1.0</td>\n",
       "      <td>-0.276923</td>\n",
       "      <td>-0.177632</td>\n",
       "      <td>0.076555</td>\n",
       "      <td>-0.125000</td>\n",
       "      <td>-0.389972</td>\n",
       "      <td>0.000000</td>\n",
       "      <td>-0.310559</td>\n",
       "      <td>-0.038627</td>\n",
       "      <td>0.181641</td>\n",
       "      <td>-0.722008</td>\n",
       "      <td>-0.563275</td>\n",
       "      <td>-0.168254</td>\n",
       "      <td>0.025735</td>\n",
       "      <td>-0.014831</td>\n",
       "      <td>-1.025000</td>\n",
       "      <td>0.392638</td>\n",
       "      <td>-0.877551</td>\n",
       "      <td>0.181081</td>\n",
       "    </tr>\n",
       "    <tr>\n",
       "      <th>3</th>\n",
       "      <td>1.000005</td>\n",
       "      <td>1.0</td>\n",
       "      <td>3.074074</td>\n",
       "      <td>6.518519</td>\n",
       "      <td>-19.125000</td>\n",
       "      <td>6.854167</td>\n",
       "      <td>2.928571</td>\n",
       "      <td>-inf</td>\n",
       "      <td>6.720000</td>\n",
       "      <td>32.777778</td>\n",
       "      <td>-5.204301</td>\n",
       "      <td>0.946524</td>\n",
       "      <td>1.480176</td>\n",
       "      <td>9.113208</td>\n",
       "      <td>-42.571429</td>\n",
       "      <td>40.000000</td>\n",
       "      <td>2.103659</td>\n",
       "      <td>-5.109375</td>\n",
       "      <td>4.034884</td>\n",
       "      <td>-3.626866</td>\n",
       "    </tr>\n",
       "    <tr>\n",
       "      <th>4</th>\n",
       "      <td>1.000005</td>\n",
       "      <td>1.0</td>\n",
       "      <td>0.138554</td>\n",
       "      <td>-1.085227</td>\n",
       "      <td>-1.009804</td>\n",
       "      <td>0.167173</td>\n",
       "      <td>-0.531707</td>\n",
       "      <td>-1.179931</td>\n",
       "      <td>-1.008929</td>\n",
       "      <td>-1.071186</td>\n",
       "      <td>0.161157</td>\n",
       "      <td>0.180791</td>\n",
       "      <td>0.086310</td>\n",
       "      <td>-0.962733</td>\n",
       "      <td>-1.087248</td>\n",
       "      <td>-1.275000</td>\n",
       "      <td>-1.107246</td>\n",
       "      <td>-0.902141</td>\n",
       "      <td>-1.040346</td>\n",
       "      <td>-1.111111</td>\n",
       "    </tr>\n",
       "    <tr>\n",
       "      <th>5</th>\n",
       "      <td>1.000005</td>\n",
       "      <td>1.0</td>\n",
       "      <td>-5.521739</td>\n",
       "      <td>0.442408</td>\n",
       "      <td>1.051780</td>\n",
       "      <td>-2.163636</td>\n",
       "      <td>1.733945</td>\n",
       "      <td>0.387097</td>\n",
       "      <td>0.775811</td>\n",
       "      <td>0.993671</td>\n",
       "      <td>3.410256</td>\n",
       "      <td>-15.500000</td>\n",
       "      <td>-18.103448</td>\n",
       "      <td>0.496774</td>\n",
       "      <td>0.416667</td>\n",
       "      <td>0.358543</td>\n",
       "      <td>0.476440</td>\n",
       "      <td>1.169492</td>\n",
       "      <td>0.905817</td>\n",
       "      <td>1.114815</td>\n",
       "    </tr>\n",
       "    <tr>\n",
       "      <th>...</th>\n",
       "      <td>...</td>\n",
       "      <td>...</td>\n",
       "      <td>...</td>\n",
       "      <td>...</td>\n",
       "      <td>...</td>\n",
       "      <td>...</td>\n",
       "      <td>...</td>\n",
       "      <td>...</td>\n",
       "      <td>...</td>\n",
       "      <td>...</td>\n",
       "      <td>...</td>\n",
       "      <td>...</td>\n",
       "      <td>...</td>\n",
       "      <td>...</td>\n",
       "      <td>...</td>\n",
       "      <td>...</td>\n",
       "      <td>...</td>\n",
       "      <td>...</td>\n",
       "      <td>...</td>\n",
       "      <td>...</td>\n",
       "    </tr>\n",
       "    <tr>\n",
       "      <th>1105</th>\n",
       "      <td>1.000005</td>\n",
       "      <td>1.0</td>\n",
       "      <td>-2.940678</td>\n",
       "      <td>2.093264</td>\n",
       "      <td>0.894081</td>\n",
       "      <td>-1.707182</td>\n",
       "      <td>2.537688</td>\n",
       "      <td>2.215909</td>\n",
       "      <td>1.539130</td>\n",
       "      <td>0.717579</td>\n",
       "      <td>-1.090498</td>\n",
       "      <td>-8.311475</td>\n",
       "      <td>2.912088</td>\n",
       "      <td>2.117117</td>\n",
       "      <td>1.786982</td>\n",
       "      <td>2.708108</td>\n",
       "      <td>1.822917</td>\n",
       "      <td>1.321033</td>\n",
       "      <td>0.786350</td>\n",
       "      <td>0.655462</td>\n",
       "    </tr>\n",
       "    <tr>\n",
       "      <th>1106</th>\n",
       "      <td>1.000005</td>\n",
       "      <td>1.0</td>\n",
       "      <td>-0.645533</td>\n",
       "      <td>-0.457921</td>\n",
       "      <td>0.027875</td>\n",
       "      <td>-0.660194</td>\n",
       "      <td>-0.471287</td>\n",
       "      <td>-0.635897</td>\n",
       "      <td>-0.209040</td>\n",
       "      <td>0.076305</td>\n",
       "      <td>-0.697095</td>\n",
       "      <td>-0.607495</td>\n",
       "      <td>-0.607547</td>\n",
       "      <td>-0.261702</td>\n",
       "      <td>-0.877483</td>\n",
       "      <td>-0.453094</td>\n",
       "      <td>-0.374286</td>\n",
       "      <td>-0.033520</td>\n",
       "      <td>-0.192453</td>\n",
       "      <td>0.371795</td>\n",
       "    </tr>\n",
       "    <tr>\n",
       "      <th>1107</th>\n",
       "      <td>1.000005</td>\n",
       "      <td>1.0</td>\n",
       "      <td>4.803571</td>\n",
       "      <td>5.881081</td>\n",
       "      <td>-95.375000</td>\n",
       "      <td>5.156863</td>\n",
       "      <td>4.932773</td>\n",
       "      <td>4.254032</td>\n",
       "      <td>12.770270</td>\n",
       "      <td>-39.000000</td>\n",
       "      <td>5.964286</td>\n",
       "      <td>3.889610</td>\n",
       "      <td>3.692547</td>\n",
       "      <td>9.365854</td>\n",
       "      <td>4.369811</td>\n",
       "      <td>4.066079</td>\n",
       "      <td>8.198473</td>\n",
       "      <td>67.000000</td>\n",
       "      <td>16.235294</td>\n",
       "      <td>-7.551724</td>\n",
       "    </tr>\n",
       "    <tr>\n",
       "      <th>1108</th>\n",
       "      <td>1.000005</td>\n",
       "      <td>1.0</td>\n",
       "      <td>0.193309</td>\n",
       "      <td>-0.200368</td>\n",
       "      <td>-0.287025</td>\n",
       "      <td>0.264259</td>\n",
       "      <td>-0.143952</td>\n",
       "      <td>-0.138389</td>\n",
       "      <td>-0.277249</td>\n",
       "      <td>-0.336032</td>\n",
       "      <td>0.364271</td>\n",
       "      <td>0.019199</td>\n",
       "      <td>-0.103448</td>\n",
       "      <td>-0.199653</td>\n",
       "      <td>-0.150259</td>\n",
       "      <td>-0.120260</td>\n",
       "      <td>-0.329609</td>\n",
       "      <td>-0.202736</td>\n",
       "      <td>-0.295894</td>\n",
       "      <td>-0.385084</td>\n",
       "    </tr>\n",
       "    <tr>\n",
       "      <th>1109</th>\n",
       "      <td>1.000005</td>\n",
       "      <td>1.0</td>\n",
       "      <td>6.865385</td>\n",
       "      <td>-5.692661</td>\n",
       "      <td>-4.456621</td>\n",
       "      <td>5.312950</td>\n",
       "      <td>-7.360947</td>\n",
       "      <td>-8.369863</td>\n",
       "      <td>-4.328244</td>\n",
       "      <td>-3.698795</td>\n",
       "      <td>4.194521</td>\n",
       "      <td>57.347826</td>\n",
       "      <td>-9.707317</td>\n",
       "      <td>-5.708696</td>\n",
       "      <td>-7.316092</td>\n",
       "      <td>-10.423423</td>\n",
       "      <td>-3.353107</td>\n",
       "      <td>-6.595092</td>\n",
       "      <td>-3.893878</td>\n",
       "      <td>-3.517787</td>\n",
       "    </tr>\n",
       "  </tbody>\n",
       "</table>\n",
       "<p>1109 rows × 20 columns</p>\n",
       "</div>"
      ],
      "text/plain": [
       "      Unnamed: 0  <= 0     Lo 30    Med 40      Hi 30     Lo 20     Qnt 2  \\\n",
       "1       1.000005   1.0 -9.069767  2.000000   0.779851 -6.736842  6.084746   \n",
       "2       1.000005   1.0 -0.276923 -0.177632   0.076555 -0.125000 -0.389972   \n",
       "3       1.000005   1.0  3.074074  6.518519 -19.125000  6.854167  2.928571   \n",
       "4       1.000005   1.0  0.138554 -1.085227  -1.009804  0.167173 -0.531707   \n",
       "5       1.000005   1.0 -5.521739  0.442408   1.051780 -2.163636  1.733945   \n",
       "...          ...   ...       ...       ...        ...       ...       ...   \n",
       "1105    1.000005   1.0 -2.940678  2.093264   0.894081 -1.707182  2.537688   \n",
       "1106    1.000005   1.0 -0.645533 -0.457921   0.027875 -0.660194 -0.471287   \n",
       "1107    1.000005   1.0  4.803571  5.881081 -95.375000  5.156863  4.932773   \n",
       "1108    1.000005   1.0  0.193309 -0.200368  -0.287025  0.264259 -0.143952   \n",
       "1109    1.000005   1.0  6.865385 -5.692661  -4.456621  5.312950 -7.360947   \n",
       "\n",
       "         Qnt 3      Qnt 4      Hi 20     Lo 10      Dec 2      Dec 3  \\\n",
       "1     2.318750   1.095238   0.699700 -3.531034   8.931034 -26.866667   \n",
       "2     0.000000  -0.310559  -0.038627  0.181641  -0.722008  -0.563275   \n",
       "3         -inf   6.720000  32.777778 -5.204301   0.946524   1.480176   \n",
       "4    -1.179931  -1.008929  -1.071186  0.161157   0.180791   0.086310   \n",
       "5     0.387097   0.775811   0.993671  3.410256 -15.500000 -18.103448   \n",
       "...        ...        ...        ...       ...        ...        ...   \n",
       "1105  2.215909   1.539130   0.717579 -1.090498  -8.311475   2.912088   \n",
       "1106 -0.635897  -0.209040   0.076305 -0.697095  -0.607495  -0.607547   \n",
       "1107  4.254032  12.770270 -39.000000  5.964286   3.889610   3.692547   \n",
       "1108 -0.138389  -0.277249  -0.336032  0.364271   0.019199  -0.103448   \n",
       "1109 -8.369863  -4.328244  -3.698795  4.194521  57.347826  -9.707317   \n",
       "\n",
       "         Dec 4      Dec 5      Dec 6     Dec 7      Dec 8      Dec 9     Hi 10  \n",
       "1     2.368421   2.193548   2.383838  1.032258   1.181159   0.289941  1.124620  \n",
       "2    -0.168254   0.025735  -0.014831 -1.025000   0.392638  -0.877551  0.181081  \n",
       "3     9.113208 -42.571429  40.000000  2.103659  -5.109375   4.034884 -3.626866  \n",
       "4    -0.962733  -1.087248  -1.275000 -1.107246  -0.902141  -1.040346 -1.111111  \n",
       "5     0.496774   0.416667   0.358543  0.476440   1.169492   0.905817  1.114815  \n",
       "...        ...        ...        ...       ...        ...        ...       ...  \n",
       "1105  2.117117   1.786982   2.708108  1.822917   1.321033   0.786350  0.655462  \n",
       "1106 -0.261702  -0.877483  -0.453094 -0.374286  -0.033520  -0.192453  0.371795  \n",
       "1107  9.365854   4.369811   4.066079  8.198473  67.000000  16.235294 -7.551724  \n",
       "1108 -0.199653  -0.150259  -0.120260 -0.329609  -0.202736  -0.295894 -0.385084  \n",
       "1109 -5.708696  -7.316092 -10.423423 -3.353107  -6.595092  -3.893878 -3.517787  \n",
       "\n",
       "[1109 rows x 20 columns]"
      ]
     },
     "execution_count": 17,
     "metadata": {},
     "output_type": "execute_result"
    }
   ],
   "source": [
    "returns + 1"
   ]
  },
  {
   "cell_type": "code",
   "execution_count": 18,
   "id": "6d31a5d4-731b-453f-9b68-986dfe599e56",
   "metadata": {},
   "outputs": [
    {
     "data": {
      "text/plain": [
       "Unnamed: 0     1.047792\n",
       "<= 0           1.000000\n",
       "Lo 30               NaN\n",
       "Med 40              NaN\n",
       "Hi 30               NaN\n",
       "Lo 20               NaN\n",
       "Qnt 2        -21.084746\n",
       "Qnt 3               NaN\n",
       "Qnt 4               NaN\n",
       "Hi 20         -2.765766\n",
       "Lo 10         10.558621\n",
       "Dec 2        -45.482759\n",
       "Dec 3         79.600000\n",
       "Dec 4         -9.872180\n",
       "Dec 5        -10.266129\n",
       "Dec 6         -5.843434\n",
       "Dec 7         -7.658065\n",
       "Dec 8         -7.789855\n",
       "Dec 9               NaN\n",
       "Hi 10               NaN\n",
       "dtype: float64"
      ]
     },
     "execution_count": 18,
     "metadata": {},
     "output_type": "execute_result"
    }
   ],
   "source": [
    "np.prod(returns+1)"
   ]
  },
  {
   "cell_type": "code",
   "execution_count": 19,
   "id": "4164b718-e49d-40d0-b1fa-090136718f1f",
   "metadata": {},
   "outputs": [
    {
     "data": {
      "text/plain": [
       "Unnamed: 0     1.047792\n",
       "<= 0           1.000000\n",
       "Lo 30               NaN\n",
       "Med 40              NaN\n",
       "Hi 30               NaN\n",
       "Lo 20               NaN\n",
       "Qnt 2        -21.084746\n",
       "Qnt 3               NaN\n",
       "Qnt 4               NaN\n",
       "Hi 20         -2.765766\n",
       "Lo 10         10.558621\n",
       "Dec 2        -45.482759\n",
       "Dec 3         79.600000\n",
       "Dec 4         -9.872180\n",
       "Dec 5        -10.266129\n",
       "Dec 6         -5.843434\n",
       "Dec 7         -7.658065\n",
       "Dec 8         -7.789855\n",
       "Dec 9               NaN\n",
       "Hi 10               NaN\n",
       "dtype: float64"
      ]
     },
     "execution_count": 19,
     "metadata": {},
     "output_type": "execute_result"
    }
   ],
   "source": [
    "(returns+1).prod()"
   ]
  },
  {
   "cell_type": "code",
   "execution_count": 21,
   "id": "fee98e8c-0014-4428-b333-7d1d9147e769",
   "metadata": {},
   "outputs": [
    {
     "data": {
      "text/plain": [
       "Unnamed: 0     0.000123\n",
       "<= 0           0.000000\n",
       "Lo 30               inf\n",
       "Med 40              inf\n",
       "Hi 30               inf\n",
       "Lo 20               inf\n",
       "Qnt 2         20.533356\n",
       "Qnt 3               NaN\n",
       "Qnt 4               inf\n",
       "Hi 20         27.237347\n",
       "Lo 10         14.197742\n",
       "Dec 2         19.960906\n",
       "Dec 3         21.485871\n",
       "Dec 4         24.958002\n",
       "Dec 5         16.826333\n",
       "Dec 6         12.108895\n",
       "Dec 7         14.258041\n",
       "Dec 8         14.019734\n",
       "Dec 9               NaN\n",
       "Hi 10               inf\n",
       "dtype: float64"
      ]
     },
     "execution_count": 21,
     "metadata": {},
     "output_type": "execute_result"
    }
   ],
   "source": [
    "deviations = returns - returns.mean()\n",
    "squared_deviations = deviations**2\n",
    "mean_squared_deviations = squared_deviations.mean()\n",
    "\n",
    "import numpy as np\n",
    "\n",
    "volatility = np.sqrt(mean_squared_deviations)\n",
    "volatility"
   ]
  },
  {
   "cell_type": "code",
   "execution_count": 24,
   "id": "feb582bf-608a-40a2-8695-7ecbea242e35",
   "metadata": {},
   "outputs": [
    {
     "data": {
      "text/plain": [
       "SmallCap    15.197701\n",
       "LargeCap     9.849021\n",
       "dtype: float64"
      ]
     },
     "execution_count": 24,
     "metadata": {},
     "output_type": "execute_result"
    }
   ],
   "source": [
    "import pandas as pd\n",
    "me_m = pd.read_csv(\"Data/Portfolios_Formed_on_ME_monthly_EW.csv\",\n",
    "                  header =0, index_col = 0, parse_dates=True, na_values=-99.99\n",
    "                  ) # these are already returns in percentage!!\n",
    "rets=me_m[['Lo 20','Hi 20']]\n",
    "rets.columns = ['SmallCap', 'LargeCap']\n",
    "rets = rets/100\n",
    "import numpy as np\n",
    "n = np.shape(rets)\n",
    "(100*((np.prod(1+rets))**(12/n[0])-1))    "
   ]
  },
  {
   "cell_type": "code",
   "execution_count": 26,
   "id": "d9e91a02-c3dd-425a-9429-c1a3fc7f7f06",
   "metadata": {},
   "outputs": [
    {
     "data": {
      "text/plain": [
       "SmallCap    0.336701\n",
       "LargeCap    0.195116\n",
       "dtype: float64"
      ]
     },
     "execution_count": 26,
     "metadata": {},
     "output_type": "execute_result"
    }
   ],
   "source": [
    "annualized_vol = rets.std()*(12**0.5)\n",
    "annualized_vol"
   ]
  },
  {
   "cell_type": "code",
   "execution_count": 28,
   "id": "1f5351ab-d7e9-4b7a-bcc6-9a0eb184e761",
   "metadata": {},
   "outputs": [
    {
     "data": {
      "text/plain": [
       "Int64Index([192607, 192608, 192609, 192610, 192611, 192612, 192701, 192702,\n",
       "            192703, 192704,\n",
       "            ...\n",
       "            201803, 201804, 201805, 201806, 201807, 201808, 201809, 201810,\n",
       "            201811, 201812],\n",
       "           dtype='int64', length=1110)"
      ]
     },
     "execution_count": 28,
     "metadata": {},
     "output_type": "execute_result"
    }
   ],
   "source": [
    "rets.index"
   ]
  },
  {
   "cell_type": "code",
   "execution_count": 29,
   "id": "0c292043-9e38-4e05-a5b6-2893f196c0f7",
   "metadata": {},
   "outputs": [
    {
     "data": {
      "text/plain": [
       "DatetimeIndex(['1926-07-01', '1926-08-01', '1926-09-01', '1926-10-01',\n",
       "               '1926-11-01', '1926-12-01', '1927-01-01', '1927-02-01',\n",
       "               '1927-03-01', '1927-04-01',\n",
       "               ...\n",
       "               '2018-03-01', '2018-04-01', '2018-05-01', '2018-06-01',\n",
       "               '2018-07-01', '2018-08-01', '2018-09-01', '2018-10-01',\n",
       "               '2018-11-01', '2018-12-01'],\n",
       "              dtype='datetime64[ns]', length=1110, freq=None)"
      ]
     },
     "execution_count": 29,
     "metadata": {},
     "output_type": "execute_result"
    }
   ],
   "source": [
    "rets.index = pd.to_datetime(rets.index, format=\"%Y%m\")\n",
    "rets.index"
   ]
  },
  {
   "cell_type": "code",
   "execution_count": 31,
   "id": "feaeed5d-744d-4dae-b085-cdd1ad7a78a6",
   "metadata": {},
   "outputs": [
    {
     "ename": "SyntaxError",
     "evalue": "unexpected EOF while parsing (2993321401.py, line 6)",
     "output_type": "error",
     "traceback": [
      "\u001b[1;36m  Input \u001b[1;32mIn [31]\u001b[1;36m\u001b[0m\n\u001b[1;33m    (100*((np.prod(1+rets))**(12/n[0])-1)[\"1975\":]\u001b[0m\n\u001b[1;37m                                                  ^\u001b[0m\n\u001b[1;31mSyntaxError\u001b[0m\u001b[1;31m:\u001b[0m unexpected EOF while parsing\n"
     ]
    }
   ],
   "source": [
    "rets=me_m[['Lo 20','Hi 20']]\n",
    "rets.columns = ['SmallCap', 'LargeCap']\n",
    "rets = rets/100\n",
    "import numpy as np\n",
    "n = np.shape(rets)\n",
    "(100*((np.prod(1+rets))**(12/n[0])-1)"
   ]
  },
  {
   "cell_type": "code",
   "execution_count": 32,
   "id": "7dc14860-bb0b-4f68-a55f-0f062f2f1d05",
   "metadata": {},
   "outputs": [],
   "source": [
    "returns = pd.read_csv(\"data/Portfolios_Formed_on_ME_monthly_EW.csv\",\n",
    "\n",
    "                      header=0, index_col=0, parse_dates=True,na_values=-99.99)"
   ]
  },
  {
   "cell_type": "code",
   "execution_count": 33,
   "id": "3a60e61b-238c-43d0-99c4-b7dd99f7affa",
   "metadata": {},
   "outputs": [
    {
     "data": {
      "text/html": [
       "<div>\n",
       "<style scoped>\n",
       "    .dataframe tbody tr th:only-of-type {\n",
       "        vertical-align: middle;\n",
       "    }\n",
       "\n",
       "    .dataframe tbody tr th {\n",
       "        vertical-align: top;\n",
       "    }\n",
       "\n",
       "    .dataframe thead th {\n",
       "        text-align: right;\n",
       "    }\n",
       "</style>\n",
       "<table border=\"1\" class=\"dataframe\">\n",
       "  <thead>\n",
       "    <tr style=\"text-align: right;\">\n",
       "      <th></th>\n",
       "      <th>&lt;= 0</th>\n",
       "      <th>Lo 30</th>\n",
       "      <th>Med 40</th>\n",
       "      <th>Hi 30</th>\n",
       "      <th>Lo 20</th>\n",
       "      <th>Qnt 2</th>\n",
       "      <th>Qnt 3</th>\n",
       "      <th>Qnt 4</th>\n",
       "      <th>Hi 20</th>\n",
       "      <th>Lo 10</th>\n",
       "      <th>Dec 2</th>\n",
       "      <th>Dec 3</th>\n",
       "      <th>Dec 4</th>\n",
       "      <th>Dec 5</th>\n",
       "      <th>Dec 6</th>\n",
       "      <th>Dec 7</th>\n",
       "      <th>Dec 8</th>\n",
       "      <th>Dec 9</th>\n",
       "      <th>Hi 10</th>\n",
       "    </tr>\n",
       "  </thead>\n",
       "  <tbody>\n",
       "    <tr>\n",
       "      <th>192607</th>\n",
       "      <td>NaN</td>\n",
       "      <td>-0.43</td>\n",
       "      <td>1.52</td>\n",
       "      <td>2.68</td>\n",
       "      <td>-0.57</td>\n",
       "      <td>0.59</td>\n",
       "      <td>1.60</td>\n",
       "      <td>1.47</td>\n",
       "      <td>3.33</td>\n",
       "      <td>-1.45</td>\n",
       "      <td>0.29</td>\n",
       "      <td>-0.15</td>\n",
       "      <td>1.33</td>\n",
       "      <td>1.24</td>\n",
       "      <td>1.98</td>\n",
       "      <td>1.55</td>\n",
       "      <td>1.38</td>\n",
       "      <td>3.38</td>\n",
       "      <td>3.29</td>\n",
       "    </tr>\n",
       "    <tr>\n",
       "      <th>192608</th>\n",
       "      <td>NaN</td>\n",
       "      <td>3.90</td>\n",
       "      <td>3.04</td>\n",
       "      <td>2.09</td>\n",
       "      <td>3.84</td>\n",
       "      <td>3.59</td>\n",
       "      <td>3.71</td>\n",
       "      <td>1.61</td>\n",
       "      <td>2.33</td>\n",
       "      <td>5.12</td>\n",
       "      <td>2.59</td>\n",
       "      <td>4.03</td>\n",
       "      <td>3.15</td>\n",
       "      <td>2.72</td>\n",
       "      <td>4.72</td>\n",
       "      <td>1.60</td>\n",
       "      <td>1.63</td>\n",
       "      <td>0.98</td>\n",
       "      <td>3.70</td>\n",
       "    </tr>\n",
       "    <tr>\n",
       "      <th>192609</th>\n",
       "      <td>NaN</td>\n",
       "      <td>-1.08</td>\n",
       "      <td>-0.54</td>\n",
       "      <td>0.16</td>\n",
       "      <td>-0.48</td>\n",
       "      <td>-1.40</td>\n",
       "      <td>0.00</td>\n",
       "      <td>-0.50</td>\n",
       "      <td>-0.09</td>\n",
       "      <td>0.93</td>\n",
       "      <td>-1.87</td>\n",
       "      <td>-2.27</td>\n",
       "      <td>-0.53</td>\n",
       "      <td>0.07</td>\n",
       "      <td>-0.07</td>\n",
       "      <td>-1.64</td>\n",
       "      <td>0.64</td>\n",
       "      <td>-0.86</td>\n",
       "      <td>0.67</td>\n",
       "    </tr>\n",
       "    <tr>\n",
       "      <th>192610</th>\n",
       "      <td>NaN</td>\n",
       "      <td>-3.32</td>\n",
       "      <td>-3.52</td>\n",
       "      <td>-3.06</td>\n",
       "      <td>-3.29</td>\n",
       "      <td>-4.10</td>\n",
       "      <td>-2.89</td>\n",
       "      <td>-3.36</td>\n",
       "      <td>-2.95</td>\n",
       "      <td>-4.84</td>\n",
       "      <td>-1.77</td>\n",
       "      <td>-3.36</td>\n",
       "      <td>-4.83</td>\n",
       "      <td>-2.98</td>\n",
       "      <td>-2.80</td>\n",
       "      <td>-3.45</td>\n",
       "      <td>-3.27</td>\n",
       "      <td>-3.47</td>\n",
       "      <td>-2.43</td>\n",
       "    </tr>\n",
       "    <tr>\n",
       "      <th>192611</th>\n",
       "      <td>NaN</td>\n",
       "      <td>-0.46</td>\n",
       "      <td>3.82</td>\n",
       "      <td>3.09</td>\n",
       "      <td>-0.55</td>\n",
       "      <td>2.18</td>\n",
       "      <td>3.41</td>\n",
       "      <td>3.39</td>\n",
       "      <td>3.16</td>\n",
       "      <td>-0.78</td>\n",
       "      <td>-0.32</td>\n",
       "      <td>-0.29</td>\n",
       "      <td>4.65</td>\n",
       "      <td>3.24</td>\n",
       "      <td>3.57</td>\n",
       "      <td>3.82</td>\n",
       "      <td>2.95</td>\n",
       "      <td>3.61</td>\n",
       "      <td>2.70</td>\n",
       "    </tr>\n",
       "    <tr>\n",
       "      <th>...</th>\n",
       "      <td>...</td>\n",
       "      <td>...</td>\n",
       "      <td>...</td>\n",
       "      <td>...</td>\n",
       "      <td>...</td>\n",
       "      <td>...</td>\n",
       "      <td>...</td>\n",
       "      <td>...</td>\n",
       "      <td>...</td>\n",
       "      <td>...</td>\n",
       "      <td>...</td>\n",
       "      <td>...</td>\n",
       "      <td>...</td>\n",
       "      <td>...</td>\n",
       "      <td>...</td>\n",
       "      <td>...</td>\n",
       "      <td>...</td>\n",
       "      <td>...</td>\n",
       "      <td>...</td>\n",
       "    </tr>\n",
       "    <tr>\n",
       "      <th>201808</th>\n",
       "      <td>NaN</td>\n",
       "      <td>3.47</td>\n",
       "      <td>4.04</td>\n",
       "      <td>2.87</td>\n",
       "      <td>3.09</td>\n",
       "      <td>5.05</td>\n",
       "      <td>3.90</td>\n",
       "      <td>3.54</td>\n",
       "      <td>2.49</td>\n",
       "      <td>2.41</td>\n",
       "      <td>5.07</td>\n",
       "      <td>5.30</td>\n",
       "      <td>4.70</td>\n",
       "      <td>3.02</td>\n",
       "      <td>5.01</td>\n",
       "      <td>3.50</td>\n",
       "      <td>3.58</td>\n",
       "      <td>2.65</td>\n",
       "      <td>2.34</td>\n",
       "    </tr>\n",
       "    <tr>\n",
       "      <th>201809</th>\n",
       "      <td>NaN</td>\n",
       "      <td>-2.24</td>\n",
       "      <td>-1.85</td>\n",
       "      <td>0.08</td>\n",
       "      <td>-2.04</td>\n",
       "      <td>-2.38</td>\n",
       "      <td>-2.48</td>\n",
       "      <td>-0.74</td>\n",
       "      <td>0.19</td>\n",
       "      <td>-1.68</td>\n",
       "      <td>-3.08</td>\n",
       "      <td>-3.22</td>\n",
       "      <td>-1.23</td>\n",
       "      <td>-2.65</td>\n",
       "      <td>-2.27</td>\n",
       "      <td>-1.31</td>\n",
       "      <td>-0.12</td>\n",
       "      <td>-0.51</td>\n",
       "      <td>0.87</td>\n",
       "    </tr>\n",
       "    <tr>\n",
       "      <th>201810</th>\n",
       "      <td>NaN</td>\n",
       "      <td>-10.76</td>\n",
       "      <td>-10.88</td>\n",
       "      <td>-7.63</td>\n",
       "      <td>-10.52</td>\n",
       "      <td>-11.74</td>\n",
       "      <td>-10.55</td>\n",
       "      <td>-9.45</td>\n",
       "      <td>-7.41</td>\n",
       "      <td>-10.02</td>\n",
       "      <td>-11.98</td>\n",
       "      <td>-11.89</td>\n",
       "      <td>-11.52</td>\n",
       "      <td>-11.58</td>\n",
       "      <td>-9.23</td>\n",
       "      <td>-10.74</td>\n",
       "      <td>-8.04</td>\n",
       "      <td>-8.28</td>\n",
       "      <td>-6.57</td>\n",
       "    </tr>\n",
       "    <tr>\n",
       "      <th>201811</th>\n",
       "      <td>NaN</td>\n",
       "      <td>-2.08</td>\n",
       "      <td>2.18</td>\n",
       "      <td>2.19</td>\n",
       "      <td>-2.78</td>\n",
       "      <td>1.69</td>\n",
       "      <td>1.46</td>\n",
       "      <td>2.62</td>\n",
       "      <td>2.49</td>\n",
       "      <td>-3.65</td>\n",
       "      <td>-0.23</td>\n",
       "      <td>1.23</td>\n",
       "      <td>2.30</td>\n",
       "      <td>1.74</td>\n",
       "      <td>1.11</td>\n",
       "      <td>3.54</td>\n",
       "      <td>1.63</td>\n",
       "      <td>2.45</td>\n",
       "      <td>2.53</td>\n",
       "    </tr>\n",
       "    <tr>\n",
       "      <th>201812</th>\n",
       "      <td>NaN</td>\n",
       "      <td>-14.28</td>\n",
       "      <td>-12.41</td>\n",
       "      <td>-9.76</td>\n",
       "      <td>-14.77</td>\n",
       "      <td>-12.44</td>\n",
       "      <td>-12.22</td>\n",
       "      <td>-11.34</td>\n",
       "      <td>-9.21</td>\n",
       "      <td>-15.31</td>\n",
       "      <td>-13.19</td>\n",
       "      <td>-11.94</td>\n",
       "      <td>-13.13</td>\n",
       "      <td>-12.73</td>\n",
       "      <td>-11.57</td>\n",
       "      <td>-11.87</td>\n",
       "      <td>-10.75</td>\n",
       "      <td>-9.54</td>\n",
       "      <td>-8.90</td>\n",
       "    </tr>\n",
       "  </tbody>\n",
       "</table>\n",
       "<p>1110 rows × 19 columns</p>\n",
       "</div>"
      ],
      "text/plain": [
       "        <= 0  Lo 30  Med 40  Hi 30  Lo 20  Qnt 2  Qnt 3  Qnt 4  Hi 20  Lo 10  \\\n",
       "192607   NaN  -0.43    1.52   2.68  -0.57   0.59   1.60   1.47   3.33  -1.45   \n",
       "192608   NaN   3.90    3.04   2.09   3.84   3.59   3.71   1.61   2.33   5.12   \n",
       "192609   NaN  -1.08   -0.54   0.16  -0.48  -1.40   0.00  -0.50  -0.09   0.93   \n",
       "192610   NaN  -3.32   -3.52  -3.06  -3.29  -4.10  -2.89  -3.36  -2.95  -4.84   \n",
       "192611   NaN  -0.46    3.82   3.09  -0.55   2.18   3.41   3.39   3.16  -0.78   \n",
       "...      ...    ...     ...    ...    ...    ...    ...    ...    ...    ...   \n",
       "201808   NaN   3.47    4.04   2.87   3.09   5.05   3.90   3.54   2.49   2.41   \n",
       "201809   NaN  -2.24   -1.85   0.08  -2.04  -2.38  -2.48  -0.74   0.19  -1.68   \n",
       "201810   NaN -10.76  -10.88  -7.63 -10.52 -11.74 -10.55  -9.45  -7.41 -10.02   \n",
       "201811   NaN  -2.08    2.18   2.19  -2.78   1.69   1.46   2.62   2.49  -3.65   \n",
       "201812   NaN -14.28  -12.41  -9.76 -14.77 -12.44 -12.22 -11.34  -9.21 -15.31   \n",
       "\n",
       "        Dec 2  Dec 3  Dec 4  Dec 5  Dec 6  Dec 7  Dec 8  Dec 9  Hi 10  \n",
       "192607   0.29  -0.15   1.33   1.24   1.98   1.55   1.38   3.38   3.29  \n",
       "192608   2.59   4.03   3.15   2.72   4.72   1.60   1.63   0.98   3.70  \n",
       "192609  -1.87  -2.27  -0.53   0.07  -0.07  -1.64   0.64  -0.86   0.67  \n",
       "192610  -1.77  -3.36  -4.83  -2.98  -2.80  -3.45  -3.27  -3.47  -2.43  \n",
       "192611  -0.32  -0.29   4.65   3.24   3.57   3.82   2.95   3.61   2.70  \n",
       "...       ...    ...    ...    ...    ...    ...    ...    ...    ...  \n",
       "201808   5.07   5.30   4.70   3.02   5.01   3.50   3.58   2.65   2.34  \n",
       "201809  -3.08  -3.22  -1.23  -2.65  -2.27  -1.31  -0.12  -0.51   0.87  \n",
       "201810 -11.98 -11.89 -11.52 -11.58  -9.23 -10.74  -8.04  -8.28  -6.57  \n",
       "201811  -0.23   1.23   2.30   1.74   1.11   3.54   1.63   2.45   2.53  \n",
       "201812 -13.19 -11.94 -13.13 -12.73 -11.57 -11.87 -10.75  -9.54  -8.90  \n",
       "\n",
       "[1110 rows x 19 columns]"
      ]
     },
     "execution_count": 33,
     "metadata": {},
     "output_type": "execute_result"
    }
   ],
   "source": [
    "returns"
   ]
  },
  {
   "cell_type": "code",
   "execution_count": 34,
   "id": "20fc5b3c-8694-41e8-bc3e-3fc0aa429192",
   "metadata": {},
   "outputs": [
    {
     "data": {
      "text/plain": [
       "Lo 20    0.336701\n",
       "Hi 20    0.195116\n",
       "dtype: float64"
      ]
     },
     "execution_count": 34,
     "metadata": {},
     "output_type": "execute_result"
    }
   ],
   "source": [
    "columns = ['Lo 20', 'Hi 20'] \n",
    "\n",
    "returns = returns[columns] \n",
    "\n",
    "returns\n",
    "\n",
    "returns = returns/100 \n",
    "\n",
    "returns\n",
    "\n",
    "returns.index = pd.to_datetime(rets.index, format = \"%Y%m\") \n",
    "\n",
    "returns.head() \n",
    "\n",
    "returns.index= rets.index.to_period('M') \n",
    "\n",
    "returns\n",
    "\n",
    "n_months = returns.shape[0] \n",
    "\n",
    "return_per_month = (returns+1).prod()**(1/n_months)-1 \n",
    "\n",
    "return_per_month\n",
    "\n",
    "annualised_return = (return_per_month+1)**12-1 \n",
    "\n",
    "annualised_return \n",
    "\n",
    "import numpy as np \n",
    "\n",
    "annualised_vol = returns.std()*np.sqrt(12) \n",
    "\n",
    "annualised_vol"
   ]
  },
  {
   "cell_type": "code",
   "execution_count": 35,
   "id": "fca8b234-e830-46e6-8f3e-3471d5b515af",
   "metadata": {},
   "outputs": [
    {
     "data": {
      "text/plain": [
       "Series([], dtype: float64)"
      ]
     },
     "execution_count": 35,
     "metadata": {},
     "output_type": "execute_result"
    }
   ],
   "source": [
    "annualised_vol['1999':'2015']"
   ]
  },
  {
   "cell_type": "code",
   "execution_count": 36,
   "id": "5fca12c5-5d16-49c2-bab9-d19d8d1421cc",
   "metadata": {},
   "outputs": [
    {
     "data": {
      "text/plain": [
       "Series([], dtype: float64)"
      ]
     },
     "execution_count": 36,
     "metadata": {},
     "output_type": "execute_result"
    }
   ],
   "source": [
    "annualised_vol['1999':'2015']"
   ]
  },
  {
   "cell_type": "code",
   "execution_count": 37,
   "id": "dafb91c9-ded0-46bf-8684-00df23f098d7",
   "metadata": {},
   "outputs": [
    {
     "data": {
      "text/plain": [
       "DatetimeIndex(['1926-07-01', '1926-08-01', '1926-09-01', '1926-10-01',\n",
       "               '1926-11-01', '1926-12-01', '1927-01-01', '1927-02-01',\n",
       "               '1927-03-01', '1927-04-01',\n",
       "               ...\n",
       "               '2018-03-01', '2018-04-01', '2018-05-01', '2018-06-01',\n",
       "               '2018-07-01', '2018-08-01', '2018-09-01', '2018-10-01',\n",
       "               '2018-11-01', '2018-12-01'],\n",
       "              dtype='datetime64[ns]', length=1110, freq=None)"
      ]
     },
     "execution_count": 37,
     "metadata": {},
     "output_type": "execute_result"
    }
   ],
   "source": [
    "rets.index"
   ]
  },
  {
   "cell_type": "code",
   "execution_count": 38,
   "id": "992e3a17-e63c-42b9-9196-19bd72a79a7b",
   "metadata": {},
   "outputs": [
    {
     "data": {
      "text/plain": [
       "DatetimeIndex(['1926-07-01', '1926-08-01', '1926-09-01', '1926-10-01',\n",
       "               '1926-11-01', '1926-12-01', '1927-01-01', '1927-02-01',\n",
       "               '1927-03-01', '1927-04-01',\n",
       "               ...\n",
       "               '2018-03-01', '2018-04-01', '2018-05-01', '2018-06-01',\n",
       "               '2018-07-01', '2018-08-01', '2018-09-01', '2018-10-01',\n",
       "               '2018-11-01', '2018-12-01'],\n",
       "              dtype='datetime64[ns]', length=1110, freq=None)"
      ]
     },
     "execution_count": 38,
     "metadata": {},
     "output_type": "execute_result"
    }
   ],
   "source": [
    "rets.index = pd.to_datetime(rets.index, format=\"%Y%m\")\n",
    "rets.index\n"
   ]
  },
  {
   "cell_type": "code",
   "execution_count": 39,
   "id": "e2e1857e-5200-4a96-8638-6360112f821a",
   "metadata": {},
   "outputs": [
    {
     "data": {
      "text/plain": [
       "<AxesSubplot:>"
      ]
     },
     "execution_count": 39,
     "metadata": {},
     "output_type": "execute_result"
    },
    {
     "data": {
      "image/png": "[encoded data removed]",
      "text/plain": [
       "<Figure size 432x288 with 1 Axes>"
      ]
     },
     "metadata": {
      "needs_background": "light"
     },
     "output_type": "display_data"
    }
   ],
   "source": [
    "rets.plot()"
   ]
  },
  {
   "cell_type": "code",
   "execution_count": 44,
   "id": "7246ea3d-61af-4163-b281-41a313832ced",
   "metadata": {},
   "outputs": [
    {
     "data": {
      "text/plain": [
       "Series([], dtype: float64)"
      ]
     },
     "execution_count": 44,
     "metadata": {},
     "output_type": "execute_result"
    }
   ],
   "source": [
    "annualised_vol['1999':]"
   ]
  },
  {
   "cell_type": "code",
   "execution_count": 45,
   "id": "e8b2f9cc-5933-4bb8-bea7-d1fb6dc7f6c2",
   "metadata": {},
   "outputs": [
    {
     "data": {
      "text/plain": [
       "Series([], dtype: float64)"
      ]
     },
     "execution_count": 45,
     "metadata": {},
     "output_type": "execute_result"
    }
   ],
   "source": [
    "annualised_return['1999-01':'2015-12']\n",
    "\n"
   ]
  },
  {
   "cell_type": "code",
   "execution_count": 46,
   "id": "b9cccbcb-25b1-4bd8-a247-8963a000b023",
   "metadata": {},
   "outputs": [],
   "source": [
    "  rets = rets.loc['1991-01-01':'2015-12-01']  "
   ]
  },
  {
   "cell_type": "code",
   "execution_count": 47,
   "id": "d8fc9db8-26df-487d-8a83-5ab4e38c6c57",
   "metadata": {},
   "outputs": [],
   "source": [
    "rets = rets/100"
   ]
  },
  {
   "cell_type": "code",
   "execution_count": 49,
   "id": "7f1dc663-392b-4824-94e4-90c923902208",
   "metadata": {},
   "outputs": [],
   "source": [
    "rets = rets.loc['1991-01-01':'2015-12-01']  "
   ]
  },
  {
   "cell_type": "code",
   "execution_count": 50,
   "id": "e6839543-1cf8-4037-8c4c-0a571a21af41",
   "metadata": {},
   "outputs": [
    {
     "data": {
      "text/plain": [
       "Series([], dtype: float64)"
      ]
     },
     "execution_count": 50,
     "metadata": {},
     "output_type": "execute_result"
    }
   ],
   "source": [
    "annualised_return['1999-01':'2015-12']"
   ]
  },
  {
   "cell_type": "code",
   "execution_count": 53,
   "id": "d6f05fd8-cc28-4834-ab86-c8e3f2a30ab5",
   "metadata": {},
   "outputs": [
    {
     "data": {
      "text/plain": [
       "Lo 20    0.228894\n",
       "Hi 20    0.172713\n",
       "dtype: float64"
      ]
     },
     "execution_count": 53,
     "metadata": {},
     "output_type": "execute_result"
    }
   ],
   "source": [
    "import pandas as pd\n",
    "\n",
    "me_m = pd.read_csv(\"Data/Portfolios_Formed_on_ME_monthly_EW.csv\",\n",
    "\n",
    "                     header=0, index_col=0, parse_dates=True, na_values=-99.99)\n",
    "\n",
    "returns = me_m[['Lo 20', 'Hi 20']]\n",
    "\n",
    "returns = returns/100\n",
    "\n",
    "returns = returns.loc['1999-1':'2016-1']\n",
    "\n",
    "n_months = returns.shape[0]\n",
    "\n",
    "annualized_return = (returns+1).prod()**(12/n_months) - 1\n",
    "\n",
    "annualized_return\n",
    "\n",
    "import numpy as np\n",
    "\n",
    "annualized_vol =returns.std()*np.sqrt(12)\n",
    "\n",
    "annualized_vol\n",
    "\n"
   ]
  },
  {
   "cell_type": "code",
   "execution_count": 54,
   "id": "ff7f6fd9-92e2-4da2-9cd1-d2253883a234",
   "metadata": {},
   "outputs": [
    {
     "ename": "SyntaxError",
     "evalue": "EOL while scanning string literal (2944540276.py, line 1)",
     "output_type": "error",
     "traceback": [
      "\u001b[1;36m  Input \u001b[1;32mIn [54]\u001b[1;36m\u001b[0m\n\u001b[1;33m    returns = returns.loc['1999':'2015'']\u001b[0m\n\u001b[1;37m                                         ^\u001b[0m\n\u001b[1;31mSyntaxError\u001b[0m\u001b[1;31m:\u001b[0m EOL while scanning string literal\n"
     ]
    }
   ],
   "source": [
    "returns = returns.loc['1999':'2015'']"
   ]
  },
  {
   "cell_type": "code",
   "execution_count": 55,
   "id": "277fe957-f9a7-49ed-b8e5-76c3a25ec83f",
   "metadata": {},
   "outputs": [],
   "source": [
    "rets = rets.loc['1999':'2015']"
   ]
  },
  {
   "cell_type": "code",
   "execution_count": 56,
   "id": "da63ff72-34f0-4866-ab86-f807a62257af",
   "metadata": {},
   "outputs": [
    {
     "data": {
      "text/html": [
       "<div>\n",
       "<style scoped>\n",
       "    .dataframe tbody tr th:only-of-type {\n",
       "        vertical-align: middle;\n",
       "    }\n",
       "\n",
       "    .dataframe tbody tr th {\n",
       "        vertical-align: top;\n",
       "    }\n",
       "\n",
       "    .dataframe thead th {\n",
       "        text-align: right;\n",
       "    }\n",
       "</style>\n",
       "<table border=\"1\" class=\"dataframe\">\n",
       "  <thead>\n",
       "    <tr style=\"text-align: right;\">\n",
       "      <th></th>\n",
       "      <th>SmallCap</th>\n",
       "      <th>LargeCap</th>\n",
       "    </tr>\n",
       "  </thead>\n",
       "  <tbody>\n",
       "    <tr>\n",
       "      <th>1999-01-01</th>\n",
       "      <td>0.001114</td>\n",
       "      <td>0.000153</td>\n",
       "    </tr>\n",
       "    <tr>\n",
       "      <th>1999-02-01</th>\n",
       "      <td>-0.000399</td>\n",
       "      <td>-0.000172</td>\n",
       "    </tr>\n",
       "    <tr>\n",
       "      <th>1999-03-01</th>\n",
       "      <td>-0.000308</td>\n",
       "      <td>0.000368</td>\n",
       "    </tr>\n",
       "    <tr>\n",
       "      <th>1999-04-01</th>\n",
       "      <td>0.000824</td>\n",
       "      <td>0.000679</td>\n",
       "    </tr>\n",
       "    <tr>\n",
       "      <th>1999-05-01</th>\n",
       "      <td>0.000435</td>\n",
       "      <td>-0.000048</td>\n",
       "    </tr>\n",
       "    <tr>\n",
       "      <th>...</th>\n",
       "      <td>...</td>\n",
       "      <td>...</td>\n",
       "    </tr>\n",
       "    <tr>\n",
       "      <th>2015-08-01</th>\n",
       "      <td>-0.000347</td>\n",
       "      <td>-0.000559</td>\n",
       "    </tr>\n",
       "    <tr>\n",
       "      <th>2015-09-01</th>\n",
       "      <td>-0.000610</td>\n",
       "      <td>-0.000333</td>\n",
       "    </tr>\n",
       "    <tr>\n",
       "      <th>2015-10-01</th>\n",
       "      <td>0.000385</td>\n",
       "      <td>0.000710</td>\n",
       "    </tr>\n",
       "    <tr>\n",
       "      <th>2015-11-01</th>\n",
       "      <td>0.000165</td>\n",
       "      <td>0.000015</td>\n",
       "    </tr>\n",
       "    <tr>\n",
       "      <th>2015-12-01</th>\n",
       "      <td>-0.000500</td>\n",
       "      <td>-0.000229</td>\n",
       "    </tr>\n",
       "  </tbody>\n",
       "</table>\n",
       "<p>204 rows × 2 columns</p>\n",
       "</div>"
      ],
      "text/plain": [
       "            SmallCap  LargeCap\n",
       "1999-01-01  0.001114  0.000153\n",
       "1999-02-01 -0.000399 -0.000172\n",
       "1999-03-01 -0.000308  0.000368\n",
       "1999-04-01  0.000824  0.000679\n",
       "1999-05-01  0.000435 -0.000048\n",
       "...              ...       ...\n",
       "2015-08-01 -0.000347 -0.000559\n",
       "2015-09-01 -0.000610 -0.000333\n",
       "2015-10-01  0.000385  0.000710\n",
       "2015-11-01  0.000165  0.000015\n",
       "2015-12-01 -0.000500 -0.000229\n",
       "\n",
       "[204 rows x 2 columns]"
      ]
     },
     "execution_count": 56,
     "metadata": {},
     "output_type": "execute_result"
    }
   ],
   "source": [
    "rets"
   ]
  },
  {
   "cell_type": "code",
   "execution_count": 58,
   "id": "5c13cfe4-67b1-4e4e-9653-aed8d3d66a7c",
   "metadata": {},
   "outputs": [],
   "source": [
    "returns = returns.loc['1999':'2015']"
   ]
  },
  {
   "cell_type": "code",
   "execution_count": 59,
   "id": "c86796a1-afe7-475b-8c07-31209d3f7a4e",
   "metadata": {},
   "outputs": [
    {
     "data": {
      "text/plain": [
       "Lo 20    0.114426\n",
       "Hi 20    0.062865\n",
       "dtype: float64"
      ]
     },
     "execution_count": 59,
     "metadata": {},
     "output_type": "execute_result"
    }
   ],
   "source": [
    "me_m = pd.read_csv(\"Data/Portfolios_Formed_on_ME_monthly_EW.csv\",\n",
    "\n",
    "                     header=0, index_col=0, parse_dates=True, na_values=-99.99)\n",
    "\n",
    "returns = me_m[['Lo 20', 'Hi 20']]\n",
    "\n",
    "returns = returns/100\n",
    "\n",
    "returns = returns.loc['1999-1':'2016-1']\n",
    "\n",
    "n_months = returns.shape[0]\n",
    "\n",
    "annualized_return = (returns+1).prod()**(12/n_months) - 1\n",
    "\n",
    "annualized_return"
   ]
  },
  {
   "cell_type": "code",
   "execution_count": 60,
   "id": "51754ed9-9edf-40b5-94f0-718e741fd59d",
   "metadata": {},
   "outputs": [
    {
     "data": {
      "text/plain": [
       "<AxesSubplot:>"
      ]
     },
     "execution_count": 60,
     "metadata": {},
     "output_type": "execute_result"
    },
    {
     "data": {
      "image/png": "[encoded data removed]",
      "text/plain": [
       "<Figure size 432x288 with 1 Axes>"
      ]
     },
     "metadata": {
      "needs_background": "light"
     },
     "output_type": "display_data"
    }
   ],
   "source": [
    "wealth_index = 1000*(1+rets[\"LargeCap\"]).cumprod()\n",
    "wealth_index.plot()"
   ]
  },
  {
   "cell_type": "code",
   "execution_count": 61,
   "id": "85153486-14cb-440a-b0f0-931f88a23179",
   "metadata": {},
   "outputs": [
    {
     "data": {
      "text/plain": [
       "<AxesSubplot:>"
      ]
     },
     "execution_count": 61,
     "metadata": {},
     "output_type": "execute_result"
    },
    {
     "data": {
      "image/png": "[encoded data removed]",
      "text/plain": [
       "<Figure size 432x288 with 1 Axes>"
      ]
     },
     "metadata": {
      "needs_background": "light"
     },
     "output_type": "display_data"
    }
   ],
   "source": [
    "previous_peaks = wealth_index.cummax()\n",
    "previous_peaks.plot()"
   ]
  },
  {
   "cell_type": "code",
   "execution_count": 62,
   "id": "d95f9737-26ce-4b93-a8ea-7e5e4cc25204",
   "metadata": {},
   "outputs": [
    {
     "data": {
      "text/plain": [
       "<AxesSubplot:>"
      ]
     },
     "execution_count": 62,
     "metadata": {},
     "output_type": "execute_result"
    },
    {
     "data": {
      "image/png": "[encoded data removed]",
      "text/plain": [
       "<Figure size 432x288 with 1 Axes>"
      ]
     },
     "metadata": {
      "needs_background": "light"
     },
     "output_type": "display_data"
    }
   ],
   "source": [
    "drawdown = (wealth_index - previous_peaks)/previous_peaks\n",
    "drawdown.plot()"
   ]
  },
  {
   "cell_type": "code",
   "execution_count": 70,
   "id": "79803fe7-92f3-4e16-b661-5e5671c6cb72",
   "metadata": {},
   "outputs": [
    {
     "data": {
      "text/plain": [
       "<AxesSubplot:>"
      ]
     },
     "execution_count": 70,
     "metadata": {},
     "output_type": "execute_result"
    },
    {
     "data": {
      "image/png": "[encoded data removed]",
      "text/plain": [
       "<Figure size 432x288 with 1 Axes>"
      ]
     },
     "metadata": {
      "needs_background": "light"
     },
     "output_type": "display_data"
    }
   ],
   "source": [
    "drawdown[\"2009\":].plot()"
   ]
  },
  {
   "cell_type": "code",
   "execution_count": 72,
   "id": "6242eac9-ab83-42a9-9706-a91c8f7a7a2a",
   "metadata": {},
   "outputs": [
    {
     "data": {
      "text/plain": [
       "<AxesSubplot:>"
      ]
     },
     "execution_count": 72,
     "metadata": {},
     "output_type": "execute_result"
    },
    {
     "data": {
      "image/png": "[encoded data removed]",
      "text/plain": [
       "<Figure size 432x288 with 1 Axes>"
      ]
     },
     "metadata": {
      "needs_background": "light"
     },
     "output_type": "display_data"
    }
   ],
   "source": [
    "wealth_index = 1000*(1+rets[\"SmallCap\"]).cumprod()\n",
    "wealth_index.plot()"
   ]
  },
  {
   "cell_type": "code",
   "execution_count": 75,
   "id": "937eed44-eaea-4839-b38a-df4e330eaa11",
   "metadata": {},
   "outputs": [
    {
     "data": {
      "text/plain": [
       "<AxesSubplot:>"
      ]
     },
     "execution_count": 75,
     "metadata": {},
     "output_type": "execute_result"
    },
    {
     "data": {
      "image/png": "[encoded data removed]",
      "text/plain": [
       "<Figure size 432x288 with 1 Axes>"
      ]
     },
     "metadata": {
      "needs_background": "light"
     },
     "output_type": "display_data"
    }
   ],
   "source": [
    "drawdown[\"2009\":].plot()"
   ]
  },
  {
   "cell_type": "code",
   "execution_count": 76,
   "id": "d24d6c6b-9c5c-407b-9c26-c02250eb3db9",
   "metadata": {},
   "outputs": [
    {
     "data": {
      "text/plain": [
       "-0.007472936778967993"
      ]
     },
     "execution_count": 76,
     "metadata": {},
     "output_type": "execute_result"
    }
   ],
   "source": [
    "drawdown[\"2009\":].min()"
   ]
  },
  {
   "cell_type": "code",
   "execution_count": 77,
   "id": "691f1eab-9a7e-4334-b63b-f57bf21b55cc",
   "metadata": {},
   "outputs": [],
   "source": [
    "drawdowns = (wealth_index - previous_peaks)/previous_peaks"
   ]
  },
  {
   "cell_type": "code",
   "execution_count": 81,
   "id": "3818b6c9-5f0b-4bfe-8aea-2887788a9ddb",
   "metadata": {},
   "outputs": [
    {
     "data": {
      "text/plain": [
       "<AxesSubplot:>"
      ]
     },
     "execution_count": 81,
     "metadata": {},
     "output_type": "execute_result"
    },
    {
     "data": {
      "image/png": "[encoded data removed]",
      "text/plain": [
       "<Figure size 432x288 with 1 Axes>"
      ]
     },
     "metadata": {
      "needs_background": "light"
     },
     "output_type": "display_data"
    }
   ],
   "source": [
    "rets = me_m[['Lo 20', 'Hi 20']]\n",
    "rets.columns = ['SmallCap', 'LargeCap']\n",
    "rets = rets/100\n",
    "rets.plot.line()"
   ]
  },
  {
   "cell_type": "code",
   "execution_count": 85,
   "id": "e21bf12b-07d6-4833-9fb2-e53d5dd86106",
   "metadata": {},
   "outputs": [
    {
     "data": {
      "text/html": [
       "<div>\n",
       "<style scoped>\n",
       "    .dataframe tbody tr th:only-of-type {\n",
       "        vertical-align: middle;\n",
       "    }\n",
       "\n",
       "    .dataframe tbody tr th {\n",
       "        vertical-align: top;\n",
       "    }\n",
       "\n",
       "    .dataframe thead th {\n",
       "        text-align: right;\n",
       "    }\n",
       "</style>\n",
       "<table border=\"1\" class=\"dataframe\">\n",
       "  <thead>\n",
       "    <tr style=\"text-align: right;\">\n",
       "      <th></th>\n",
       "      <th>Wealth</th>\n",
       "      <th>Previous Peak</th>\n",
       "      <th>Drawdown</th>\n",
       "    </tr>\n",
       "  </thead>\n",
       "  <tbody>\n",
       "    <tr>\n",
       "      <th>192607</th>\n",
       "      <td>994.300000</td>\n",
       "      <td>994.30000</td>\n",
       "      <td>0.000000</td>\n",
       "    </tr>\n",
       "    <tr>\n",
       "      <th>192608</th>\n",
       "      <td>1032.481120</td>\n",
       "      <td>1032.48112</td>\n",
       "      <td>0.000000</td>\n",
       "    </tr>\n",
       "    <tr>\n",
       "      <th>192609</th>\n",
       "      <td>1027.525211</td>\n",
       "      <td>1032.48112</td>\n",
       "      <td>-0.004800</td>\n",
       "    </tr>\n",
       "    <tr>\n",
       "      <th>192610</th>\n",
       "      <td>993.719631</td>\n",
       "      <td>1032.48112</td>\n",
       "      <td>-0.037542</td>\n",
       "    </tr>\n",
       "    <tr>\n",
       "      <th>192611</th>\n",
       "      <td>988.254173</td>\n",
       "      <td>1032.48112</td>\n",
       "      <td>-0.042836</td>\n",
       "    </tr>\n",
       "  </tbody>\n",
       "</table>\n",
       "</div>"
      ],
      "text/plain": [
       "             Wealth  Previous Peak  Drawdown\n",
       "192607   994.300000      994.30000  0.000000\n",
       "192608  1032.481120     1032.48112  0.000000\n",
       "192609  1027.525211     1032.48112 -0.004800\n",
       "192610   993.719631     1032.48112 -0.037542\n",
       "192611   988.254173     1032.48112 -0.042836"
      ]
     },
     "execution_count": 85,
     "metadata": {},
     "output_type": "execute_result"
    }
   ],
   "source": [
    "def drawdown(return_series: pd.Series):\n",
    "    \"\"\"Takes a time series of asset returns.\n",
    "       returns a DataFrame with columns for\n",
    "       the wealth index, \n",
    "       the previous peaks, and \n",
    "       the percentage drawdown\n",
    "    \"\"\"\n",
    "    wealth_index = 1000*(1+return_series).cumprod()\n",
    "    previous_peaks = wealth_index.cummax()\n",
    "    drawdowns = (wealth_index - previous_peaks)/previous_peaks\n",
    "    return pd.DataFrame({\"Wealth\": wealth_index, \n",
    "                         \"Previous Peak\": previous_peaks, \n",
    "                         \"Drawdown\": drawdowns})\n",
    "\n",
    "drawdown(rets[\"SmallCap\"]).head()"
   ]
  },
  {
   "cell_type": "code",
   "execution_count": 86,
   "id": "d0199664-df2d-4db4-a0d6-c39ea4981409",
   "metadata": {},
   "outputs": [
    {
     "data": {
      "text/plain": [
       "Wealth           321.764425\n",
       "Previous Peak    994.300000\n",
       "Drawdown          -0.867228\n",
       "dtype: float64"
      ]
     },
     "execution_count": 86,
     "metadata": {},
     "output_type": "execute_result"
    }
   ],
   "source": [
    "drawdown(rets[\"SmallCap\"]).min()"
   ]
  },
  {
   "cell_type": "code",
   "execution_count": 88,
   "id": "fe14deab-418f-459f-8f24-532bf3b373b2",
   "metadata": {},
   "outputs": [
    {
     "data": {
      "text/plain": [
       "Int64Index([192607, 192608, 192609, 192610, 192611, 192612, 192701, 192702,\n",
       "            192703, 192704,\n",
       "            ...\n",
       "            201803, 201804, 201805, 201806, 201807, 201808, 201809, 201810,\n",
       "            201811, 201812],\n",
       "           dtype='int64', length=1110)"
      ]
     },
     "execution_count": 88,
     "metadata": {},
     "output_type": "execute_result"
    }
   ],
   "source": [
    "rets.index"
   ]
  },
  {
   "cell_type": "code",
   "execution_count": 89,
   "id": "bcc5002a-0da3-4512-b805-ed175b1a3cb8",
   "metadata": {},
   "outputs": [
    {
     "data": {
      "text/plain": [
       "DatetimeIndex(['1926-07-01', '1926-08-01', '1926-09-01', '1926-10-01',\n",
       "               '1926-11-01', '1926-12-01', '1927-01-01', '1927-02-01',\n",
       "               '1927-03-01', '1927-04-01',\n",
       "               ...\n",
       "               '2018-03-01', '2018-04-01', '2018-05-01', '2018-06-01',\n",
       "               '2018-07-01', '2018-08-01', '2018-09-01', '2018-10-01',\n",
       "               '2018-11-01', '2018-12-01'],\n",
       "              dtype='datetime64[ns]', length=1110, freq=None)"
      ]
     },
     "execution_count": 89,
     "metadata": {},
     "output_type": "execute_result"
    }
   ],
   "source": [
    "rets.index = pd.to_datetime(rets.index, format=\"%Y%m\")\n",
    "rets.index"
   ]
  },
  {
   "cell_type": "code",
   "execution_count": 96,
   "id": "72a155c2-76c8-441a-baab-5717f5faf11f",
   "metadata": {},
   "outputs": [
    {
     "data": {
      "text/plain": [
       "Timestamp('2009-02-01 00:00:00')"
      ]
     },
     "execution_count": 96,
     "metadata": {},
     "output_type": "execute_result"
    }
   ],
   "source": [
    "drawdown(rets[\"LargeCap\"])[\"Drawdown\"]['1999':'2015'].idxmin()"
   ]
  },
  {
   "cell_type": "code",
   "execution_count": 97,
   "id": "170141f2-a613-4c9c-a1b8-393c0d65d6f9",
   "metadata": {},
   "outputs": [
    {
     "data": {
      "text/plain": [
       "<AxesSubplot:>"
      ]
     },
     "execution_count": 97,
     "metadata": {},
     "output_type": "execute_result"
    },
    {
     "data": {
      "image/png": "[encoded data removed]",
      "text/plain": [
       "<Figure size 432x288 with 1 Axes>"
      ]
     },
     "metadata": {
      "needs_background": "light"
     },
     "output_type": "display_data"
    }
   ],
   "source": [
    "wealth_index = 1000*(1+rets[\"LargeCap\"]).cumprod()\n",
    "wealth_index.plot()"
   ]
  }
 ],
 "metadata": {
  "kernelspec": {
   "display_name": "Python 3 (ipykernel)",
   "language": "python",
   "name": "python3"
  },
  "language_info": {
   "codemirror_mode": {
    "name": "ipython",
    "version": 3
   },
   "file_extension": ".py",
   "mimetype": "text/x-python",
   "name": "python",
   "nbconvert_exporter": "python",
   "pygments_lexer": "ipython3",
   "version": "3.9.12"
  }
 },
 "nbformat": 4,
 "nbformat_minor": 5
}
